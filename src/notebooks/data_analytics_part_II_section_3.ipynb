{
 "cells": [
  {
   "cell_type": "markdown",
   "metadata": {},
   "source": [
    "# Import libraries"
   ]
  },
  {
   "cell_type": "code",
   "execution_count": 1,
   "metadata": {},
   "outputs": [],
   "source": [
    "import os\n",
    "import numpy as np\n",
    "import pandas as pd\n",
    "import matplotlib.pyplot as plt\n",
    "\n",
    "from utils import visualize_tsne_model\n",
    "\n",
    "from sklearn.decomposition import PCA\n",
    "from sklearn.manifold import TSNE\n",
    "from sklearn.metrics import pairwise_distances"
   ]
  },
  {
   "cell_type": "markdown",
   "metadata": {},
   "source": [
    "# Dimensionality reduction"
   ]
  },
  {
   "cell_type": "markdown",
   "metadata": {},
   "source": [
    "## 1. t-SNE"
   ]
  },
  {
   "cell_type": "code",
   "execution_count": 2,
   "metadata": {},
   "outputs": [
    {
     "name": "stdout",
     "output_type": "stream",
     "text": [
      "Iteration  1  Loss =  0.16599861818053024\n",
      "Iteration  2  Loss =  0.1373985181917983\n",
      "Iteration  3  Loss =  0.12164968728660239\n",
      "Iteration  4  Loss =  0.10857853541262538\n",
      "Iteration  5  Loss =  0.09793193772794283\n",
      "Iteration  6  Loss =  0.08978015558717599\n",
      "Iteration  7  Loss =  0.08402205175289976\n",
      "Iteration  8  Loss =  0.08024999088790122\n",
      "Iteration  9  Loss =  0.0779183732595513\n",
      "Iteration  10  Loss =  0.07653498599756611\n",
      "Iteration  11  Loss =  0.07573435937396923\n",
      "Iteration  12  Loss =  0.07527608936839032\n",
      "Iteration  13  Loss =  0.07501425729419767\n",
      "Iteration  14  Loss =  0.07486420030381066\n",
      "Iteration  15  Loss =  0.0747777506816149\n",
      "Iteration  16  Loss =  0.07472764966774112\n",
      "Iteration  17  Loss =  0.07469844397868423\n",
      "Iteration  18  Loss =  0.07468132776795693\n",
      "Iteration  19  Loss =  0.07467124991246742\n",
      "Iteration  20  Loss =  0.07466529287000452\n",
      "[INFO] Output visualization gif has been written to regression_viz.gif\n"
     ]
    },
    {
     "data": {
      "image/png": "[encoded data removed]",
      "text/plain": [
       "<Figure size 432x288 with 1 Axes>"
      ]
     },
     "metadata": {
      "needs_background": "light"
     },
     "output_type": "display_data"
    }
   ],
   "source": [
    "visualize_tsne_model(original_dim=3, new_dim=2, samples_per_class=20, perplexity=5)\n",
    "plt.show()"
   ]
  },
  {
   "cell_type": "markdown",
   "metadata": {},
   "source": [
    "<img src='regression_viz.gif' height=640 width=1080/>"
   ]
  },
  {
   "cell_type": "code",
   "execution_count": 3,
   "metadata": {},
   "outputs": [
    {
     "data": {
      "text/plain": [
       "1.0"
      ]
     },
     "execution_count": 3,
     "metadata": {},
     "output_type": "execute_result"
    }
   ],
   "source": [
    "perplexity=12\n",
    "def conditional_p(X_i, X_j):\n",
    "    if((X_i - X_j).sum() == 0) : return 0\n",
    "    numerator = np.exp((-(np.linalg.norm(X_i - X_j))**2)/(2 * perplexity))\n",
    "    denom = np.exp((-(X_i - X) ** 2).sum(axis=1) / (2 * perplexity))\n",
    "    mask = (X != X_i).astype(int).mean(axis=1)\n",
    "    denom = np.multiply(denom, mask).sum()\n",
    "    return numerator/denom\n",
    "\n",
    "def p_ij(X_i, X_j):\n",
    "    return (conditional_p(X_i, X_j) + conditional_p(X_j, X_i)) / (2*len(X))\n",
    "\n",
    "X = np.random.normal(size=(100,4))\n",
    "P = pairwise_distances(X, X, metric=p_ij)\n",
    "P.sum()"
   ]
  },
  {
   "cell_type": "code",
   "execution_count": 4,
   "metadata": {},
   "outputs": [
    {
     "data": {
      "text/plain": [
       "array([[0.00000000e+00, 9.39383173e-05, 1.18867589e-04, ...,\n",
       "        1.12991701e-04, 9.80552569e-05, 1.16922686e-04],\n",
       "       [9.39383173e-05, 0.00000000e+00, 8.10982844e-05, ...,\n",
       "        7.80643044e-05, 9.58624167e-05, 7.74260289e-05],\n",
       "       [1.18867589e-04, 8.10982844e-05, 0.00000000e+00, ...,\n",
       "        1.26642555e-04, 1.12806288e-04, 1.27306383e-04],\n",
       "       ...,\n",
       "       [1.12991701e-04, 7.80643044e-05, 1.26642555e-04, ...,\n",
       "        0.00000000e+00, 1.15980344e-04, 1.30391931e-04],\n",
       "       [9.80552569e-05, 9.58624167e-05, 1.12806288e-04, ...,\n",
       "        1.15980344e-04, 0.00000000e+00, 1.13932011e-04],\n",
       "       [1.16922686e-04, 7.74260289e-05, 1.27306383e-04, ...,\n",
       "        1.30391931e-04, 1.13932011e-04, 0.00000000e+00]])"
      ]
     },
     "execution_count": 4,
     "metadata": {},
     "output_type": "execute_result"
    }
   ],
   "source": [
    "P"
   ]
  },
  {
   "cell_type": "code",
   "execution_count": null,
   "metadata": {},
   "outputs": [],
   "source": []
  }
 ],
 "metadata": {
  "kernelspec": {
   "display_name": "Python 3",
   "language": "python",
   "name": "python3"
  },
  "language_info": {
   "codemirror_mode": {
    "name": "ipython",
    "version": 3
   },
   "file_extension": ".py",
   "mimetype": "text/x-python",
   "name": "python",
   "nbconvert_exporter": "python",
   "pygments_lexer": "ipython3",
   "version": "3.8.10"
  }
 },
 "nbformat": 4,
 "nbformat_minor": 4
}
