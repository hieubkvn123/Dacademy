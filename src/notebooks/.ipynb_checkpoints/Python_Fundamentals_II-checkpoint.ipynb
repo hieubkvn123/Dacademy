{
 "cells": [
  {
   "cell_type": "markdown",
   "metadata": {},
   "source": [
    "# What is OOP ?\n",
    "* Object Oriented Programming is a programming paradigm used in almost every programming languages. Python is one of the OOP language, meaning it treats everything as an object."
   ]
  },
  {
   "cell_type": "markdown",
   "metadata": {},
   "source": [
    "# I. Basic intuition behind OOP\n",
    "* **Definition of a class** : A class is a \"blueprint\" to create instances of objects. A class will define what data an object possess and what method or procedure an object can execute.\n",
    "* **Definition of an object** : Objects are instances of class. Generally contain a set of **instance variables** and a set of **methods**\n",
    "    - Instance variables : Pieces of data that belong to the object.\n",
    "    - Methods : Functions that belong to the object.\n",
    "    \n",
    "### Example :\n",
    "![Example of Object-Class relationship](https://cdn.guru99.com/images/java/052016_0704_ObjectsandC6.jpg)"
   ]
  },
  {
   "cell_type": "markdown",
   "metadata": {},
   "source": [
    "### Translate to Python\n",
    "#### To create a class (the blue print) in Python, use the following syntax\n",
    "```python\n",
    "class ClassName:\n",
    "    def __init__(self, var1, var2, var3):\n",
    "        self.var1 = var1\n",
    "        self.var2 = var2\n",
    "        self.var3 = var3\n",
    "        \n",
    "    ### Define methods ###\n",
    "```\n",
    "\n",
    "* The constructor method ```__init__``` : Used to initialize an object. The arguments of this method will be the instance variables needed to construct the object (E.g : Breed, Size, Age, Color).\n",
    "* The \"self\" paramter : Used to access the instance variables and the instance methods of the object. **Defaulted to be the first argument of EVERY instance methods**"
   ]
  },
  {
   "cell_type": "code",
   "execution_count": 1,
   "metadata": {},
   "outputs": [
    {
     "name": "stdout",
     "output_type": "stream",
     "text": [
      "Nom nom nom\n",
      "woof Woof WOOF\n"
     ]
    }
   ],
   "source": [
    "### 1. Create the blueprint ###\n",
    "class Dog:\n",
    "    ### 2. Define the constructor ###\n",
    "    def __init__(self, breed, size, age, color):\n",
    "        self.breed = breed\n",
    "        self.size = size\n",
    "        self.age = age\n",
    "        self.color = color\n",
    "        \n",
    "    ### 3. Define some instance methods ###\n",
    "    def eat(self):\n",
    "        print(\"Nom nom nom\")\n",
    "        \n",
    "    def bark(self):\n",
    "        print('woof Woof WOOF')\n",
    "        \n",
    "### 3. Create objects ###\n",
    "# Explain abit on the self parameter  \n",
    "dog1 = Dog(\"Napolitan Mastiff\", \"small\", 2, \"black\")\n",
    "dog1.eat()\n",
    "dog1.bark()"
   ]
  },
  {
   "cell_type": "markdown",
   "metadata": {},
   "source": [
    "### Some special method in class"
   ]
  },
  {
   "cell_type": "markdown",
   "metadata": {},
   "source": [
    "#### 1. ```__str__ ()```\n",
    "* Returns a string\n",
    "* Allow us to decide what will output when we print the object"
   ]
  },
  {
   "cell_type": "code",
   "execution_count": 2,
   "metadata": {},
   "outputs": [
    {
     "name": "stdout",
     "output_type": "stream",
     "text": [
      "<__main__.Dog object at 0x7f62f55e5eb0>\n"
     ]
    }
   ],
   "source": [
    "# When we print an object, the output will not be as intuitive as printing a string or\n",
    "# a numeric data type. E.g:\n",
    "print(dog1)"
   ]
  },
  {
   "cell_type": "code",
   "execution_count": 3,
   "metadata": {},
   "outputs": [
    {
     "name": "stdout",
     "output_type": "stream",
     "text": [
      "I am a Napolitan Mastiff, I am 2 years old\n"
     ]
    }
   ],
   "source": [
    "# 1. Define the same Dog class as before\n",
    "class Dog:\n",
    "    def __init__(self, breed, size, age, color):\n",
    "        self.breed = breed\n",
    "        self.size = size\n",
    "        self.age = age\n",
    "        self.color = color\n",
    "        \n",
    "    def eat(self):\n",
    "        print(\"Nom nom nom\")\n",
    "        \n",
    "    def bark(self):\n",
    "        print('woof Woof WOOF')\n",
    "  \n",
    "    def get_string(self):\n",
    "        return f\"I am a {self.breed}, I am {self.age} years old\"\n",
    "  \n",
    "    # 2. Define the __str__ method\n",
    "    def __str__(self):\n",
    "        return self.get_string()\n",
    "    \n",
    "# 3. Create the same Dog object and print it\n",
    "dog1 = Dog(\"Napolitan Mastiff\", \"small\", 2, \"black\")\n",
    "print(dog1)"
   ]
  },
  {
   "cell_type": "markdown",
   "metadata": {},
   "source": [
    "#### 2. ``` __call__()```\n",
    "* Allow use to call our object like a function\n",
    "* Importanto !! This will be slightly mentioned when we learn PyTorch"
   ]
  },
  {
   "cell_type": "code",
   "execution_count": 4,
   "metadata": {},
   "outputs": [
    {
     "name": "stdout",
     "output_type": "stream",
     "text": [
      "Nom nom nom\n",
      "woof Woof WOOF\n"
     ]
    }
   ],
   "source": [
    "# 1. Define the same Dog class as before\n",
    "class Dog:\n",
    "    def __init__(self, breed, size, age, color):\n",
    "        self.breed = breed\n",
    "        self.size = size\n",
    "        self.age = age\n",
    "        self.color = color\n",
    "        \n",
    "    def eat(self):\n",
    "        print(\"Nom nom nom\")\n",
    "        \n",
    "    def bark(self):\n",
    "        print('woof Woof WOOF')        \n",
    "  \n",
    "    # 2. Define the __str__ method\n",
    "    def __str__(self):\n",
    "        return f\"I am a {self.breed}, I am {self.age} years old\"\n",
    "    \n",
    "    # 3. Define the __call__ method\n",
    "    def __call__(self):\n",
    "        self.eat()\n",
    "        self.bark()\n",
    "\n",
    "# 4. Call the object\n",
    "dog1 = Dog(\"Napolitan Mastiff\", \"small\", 2, \"black\")\n",
    "dog1()"
   ]
  },
  {
   "cell_type": "markdown",
   "metadata": {},
   "source": [
    "### Inheritance\n",
    "* Example scenario : Suppose that you have just created class Dog. Now you are required to create a ServiceDog class which have the exact same instance variables and methods as the class Dog. The only difference is that a ServiceDog object will have a specialty variable, a years_on_duty variable and in ```__str__``` method you are required to print out these two additional variables. Do you rewrite the entire class which mostly resemble a class you already wrote? The answer is no, that is a **VERY BAD DESIGN BEHAVIOR**\n",
    "<br><br>\n",
    "* Inheritance is one of the four pillars in object oriented programming. This property allows classes to inherit all of the variables and methods of parent classes that we already designed.\n",
    "<br><br>\n",
    "#### Example : Class ServiceDog"
   ]
  },
  {
   "cell_type": "code",
   "execution_count": 5,
   "metadata": {},
   "outputs": [
    {
     "name": "stdout",
     "output_type": "stream",
     "text": [
      "Nom nom nom\n",
      "woof Woof WOOF\n",
      "Golden Retriever medium 3 golden brown\n"
     ]
    }
   ],
   "source": [
    "# 1. Define the blue print\n",
    "class ServiceDog(Dog): # <- we define the name of parent class in round brackets\n",
    "    def __init__(self, breed, size, age, color, specialty, years_on_duty): # <- Same args as Dog with 2 additional args\n",
    "        super(ServiceDog, self).__init__(breed, size, age, color) # <- execute the constructor of parent (Dog)\n",
    "        \n",
    "        # 2. Define the additional instance variables\n",
    "        self.specialty = specialty\n",
    "        self.years_on_duty = years_on_duty\n",
    "        \n",
    "dog2 = ServiceDog(\"Golden Retriever\", \"medium\", 3, \"golden brown\", \"elder care\", 2)\n",
    "\n",
    "# The class ServiceDog inherits all Dog's method\n",
    "dog2.eat()\n",
    "dog2.bark()\n",
    "\n",
    "# Of course, instance variables too\n",
    "print(dog2.breed, dog2.size, dog2.age, dog2.color)"
   ]
  },
  {
   "cell_type": "code",
   "execution_count": 6,
   "metadata": {},
   "outputs": [
    {
     "name": "stdout",
     "output_type": "stream",
     "text": [
      "I am a Golden Retriever, I am 3 years old\n"
     ]
    }
   ],
   "source": [
    "# However, the method __str__ still follow Dog's implementation\n",
    "print(dog2)"
   ]
  },
  {
   "cell_type": "code",
   "execution_count": 7,
   "metadata": {},
   "outputs": [
    {
     "name": "stdout",
     "output_type": "stream",
     "text": [
      "I am a Golden Retriever, I am 3 years old. My specialty is elder care. I have been in duty for 2 years\n"
     ]
    }
   ],
   "source": [
    "# We want to \"Override\" this method\n",
    "# 1. Define the blue print\n",
    "class ServiceDog(Dog): # <- we define the name of parent class in round brackets\n",
    "    def __init__(self, breed, size, age, color, specialty, years_on_duty): # <- Same args as Dog with 2 additional args\n",
    "        super(ServiceDog, self).__init__(breed, size, age, color) # <- execute the constructor of parent (Dog)\n",
    "        \n",
    "        # 2. Define the additional instance variables\n",
    "        self.specialty = specialty\n",
    "        self.years_on_duty = years_on_duty\n",
    "        \n",
    "    # 3. Override the get_string method\n",
    "    def __str__(self):\n",
    "        return f\"I am a {self.breed}, I am {self.age} years old. My specialty is {self.specialty}. \" + \\\n",
    "                f\"I have been in duty for {self.years_on_duty} years\"\n",
    "        \n",
    "dog2 = ServiceDog(\"Golden Retriever\", \"medium\", 3, \"golden brown\", \"elder care\", 2)\n",
    "print(dog2)"
   ]
  },
  {
   "cell_type": "markdown",
   "metadata": {},
   "source": [
    "# II. Some exercises"
   ]
  },
  {
   "cell_type": "markdown",
   "metadata": {},
   "source": [
    "### 1. Construct a class of student with the following requirements\n",
    "* Instance attributes :\n",
    "    - Name of the student - name (string)\n",
    "    - Current university - school (string)\n",
    "    - Major - major (string)\n",
    "    - GPAs - gpa (list of floats)\n",
    "   "
   ]
  },
  {
   "cell_type": "code",
   "execution_count": 10,
   "metadata": {},
   "outputs": [
    {
     "name": "stdout",
     "output_type": "stream",
     "text": [
      "Nong Minh Hieu\n",
      "University of Wollongong\n",
      "Computer Science\n",
      "[86, 78, 85, 87]\n"
     ]
    }
   ],
   "source": [
    "class Student:\n",
    "    def __init__(self, name, school, major, gpa):\n",
    "        self.name = name\n",
    "        self.school = school\n",
    "        self.major = major\n",
    "        self.gpa = gpa\n",
    "        \n",
    "student = Student(\"Nong Minh Hieu\", \"University of Wollongong\", \"Computer Science\", [86, 78, 85, 87])\n",
    "print(student.name)\n",
    "print(student.school)\n",
    "print(student.major)\n",
    "print(student.gpa)"
   ]
  },
  {
   "cell_type": "markdown",
   "metadata": {},
   "source": [
    "### 2. Add the following methods to the class\n",
    "* Methods :\n",
    "    - ```__str__()``` : Print out the name, current uni and major with average gpa\n",
    "    - ```average_gpa()``` : Calculate and return the average gpa from the gpa instance variable\n",
    "    - ```std_gpa()``` : Calculate and return the standard deviation from the gpa instance variable \n",
    "    \n"
   ]
  },
  {
   "cell_type": "code",
   "execution_count": 14,
   "metadata": {},
   "outputs": [
    {
     "name": "stdout",
     "output_type": "stream",
     "text": [
      "Student name : Nong Minh Hieu\n",
      "University : University of Wollongong\n",
      "Average GPA : 84.0\n"
     ]
    }
   ],
   "source": [
    "import math\n",
    "\n",
    "# 1. Define the class and constructor\n",
    "class Student:\n",
    "    def __init__(self, name, school, major, gpa):\n",
    "        self.name = name\n",
    "        self.school = school\n",
    "        self.major = major\n",
    "        self.gpa = gpa\n",
    "        \n",
    "    # 2. Define a function to calculate mean GPA\n",
    "    def average_gpa(self):\n",
    "        total_gpa = 0.0\n",
    "        for marks in self.gpa:\n",
    "            total_gpa += marks\n",
    "            \n",
    "        average = total_gpa / len(self.gpa)\n",
    "        \n",
    "        return average\n",
    "        \n",
    "    # 4. Define a function to calculate standard deviation of GPA\n",
    "    # STD is defined in layman term as how fluctuating or how unstable data is\n",
    "    # var = E[(x - mu) ** 2] -> average sum residuals\n",
    "    # std = sqrt(var)\n",
    "    def std_gpa(self):\n",
    "        # 3.1 We need to average\n",
    "        mu = self.average_gpa()\n",
    "        sum_squares = 0.0\n",
    "        \n",
    "        for marks in self.gpa:\n",
    "            sum_squares += (marks - mu) ** 2\n",
    "        \n",
    "        variance = sum_squares / len(self.gpa)\n",
    "        std = math.sqrt(variance)\n",
    "        \n",
    "        return std\n",
    "        \n",
    "        \n",
    "    # 3. Define the string method\n",
    "    def __str__(self):\n",
    "        average_gpa = self.average_gpa()\n",
    "        return f\"Student name : {self.name}\\n\" + \\\n",
    "                f\"University : {self.school}\\n\" + \\\n",
    "                f\"Average GPA : {average_gpa}\" # We need a method to calculate this\n",
    "    \n",
    "student = Student(\"Nong Minh Hieu\", \"University of Wollongong\", \"Computer Science\", [86, 78, 85, 87])\n",
    "print(student)"
   ]
  },
  {
   "cell_type": "markdown",
   "metadata": {},
   "source": [
    "### 3. Read and analyze student data in student.csv\n",
    "* student.csv records gpas of students from different majors and schools\n",
    "* Your task is to record these students as a list of Student objects"
   ]
  },
  {
   "cell_type": "code",
   "execution_count": 22,
   "metadata": {},
   "outputs": [],
   "source": [
    "f = open('../others/student.csv', 'r')\n",
    "lines = f.readlines()\n",
    "students = []\n",
    "\n",
    "for line in lines:\n",
    "    # Strip the new line char in the end\n",
    "    line = line.strip()\n",
    "    \n",
    "    # Tokenize this string\n",
    "    tokens = line.split(',')\n",
    "    \n",
    "    # Get the pieces of data\n",
    "    name = tokens[0]\n",
    "    school = tokens[1]\n",
    "    major = tokens[2]\n",
    "    \n",
    "    # the rest will be the gpa\n",
    "    gpas = tokens[3:]\n",
    "    \n",
    "    # We need to convert the gpa to integers\n",
    "    int_gpas = []\n",
    "    for gpa in gpas:\n",
    "        gpa = int(gpa)\n",
    "        int_gpas.append(gpa)\n",
    "    \n",
    "    # Now create objects\n",
    "    student = Student(name, school, major, int_gpas)\n",
    "    students.append(student)\n",
    "    \n",
    "f.close()"
   ]
  },
  {
   "cell_type": "markdown",
   "metadata": {},
   "source": [
    "### 4. For every student, just print out the average and std of their scores\n",
    "* We have to loop through the list of students we have just created\n",
    "* Then just print out that student's name and mean + std gpa"
   ]
  },
  {
   "cell_type": "code",
   "execution_count": 23,
   "metadata": {},
   "outputs": [
    {
     "name": "stdout",
     "output_type": "stream",
     "text": [
      "Timothy Hayes, Mean GPA = 71.0, STD = 13.65283853270081\n",
      "Jeremy Casey, Mean GPA = 73.2, STD = 14.005713120009277\n",
      "Susan Erickson, Mean GPA = 71.4, STD = 16.19382598399773\n",
      "Donald Ortiz, Mean GPA = 79.4, STD = 10.071742649611338\n",
      "Harry Fisher, Mean GPA = 90.8, STD = 6.734983296193095\n",
      "Kimberly Johnson, Mean GPA = 76.6, STD = 10.307278981380101\n",
      "Zachary Navarro, Mean GPA = 81.4, STD = 10.85541339608953\n",
      "Gabriella Ayala, Mean GPA = 76.6, STD = 18.11739495622922\n",
      "Roger Morgan, Mean GPA = 81.2, STD = 11.142710621747295\n",
      "Bob Navarro, Mean GPA = 86.0, STD = 10.89954127475097\n",
      "Brenda Lynch, Mean GPA = 84.0, STD = 14.394443372357264\n",
      "Alyssa Bryant, Mean GPA = 82.8, STD = 9.260669522232181\n",
      "David Lewis, Mean GPA = 73.6, STD = 12.92439553712281\n",
      "Laura Mitchell, Mean GPA = 74.8, STD = 10.628264204469138\n",
      "Danielle Garcia, Mean GPA = 83.0, STD = 12.083045973594572\n",
      "Don Contreras, Mean GPA = 73.4, STD = 12.531560158256433\n",
      "Courtney Williams, Mean GPA = 86.8, STD = 17.010584939971935\n",
      "Mary Mata, Mean GPA = 69.0, STD = 9.633275663033837\n",
      "Cassandra Carr, Mean GPA = 74.2, STD = 11.754148203932091\n",
      "Eric Campos, Mean GPA = 73.6, STD = 12.451505933018705\n",
      "Ryan Jones, Mean GPA = 68.0, STD = 15.453155017665487\n",
      "Rachel Davis, Mean GPA = 79.2, STD = 8.997777503361595\n",
      "James Carter, Mean GPA = 73.8, STD = 16.690116836020053\n",
      "Holly Rios, Mean GPA = 71.8, STD = 18.356470248934023\n",
      "Katherine Knight, Mean GPA = 64.4, STD = 10.762899237658969\n",
      "Matthew Becker, Mean GPA = 75.4, STD = 12.753038853543888\n",
      "Carl Miller, Mean GPA = 83.2, STD = 9.620810776644555\n",
      "Rachael Pierce, Mean GPA = 70.8, STD = 18.280043763623762\n",
      "Jennifer Stark, Mean GPA = 81.0, STD = 15.569200364822851\n",
      "Ryan Anderson, Mean GPA = 69.4, STD = 16.19382598399773\n",
      "Sandra Swanson, Mean GPA = 71.0, STD = 14.38054240979804\n",
      "Tiffany Ford, Mean GPA = 74.4, STD = 9.350935782048769\n",
      "Jessica Gilbert, Mean GPA = 80.6, STD = 13.54400236266961\n",
      "Samuel Jackson, Mean GPA = 73.6, STD = 18.172506706560878\n",
      "Carol Jones DDS, Mean GPA = 68.2, STD = 10.02796090937734\n",
      "Andrew Robinson, Mean GPA = 83.2, STD = 5.979966555090422\n",
      "Heather Miller, Mean GPA = 81.2, STD = 9.682974749528164\n",
      "Richard Campos, Mean GPA = 90.8, STD = 7.678541528180987\n",
      "Joshua Washington, Mean GPA = 78.6, STD = 12.370933675353692\n",
      "Carla Sellers, Mean GPA = 70.0, STD = 10.373041983911952\n",
      "Julie Kaiser, Mean GPA = 76.8, STD = 12.671227249165726\n",
      "Daniel Smith, Mean GPA = 73.6, STD = 12.98614646459834\n",
      "Melanie Taylor, Mean GPA = 79.2, STD = 14.634206503941375\n",
      "Daniel Dennis Jr., Mean GPA = 72.0, STD = 13.145341380123988\n",
      "Margaret Miller, Mean GPA = 78.8, STD = 15.6\n",
      "John Ingram, Mean GPA = 74.8, STD = 14.878171930717832\n",
      "Emily Sanchez, Mean GPA = 75.6, STD = 10.744300814850634\n",
      "Michelle Morgan, Mean GPA = 87.2, STD = 4.791659420284375\n",
      "April Green, Mean GPA = 77.4, STD = 10.091580649234292\n",
      "Todd Lee, Mean GPA = 73.2, STD = 9.806120537705011\n",
      "Gregory Lopez, Mean GPA = 89.2, STD = 4.069397989875161\n",
      "Frank Reed, Mean GPA = 69.8, STD = 17.33666634621547\n",
      "Mr. Mario Johnson, Mean GPA = 73.0, STD = 13.053735097664577\n",
      "Gregory Hernandez, Mean GPA = 76.8, STD = 14.344336861632886\n",
      "Steven Clark, Mean GPA = 73.8, STD = 13.555810562264433\n",
      "Kenneth Ramirez, Mean GPA = 91.6, STD = 6.3118935352238\n",
      "Matthew Schroeder, Mean GPA = 80.6, STD = 8.475848040166836\n",
      "Joshua Welch, Mean GPA = 76.6, STD = 13.001538370516007\n",
      "Nicholas Le, Mean GPA = 67.4, STD = 8.452218643646175\n",
      "Stephanie Nguyen, Mean GPA = 80.8, STD = 11.923086848631105\n",
      "Maurice Kemp, Mean GPA = 82.8, STD = 17.2673101553195\n",
      "Jesse Jackson, Mean GPA = 66.4, STD = 13.078226179417452\n",
      "Jessica Roberson, Mean GPA = 76.2, STD = 14.524462124292246\n",
      "Theresa Lopez, Mean GPA = 76.4, STD = 8.73155198117723\n",
      "James Perez, Mean GPA = 68.4, STD = 11.909659944767524\n",
      "Ryan Stephens, Mean GPA = 61.8, STD = 4.915282290977803\n",
      "Veronica Romero, Mean GPA = 84.0, STD = 8.099382692526634\n",
      "Shannon Mercer, Mean GPA = 64.4, STD = 13.514436725220923\n",
      "Amanda Anderson, Mean GPA = 67.4, STD = 8.309031231136395\n",
      "Anita Ford, Mean GPA = 82.4, STD = 11.324310133513652\n",
      "Diane Santos, Mean GPA = 76.6, STD = 14.305243793798134\n",
      "James Clark, Mean GPA = 81.6, STD = 14.60958589419974\n",
      "Lisa Clark, Mean GPA = 73.6, STD = 11.516944039110376\n",
      "Lisa Golden, Mean GPA = 65.0, STD = 6.131883886702357\n",
      "Kenneth Reeves, Mean GPA = 66.0, STD = 12.992305415129373\n",
      "Lauren Baker, Mean GPA = 71.2, STD = 3.4871191548325386\n",
      "Alan Jackson, Mean GPA = 79.6, STD = 7.2\n",
      "Anna Hill, Mean GPA = 76.0, STD = 14.642404174178502\n",
      "Mark Hobbs, Mean GPA = 65.0, STD = 5.932958789676531\n",
      "Cynthia Wright, Mean GPA = 80.8, STD = 15.197368193210297\n",
      "Steven Harrison, Mean GPA = 73.0, STD = 7.127411872482185\n",
      "Samantha Estrada, Mean GPA = 71.2, STD = 13.044539087296261\n",
      "Richard Butler, Mean GPA = 73.0, STD = 12.457929201917949\n",
      "Jacob Williams, Mean GPA = 75.6, STD = 10.287856919689348\n",
      "Courtney Walker, Mean GPA = 79.4, STD = 18.06211504780102\n",
      "Mr. Kevin Roberts, Mean GPA = 74.6, STD = 15.252540771950095\n",
      "Danielle Anderson, Mean GPA = 65.0, STD = 15.006665185843255\n",
      "Ashley Curry, Mean GPA = 77.4, STD = 18.874321179846444\n",
      "Thomas Palmer, Mean GPA = 71.0, STD = 16.46815108019112\n",
      "Carrie Sherman, Mean GPA = 68.0, STD = 14.463747785411636\n",
      "Mrs. Tammy Nguyen MD, Mean GPA = 79.2, STD = 16.191355718407276\n",
      "David Adams PhD, Mean GPA = 65.4, STD = 9.645724441429996\n",
      "Shelly Turner, Mean GPA = 69.6, STD = 12.90891165048394\n",
      "Scott Thomas, Mean GPA = 80.2, STD = 10.43839068055991\n",
      "Victoria Jackson, Mean GPA = 78.4, STD = 13.676256797823008\n",
      "Daniel May, Mean GPA = 69.6, STD = 10.818502669038818\n",
      "Andrew Rich, Mean GPA = 76.8, STD = 14.496896219536097\n",
      "Victoria Nguyen, Mean GPA = 76.6, STD = 16.644518617250547\n",
      "Nancy Vargas, Mean GPA = 78.2, STD = 11.408768557561329\n",
      "Michael Strickland, Mean GPA = 73.0, STD = 11.40175425099138\n"
     ]
    }
   ],
   "source": [
    "for student in students:\n",
    "    mean_gpa = student.average_gpa()\n",
    "    std_gpa = student.std_gpa()\n",
    "    \n",
    "    print(f'{student.name}, Mean GPA = {mean_gpa}, STD = {std_gpa}')"
   ]
  },
  {
   "cell_type": "code",
   "execution_count": null,
   "metadata": {},
   "outputs": [],
   "source": []
  }
 ],
 "metadata": {
  "kernelspec": {
   "display_name": "Python 3",
   "language": "python",
   "name": "python3"
  },
  "language_info": {
   "codemirror_mode": {
    "name": "ipython",
    "version": 3
   },
   "file_extension": ".py",
   "mimetype": "text/x-python",
   "name": "python",
   "nbconvert_exporter": "python",
   "pygments_lexer": "ipython3",
   "version": "3.8.10"
  }
 },
 "nbformat": 4,
 "nbformat_minor": 4
}
