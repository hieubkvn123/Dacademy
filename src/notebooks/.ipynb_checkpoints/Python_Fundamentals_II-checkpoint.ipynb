{
 "cells": [
  {
   "cell_type": "markdown",
   "metadata": {},
   "source": [
    "# What is OOP ?\n",
    "* Object Oriented Programming is a programming paradigm used in almost every programming languages. Python is one of the OOP language, meaning it treats everything as an object."
   ]
  },
  {
   "cell_type": "markdown",
   "metadata": {},
   "source": [
    "# I. Basic intuition behind OOP\n",
    "* **Definition of a class** : A class is a \"blueprint\" to create instances of objects. A class will define what data an object possess and what method or procedure an object can execute.\n",
    "* **Definition of an object** : Objects are instances of class. Generally contain a set of **instance variables** and a set of **methods**\n",
    "    - Instance variables : Pieces of data that belong to the object.\n",
    "    - Methods : Functions that belong to the object.\n",
    "    \n",
    "### Example :\n",
    "![Example of Object-Class relationship](https://cdn.guru99.com/images/java/052016_0704_ObjectsandC6.jpg)"
   ]
  },
  {
   "cell_type": "markdown",
   "metadata": {},
   "source": [
    "### Translate to Python\n",
    "#### To create a class (the blue print) in Python, use the following syntax\n",
    "```python\n",
    "class ClassName:\n",
    "    def __init__(self, var1, var2, var3):\n",
    "        self.var1 = var1\n",
    "        self.var2 = var2\n",
    "        self.var3 = var3\n",
    "        \n",
    "    ### Define methods ###\n",
    "```\n",
    "\n",
    "* The constructor method ```__init__``` : Used to initialize an object. The arguments of this method will be the instance variables needed to construct the object (E.g : Breed, Size, Age, Color).\n",
    "* The \"self\" paramter : Used to access the instance variables and the instance methods of the object. **Defaulted to be the first argument of EVERY instance methods**"
   ]
  },
  {
   "cell_type": "code",
   "execution_count": 1,
   "metadata": {},
   "outputs": [
    {
     "name": "stdout",
     "output_type": "stream",
     "text": [
      "Nom nom nom\n",
      "woof Woof WOOF\n"
     ]
    }
   ],
   "source": [
    "### 1. Create the blueprint ###\n",
    "class Dog:\n",
    "    ### 2. Define the constructor ###\n",
    "    def __init__(self, breed, size, age, color):\n",
    "        self.breed = breed\n",
    "        self.size = size\n",
    "        self.age = age\n",
    "        self.color = color\n",
    "        \n",
    "    ### 3. Define some instance methods ###\n",
    "    def eat(self):\n",
    "        print(\"Nom nom nom\")\n",
    "        \n",
    "    def bark(self):\n",
    "        print('woof Woof WOOF')\n",
    "        \n",
    "### 3. Create objects ###\n",
    "# Explain abit on the self parameter  \n",
    "dog1 = Dog(\"Napolitan Mastiff\", \"small\", 2, \"black\")\n",
    "dog1.eat()\n",
    "dog1.bark()"
   ]
  },
  {
   "cell_type": "markdown",
   "metadata": {},
   "source": [
    "### Some special method in class"
   ]
  },
  {
   "cell_type": "markdown",
   "metadata": {},
   "source": [
    "#### 1. ```__str__ ()```\n",
    "* Returns a string\n",
    "* Allow us to decide what will output when we print the object"
   ]
  },
  {
   "cell_type": "code",
   "execution_count": 2,
   "metadata": {},
   "outputs": [
    {
     "name": "stdout",
     "output_type": "stream",
     "text": [
      "<__main__.Dog object at 0x7f62f55e5eb0>\n"
     ]
    }
   ],
   "source": [
    "# When we print an object, the output will not be as intuitive as printing a string or\n",
    "# a numeric data type. E.g:\n",
    "print(dog1)"
   ]
  },
  {
   "cell_type": "code",
   "execution_count": 3,
   "metadata": {},
   "outputs": [
    {
     "name": "stdout",
     "output_type": "stream",
     "text": [
      "I am a Napolitan Mastiff, I am 2 years old\n"
     ]
    }
   ],
   "source": [
    "# 1. Define the same Dog class as before\n",
    "class Dog:\n",
    "    def __init__(self, breed, size, age, color):\n",
    "        self.breed = breed\n",
    "        self.size = size\n",
    "        self.age = age\n",
    "        self.color = color\n",
    "        \n",
    "    def eat(self):\n",
    "        print(\"Nom nom nom\")\n",
    "        \n",
    "    def bark(self):\n",
    "        print('woof Woof WOOF')\n",
    "  \n",
    "    def get_string(self):\n",
    "        return f\"I am a {self.breed}, I am {self.age} years old\"\n",
    "  \n",
    "    # 2. Define the __str__ method\n",
    "    def __str__(self):\n",
    "        return self.get_string()\n",
    "    \n",
    "# 3. Create the same Dog object and print it\n",
    "dog1 = Dog(\"Napolitan Mastiff\", \"small\", 2, \"black\")\n",
    "print(dog1)"
   ]
  },
  {
   "cell_type": "markdown",
   "metadata": {},
   "source": [
    "#### 2. ``` __call__()```\n",
    "* Allow use to call our object like a function\n",
    "* Importanto !! This will be slightly mentioned when we learn PyTorch"
   ]
  },
  {
   "cell_type": "code",
   "execution_count": 4,
   "metadata": {},
   "outputs": [
    {
     "name": "stdout",
     "output_type": "stream",
     "text": [
      "Nom nom nom\n",
      "woof Woof WOOF\n"
     ]
    }
   ],
   "source": [
    "# 1. Define the same Dog class as before\n",
    "class Dog:\n",
    "    def __init__(self, breed, size, age, color):\n",
    "        self.breed = breed\n",
    "        self.size = size\n",
    "        self.age = age\n",
    "        self.color = color\n",
    "        \n",
    "    def eat(self):\n",
    "        print(\"Nom nom nom\")\n",
    "        \n",
    "    def bark(self):\n",
    "        print('woof Woof WOOF')        \n",
    "  \n",
    "    # 2. Define the __str__ method\n",
    "    def __str__(self):\n",
    "        return f\"I am a {self.breed}, I am {self.age} years old\"\n",
    "    \n",
    "    # 3. Define the __call__ method\n",
    "    def __call__(self):\n",
    "        self.eat()\n",
    "        self.bark()\n",
    "\n",
    "# 4. Call the object\n",
    "dog1 = Dog(\"Napolitan Mastiff\", \"small\", 2, \"black\")\n",
    "dog1()"
   ]
  },
  {
   "cell_type": "markdown",
   "metadata": {},
   "source": [
    "### Inheritance\n",
    "* Example scenario : Suppose that you have just created class Dog. Now you are required to create a ServiceDog class which have the exact same instance variables and methods as the class Dog. The only difference is that a ServiceDog object will have a specialty variable, a years_on_duty variable and in ```__str__``` method you are required to print out these two additional variables. Do you rewrite the entire class which mostly resemble a class you already wrote? The answer is no, that is a **VERY BAD DESIGN BEHAVIOR**\n",
    "<br><br>\n",
    "* Inheritance is one of the four pillars in object oriented programming. This property allows classes to inherit all of the variables and methods of parent classes that we already designed.\n",
    "<br><br>\n",
    "#### Example : Class ServiceDog"
   ]
  },
  {
   "cell_type": "code",
   "execution_count": 5,
   "metadata": {},
   "outputs": [
    {
     "name": "stdout",
     "output_type": "stream",
     "text": [
      "Nom nom nom\n",
      "woof Woof WOOF\n",
      "Golden Retriever medium 3 golden brown\n"
     ]
    }
   ],
   "source": [
    "# 1. Define the blue print\n",
    "class ServiceDog(Dog): # <- we define the name of parent class in round brackets\n",
    "    def __init__(self, breed, size, age, color, specialty, years_on_duty): # <- Same args as Dog with 2 additional args\n",
    "        super(ServiceDog, self).__init__(breed, size, age, color) # <- execute the constructor of parent (Dog)\n",
    "        \n",
    "        # 2. Define the additional instance variables\n",
    "        self.specialty = specialty\n",
    "        self.years_on_duty = years_on_duty\n",
    "        \n",
    "dog2 = ServiceDog(\"Golden Retriever\", \"medium\", 3, \"golden brown\", \"elder care\", 2)\n",
    "\n",
    "# The class ServiceDog inherits all Dog's method\n",
    "dog2.eat()\n",
    "dog2.bark()\n",
    "\n",
    "# Of course, instance variables too\n",
    "print(dog2.breed, dog2.size, dog2.age, dog2.color)"
   ]
  },
  {
   "cell_type": "code",
   "execution_count": 6,
   "metadata": {},
   "outputs": [
    {
     "name": "stdout",
     "output_type": "stream",
     "text": [
      "I am a Golden Retriever, I am 3 years old\n"
     ]
    }
   ],
   "source": [
    "# However, the method __str__ still follow Dog's implementation\n",
    "print(dog2)"
   ]
  },
  {
   "cell_type": "code",
   "execution_count": 7,
   "metadata": {},
   "outputs": [
    {
     "name": "stdout",
     "output_type": "stream",
     "text": [
      "I am a Golden Retriever, I am 3 years old. My specialty is elder care. I have been in duty for 2 years\n"
     ]
    }
   ],
   "source": [
    "# We want to \"Override\" this method\n",
    "# 1. Define the blue print\n",
    "class ServiceDog(Dog): # <- we define the name of parent class in round brackets\n",
    "    def __init__(self, breed, size, age, color, specialty, years_on_duty): # <- Same args as Dog with 2 additional args\n",
    "        super(ServiceDog, self).__init__(breed, size, age, color) # <- execute the constructor of parent (Dog)\n",
    "        \n",
    "        # 2. Define the additional instance variables\n",
    "        self.specialty = specialty\n",
    "        self.years_on_duty = years_on_duty\n",
    "        \n",
    "    # 3. Override the get_string method\n",
    "    def __str__(self):\n",
    "        return f\"I am a {self.breed}, I am {self.age} years old. My specialty is {self.specialty}. \" + \\\n",
    "                f\"I have been in duty for {self.years_on_duty} years\"\n",
    "        \n",
    "dog2 = ServiceDog(\"Golden Retriever\", \"medium\", 3, \"golden brown\", \"elder care\", 2)\n",
    "print(dog2)"
   ]
  },
  {
   "cell_type": "markdown",
   "metadata": {},
   "source": [
    "# II. Some exercises"
   ]
  },
  {
   "cell_type": "markdown",
   "metadata": {},
   "source": [
    "### 1. Construct a class of student with the following requirements\n",
    "* Instance attributes :\n",
    "    - Name of the student - name (string)\n",
    "    - Current university - school (string)\n",
    "    - Major - major (string)\n",
    "    - GPAs - gpa (list of floats)\n",
    "   "
   ]
  },
  {
   "cell_type": "code",
   "execution_count": 10,
   "metadata": {},
   "outputs": [
    {
     "name": "stdout",
     "output_type": "stream",
     "text": [
      "Nong Minh Hieu\n",
      "University of Wollongong\n",
      "Computer Science\n",
      "[86, 78, 85, 87]\n"
     ]
    }
   ],
   "source": [
    "class Student:\n",
    "    def __init__(self, name, school, major, gpa):\n",
    "        self.name = name\n",
    "        self.school = school\n",
    "        self.major = major\n",
    "        self.gpa = gpa\n",
    "        \n",
    "student = Student(\"Nong Minh Hieu\", \"University of Wollongong\", \"Computer Science\", [86, 78, 85, 87])\n",
    "print(student.name)\n",
    "print(student.school)\n",
    "print(student.major)\n",
    "print(student.gpa)"
   ]
  },
  {
   "cell_type": "markdown",
   "metadata": {},
   "source": [
    "### 2. Add the following methods to the class\n",
    "* Methods :\n",
    "    - ```__str__()``` : Print out the name, current uni and major with average gpa\n",
    "    - ```average_gpa()``` : Calculate and return the average gpa from the gpa instance variable\n",
    "    - ```std_gpa()``` : Calculate and return the standard deviation from the gpa instance variable \n",
    "    \n"
   ]
  },
  {
   "cell_type": "code",
   "execution_count": 14,
   "metadata": {},
   "outputs": [
    {
     "name": "stdout",
     "output_type": "stream",
     "text": [
      "Student name : Nong Minh Hieu\n",
      "University : University of Wollongong\n",
      "Average GPA : 84.0\n"
     ]
    }
   ],
   "source": [
    "import math\n",
    "\n",
    "# 1. Define the class and constructor\n",
    "class Student:\n",
    "    def __init__(self, name, school, major, gpa):\n",
    "        self.name = name\n",
    "        self.school = school\n",
    "        self.major = major\n",
    "        self.gpa = gpa\n",
    "        \n",
    "    # 2. Define a function to calculate mean GPA\n",
    "    def average_gpa(self):\n",
    "        total_gpa = 0.0\n",
    "        for marks in self.gpa:\n",
    "            total_gpa += marks\n",
    "            \n",
    "        average = total_gpa / len(self.gpa)\n",
    "        \n",
    "        return average\n",
    "        \n",
    "    # 4. Define a function to calculate standard deviation of GPA\n",
    "    # STD is defined in layman term as how fluctuating or how unstable data is\n",
    "    # var = E[(x - mu) ** 2] -> average sum residuals\n",
    "    # std = sqrt(var)\n",
    "    def std_gpa(self):\n",
    "        # 3.1 We need to average\n",
    "        mu = self.average_gpa()\n",
    "        sum_squares = 0.0\n",
    "        \n",
    "        for marks in self.gpa:\n",
    "            sum_squares += (marks - mu) ** 2\n",
    "        \n",
    "        variance = sum_squares / len(self.gpa)\n",
    "        std = math.sqrt(variance)\n",
    "        \n",
    "        return std\n",
    "        \n",
    "        \n",
    "    # 3. Define the string method\n",
    "    def __str__(self):\n",
    "        average_gpa = self.average_gpa()\n",
    "        return f\"Student name : {self.name}\\n\" + \\\n",
    "                f\"University : {self.school}\\n\" + \\\n",
    "                f\"Average GPA : {average_gpa}\" # We need a method to calculate this\n",
    "    \n",
    "student = Student(\"Nong Minh Hieu\", \"University of Wollongong\", \"Computer Science\", [86, 78, 85, 87])\n",
    "print(student)"
   ]
  },
  {
   "cell_type": "code",
   "execution_count": null,
   "metadata": {},
   "outputs": [],
   "source": []
  }
 ],
 "metadata": {
  "kernelspec": {
   "display_name": "Python 3",
   "language": "python",
   "name": "python3"
  },
  "language_info": {
   "codemirror_mode": {
    "name": "ipython",
    "version": 3
   },
   "file_extension": ".py",
   "mimetype": "text/x-python",
   "name": "python",
   "nbconvert_exporter": "python",
   "pygments_lexer": "ipython3",
   "version": "3.8.10"
  }
 },
 "nbformat": 4,
 "nbformat_minor": 4
}
