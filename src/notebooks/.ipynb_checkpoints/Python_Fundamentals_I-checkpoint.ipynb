{
 "cells": [
  {
   "cell_type": "markdown",
   "metadata": {},
   "source": [
    "# Import libraries\n",
    "    * Note : contents will be shortened once I see what will be taught in Python101"
   ]
  },
  {
   "cell_type": "code",
   "execution_count": 12,
   "metadata": {},
   "outputs": [],
   "source": [
    "import math"
   ]
  },
  {
   "cell_type": "markdown",
   "metadata": {},
   "source": [
    "# Basic data types in Python"
   ]
  },
  {
   "cell_type": "code",
   "execution_count": 19,
   "metadata": {},
   "outputs": [],
   "source": [
    "# Numeric data types\n",
    "a = 16 # Integers\n",
    "b = 16.0 # Floats\n",
    "\n",
    "# Strings\n",
    "string = 'Welcome to Dacademy'\n",
    "\n",
    "# Booleans \n",
    "t = True # E.g : 12 > 5\n",
    "f = False # E.g : Hieu is totally secure with his social skill (Joke - correct when done with joking)"
   ]
  },
  {
   "cell_type": "markdown",
   "metadata": {},
   "source": [
    "# Basic data structures in Python"
   ]
  },
  {
   "cell_type": "code",
   "execution_count": 28,
   "metadata": {},
   "outputs": [
    {
     "name": "stdout",
     "output_type": "stream",
     "text": [
      "['apple', 'banana', 'kiwi', 'donut']\n",
      "\n",
      "kiwi\n",
      "\n",
      "The list after modification : \n",
      "['apple', 'horn melon', 'kiwi', 'donut']\n",
      "\n",
      "The list after modification : \n",
      "['apple', 'blue berry', 'horn melon', 'kiwi', 'donut']\n",
      "\n",
      "The list after modification : \n",
      "['apple', 'blue berry', 'horn melon', 'kiwi', 'donut', 'tomato']\n",
      "\n",
      "The list after modification : \n",
      "['apple', 'blue berry', 'horn melon', 'donut', 'tomato']\n"
     ]
    }
   ],
   "source": [
    "# List : just an array of things\n",
    "a = [\"apple\", \"banana\", \"kiwi\", \"donut\"]\n",
    "print(a)\n",
    "\n",
    "# You can access list's item using index\n",
    "print('\\n' + a[2])\n",
    "\n",
    "# List is mutable, you can assign value to an element at index i\n",
    "a[1] = \"horn melon\"\n",
    "print('\\nThe list after modification : ')\n",
    "print(a)\n",
    "\n",
    "# You can add items to a list using append or insert\n",
    "a.insert(1, 'blue berry')\n",
    "print('\\nThe list after modification : ')\n",
    "print(a)\n",
    "\n",
    "a.append('tomato')\n",
    "print('\\nThe list after modification : ')\n",
    "print(a)\n",
    "\n",
    "# Remove item from the list\n",
    "a.pop(3) # Removes 'Kiwi'\n",
    "print('\\nThe list after modification : ')\n",
    "print(a)"
   ]
  },
  {
   "cell_type": "code",
   "execution_count": 31,
   "metadata": {},
   "outputs": [
    {
     "name": "stdout",
     "output_type": "stream",
     "text": [
      "('kiwi', 'apple', 'cherry', 'tomato')\n",
      "('kiwi', 'apple', 'kiwi', 'cherry', 'apple')\n"
     ]
    }
   ],
   "source": [
    "# Tuple : Ordered (can be accessed by index), immutable and allows dupplicates\n",
    "a = (\"kiwi\", \"apple\", \"cherry\", \"tomato\")\n",
    "print(a)\n",
    "\n",
    "# Try inserting to tuple (will not work)\n",
    "# a[0] = \"ahihi\"\n",
    "\n",
    "# Tuples allow duplicates \n",
    "a = (\"kiwi\", \"apple\", \"kiwi\", \"cherry\", \"apple\")\n",
    "print(a)"
   ]
  },
  {
   "cell_type": "code",
   "execution_count": 36,
   "metadata": {},
   "outputs": [
    {
     "name": "stdout",
     "output_type": "stream",
     "text": [
      "{'kiwi', 'apple', 'cherry'}\n",
      "{'kiwi', 'apple', 'Meow', 'cherry'}\n",
      "{'kiwi', 'apple', 'cherry'}\n"
     ]
    }
   ],
   "source": [
    "# Sets : Unordered (cannot access by index), mutable and do not allow dupplicates\n",
    "a  = {\"kiwi\", \"apple\", \"kiwi\", \"cherry\", \"apple\"}\n",
    "print(a)\n",
    "\n",
    "# You cannot access a set element by index\n",
    "# print(a[0]) (will not work)\n",
    "\n",
    "# Sets are mutable\n",
    "a.add(\"Meow\") # Add to set\n",
    "print(a)\n",
    "\n",
    "a.remove(\"Meow\") # Remove from set\n",
    "print(a)"
   ]
  },
  {
   "cell_type": "code",
   "execution_count": 45,
   "metadata": {},
   "outputs": [
    {
     "name": "stdout",
     "output_type": "stream",
     "text": [
      "Male\n",
      "Hieu Minh Nong\n"
     ]
    }
   ],
   "source": [
    "# Dictionaries : Ordered (can be accessed by index), mutable and do not allow duplicates\n",
    "me = {\n",
    "    'name' : 'Nong Minh Hieu',\n",
    "    'age' : 21,\n",
    "    'school' : 'UOW',\n",
    "    'gender' : 'Questionable'\n",
    "}\n",
    "\n",
    "# Does not allow duplicate keys\n",
    "me = {\n",
    "    'name' : 'Nong Minh Hieu',\n",
    "    'age' : 21,\n",
    "    'school' : 'UOW',\n",
    "    'gender' : 'Questionable',\n",
    "    'gender' : 'Male' # My gender will be changed to 'Male', cannot have 2 genders\n",
    "}\n",
    "\n",
    "# Can be accesed with index\n",
    "print(me['gender'])\n",
    "\n",
    "# Dictionary is mutable\n",
    "me['name'] = 'Hieu Minh Nong'\n",
    "print(me['name'])"
   ]
  },
  {
   "cell_type": "markdown",
   "metadata": {},
   "source": [
    "# Python syntax revision"
   ]
  },
  {
   "cell_type": "markdown",
   "metadata": {},
   "source": [
    "## 1. Conditional statements"
   ]
  },
  {
   "cell_type": "code",
   "execution_count": 5,
   "metadata": {},
   "outputs": [
    {
     "name": "stdout",
     "output_type": "stream",
     "text": [
      "12 is equal to 12\n"
     ]
    }
   ],
   "source": [
    "# There are different types of conditions to work with in Python. Some of the fundamental types :\n",
    "# Equality condition : == \n",
    "# Inequality condition : >, <, >=, <=\n",
    "# List inclusion : e in list\n",
    "# List exclusion : e not in list\n",
    "b = 12\n",
    "a = 12\n",
    "\n",
    "if(a > b):\n",
    "    print(f'{a} is greater than {b}')\n",
    "elif(a == b):\n",
    "    print(f'{a} is equal to {b}')\n",
    "else:\n",
    "    print(f'{a} is smaller than {b}')"
   ]
  },
  {
   "cell_type": "code",
   "execution_count": 13,
   "metadata": {},
   "outputs": [
    {
     "name": "stdout",
     "output_type": "stream",
     "text": [
      "Please enter your age : \n",
      "12\n",
      "You must be 18 and above to access this channel\n"
     ]
    }
   ],
   "source": [
    "# Example : Input age and restrict based on user input\n",
    "# Note : Show them example of type conversion by first not using str(). Then explain why the code does not\n",
    "# work (inconsistent types). Then proceed to using str(). \n",
    "\n",
    "print('Please enter your age : ')\n",
    "age = input()\n",
    "# Or you can go age = eval(input())\n",
    "\n",
    "# Convert to integer\n",
    "age = int(age)\n",
    "\n",
    "if(age < 18):\n",
    "    print('You must be 18 and above to access this channel')\n",
    "else:\n",
    "    print('You are eligible for presidential voting')"
   ]
  },
  {
   "cell_type": "code",
   "execution_count": 16,
   "metadata": {},
   "outputs": [
    {
     "name": "stdout",
     "output_type": "stream",
     "text": [
      "Please enter the number : \n",
      "36\n",
      "Your inserted number is a perfecto square\n"
     ]
    }
   ],
   "source": [
    "# Example : Input a number and check if it is a square number\n",
    "# Method : A number is perfect square if it's square root has equal floor and ceiling\n",
    "\n",
    "print('Please enter the number : ')\n",
    "number = eval(input())\n",
    "\n",
    "# Calculate the square root\n",
    "root = math.sqrt(number)\n",
    "\n",
    "# Get the root's floor and ceiling\n",
    "r_floor = math.floor(root)\n",
    "r_ceil = math.ceil(root)\n",
    "\n",
    "if(r_floor == r_ceil):\n",
    "    print('Your inserted number is a perfecto square')\n",
    "else:\n",
    "    print('Not a perfect square, sorry')"
   ]
  },
  {
   "cell_type": "markdown",
   "metadata": {},
   "source": [
    "## 2. Looping - for and while"
   ]
  },
  {
   "cell_type": "code",
   "execution_count": 55,
   "metadata": {},
   "outputs": [
    {
     "name": "stdout",
     "output_type": "stream",
     "text": [
      "0 1 2 3 4 5 6 7 8 9 10 11 12 13 14 15 16 17 18 19 \n",
      "\n",
      "APPLE\n",
      "BANANA\n",
      "KIWI\n",
      "DONUT\n",
      "\n",
      "\n",
      "name  ->  Nong Minh Hieu\n",
      "age  ->  21\n",
      "school  ->  UOW\n",
      "gender  ->  Questionable\n"
     ]
    }
   ],
   "source": [
    "# Example : We want to access and print all numbers from 1 to 20\n",
    "for i in range(20):\n",
    "    print(i, end = ' ')\n",
    "print('\\n')\n",
    "    \n",
    "# Example looping through all elements in a list or any list-like data structures\n",
    "a = [\"apple\", \"banana\", \"kiwi\", \"donut\"]\n",
    "for element in a:\n",
    "    print(element.upper())\n",
    "print('\\n')\n",
    "    \n",
    "# Example : Looping through all key - value pairs in a dictionary\n",
    "me = {\n",
    "    'name' : 'Nong Minh Hieu',\n",
    "    'age' : 21,\n",
    "    'school' : 'UOW',\n",
    "    'gender' : 'Questionable'\n",
    "}\n",
    "\n",
    "for key, value in me.items():\n",
    "    print(key, ' -> ', value)"
   ]
  },
  {
   "cell_type": "code",
   "execution_count": 58,
   "metadata": {},
   "outputs": [
    {
     "name": "stdout",
     "output_type": "stream",
     "text": [
      "20 19 18 17 16 15 14 13 12 11 10 9 8 7 6 5 4 3 2 1 "
     ]
    }
   ],
   "source": [
    "# While loop : Loop until a condition is met\n",
    "# Example : Keep derementing a number until it is 1\n",
    "number = 20\n",
    "while(number >= 1):\n",
    "    print(number, end = ' ')\n",
    "    number -= 1"
   ]
  },
  {
   "cell_type": "code",
   "execution_count": 61,
   "metadata": {},
   "outputs": [
    {
     "name": "stdout",
     "output_type": "stream",
     "text": [
      "10\n",
      "5\n",
      "4\n",
      "2\n",
      "1\n"
     ]
    }
   ],
   "source": [
    "# Example : Print out all numbers a number is divisible by\n",
    "number = 20\n",
    "n = number\n",
    "while(n > 1):\n",
    "    n -= 1\n",
    "    div = number / n\n",
    "    if(math.ceil(div) == math.floor(div)):\n",
    "        print(n)"
   ]
  },
  {
   "cell_type": "markdown",
   "metadata": {},
   "source": [
    "## 3. Functions"
   ]
  },
  {
   "cell_type": "code",
   "execution_count": 17,
   "metadata": {},
   "outputs": [
    {
     "name": "stdout",
     "output_type": "stream",
     "text": [
      "Is perfecto square\n",
      "Not a perfecto square\n",
      "Not a perfecto square\n",
      "Not a perfecto square\n",
      "Not a perfecto square\n",
      "Is perfecto square\n",
      "Not a perfecto square\n",
      "Not a perfecto square\n"
     ]
    }
   ],
   "source": [
    "# Example : Write a function to return True if a number is a perfecto square. Otherwise, False\n",
    "def is_square(number):\n",
    "    # Calculate the square root\n",
    "    root = math.sqrt(number)\n",
    "\n",
    "    # Get the root's floor and ceiling\n",
    "    r_floor = math.floor(root)\n",
    "    r_ceil = math.ceil(root)\n",
    "    \n",
    "    return r_floor == r_ceil\n",
    "\n",
    "# Introduce short hand if-else statement here\n",
    "# <do_something> if <condition> else <do_something_else>\n",
    "print('Is perfecto square') if is_square(4) else print('Not a perfecto square')\n",
    "print('Is perfecto square') if is_square(5) else print('Not a perfecto square')\n",
    "print('Is perfecto square') if is_square(6) else print('Not a perfecto square')\n",
    "print('Is perfecto square') if is_square(7) else print('Not a perfecto square')\n",
    "print('Is perfecto square') if is_square(8) else print('Not a perfecto square')\n",
    "print('Is perfecto square') if is_square(9) else print('Not a perfecto square')\n",
    "print('Is perfecto square') if is_square(10) else print('Not a perfecto square')\n",
    "print('Is perfecto square') if is_square(11) else print('Not a perfecto square')"
   ]
  },
  {
   "cell_type": "code",
   "execution_count": 48,
   "metadata": {},
   "outputs": [
    {
     "name": "stdout",
     "output_type": "stream",
     "text": [
      "The average of the list is 140.67\n"
     ]
    }
   ],
   "source": [
    "# Example : Write a function to return the average of a list\n",
    "def average(numbers):\n",
    "    total = 0\n",
    "    \n",
    "    for number in numbers:\n",
    "        total = total + number\n",
    "        \n",
    "    mean = total / len(numbers)\n",
    "    return mean\n",
    "\n",
    "alist = [21,123,567,24,18, 91]\n",
    "print(f'The average of the list is {average(alist):.2f}')"
   ]
  },
  {
   "cell_type": "code",
   "execution_count": null,
   "metadata": {},
   "outputs": [],
   "source": []
  }
 ],
 "metadata": {
  "kernelspec": {
   "display_name": "Python 3",
   "language": "python",
   "name": "python3"
  },
  "language_info": {
   "codemirror_mode": {
    "name": "ipython",
    "version": 3
   },
   "file_extension": ".py",
   "mimetype": "text/x-python",
   "name": "python",
   "nbconvert_exporter": "python",
   "pygments_lexer": "ipython3",
   "version": "3.8.10"
  }
 },
 "nbformat": 4,
 "nbformat_minor": 4
}
