{
 "cells": [
  {
   "cell_type": "markdown",
   "metadata": {},
   "source": [
    "# Import libraries\n",
    "    * Note : contents will be shortened once I see what will be taught in Python101"
   ]
  },
  {
   "cell_type": "code",
   "execution_count": 2,
   "metadata": {},
   "outputs": [],
   "source": [
    "import math"
   ]
  },
  {
   "cell_type": "markdown",
   "metadata": {},
   "source": [
    "# Basic data types in Python"
   ]
  },
  {
   "cell_type": "code",
   "execution_count": 3,
   "metadata": {},
   "outputs": [],
   "source": [
    "# Numeric data types\n",
    "a = 16 # Integers\n",
    "b = 16.0 # Floats\n",
    "\n",
    "# Strings\n",
    "string = 'Welcome to Dacademy'\n",
    "\n",
    "# Booleans \n",
    "t = True # E.g : 12 > 5\n",
    "f = False # E.g : Hieu is totally secure with his social skill (Joke - correct when done with joking)"
   ]
  },
  {
   "cell_type": "markdown",
   "metadata": {},
   "source": [
    "# Basic data structures in Python"
   ]
  },
  {
   "cell_type": "code",
   "execution_count": 4,
   "metadata": {},
   "outputs": [
    {
     "name": "stdout",
     "output_type": "stream",
     "text": [
      "['apple', 'banana', 'kiwi', 'donut']\n",
      "\n",
      "kiwi\n",
      "\n",
      "The list after modification : \n",
      "['apple', 'horn melon', 'kiwi', 'donut']\n",
      "\n",
      "The list after modification : \n",
      "['apple', 'blue berry', 'horn melon', 'kiwi', 'donut']\n",
      "\n",
      "The list after modification : \n",
      "['apple', 'blue berry', 'horn melon', 'kiwi', 'donut', 'tomato']\n",
      "\n",
      "The list after modification : \n",
      "['apple', 'blue berry', 'horn melon', 'donut', 'tomato']\n"
     ]
    }
   ],
   "source": [
    "# List : just an array of things\n",
    "a = [\"apple\", \"banana\", \"kiwi\", \"donut\"]\n",
    "print(a)\n",
    "\n",
    "# You can access list's item using index\n",
    "print('\\n' + a[2])\n",
    "\n",
    "# List is mutable, you can assign value to an element at index i\n",
    "a[1] = \"horn melon\"\n",
    "print('\\nThe list after modification : ')\n",
    "print(a)\n",
    "\n",
    "# You can add items to a list using append or insert\n",
    "a.insert(1, 'blue berry')\n",
    "print('\\nThe list after modification : ')\n",
    "print(a)\n",
    "\n",
    "a.append('tomato')\n",
    "print('\\nThe list after modification : ')\n",
    "print(a)\n",
    "\n",
    "# Remove item from the list\n",
    "a.pop(3) # Removes 'Kiwi'\n",
    "print('\\nThe list after modification : ')\n",
    "print(a)"
   ]
  },
  {
   "cell_type": "code",
   "execution_count": 5,
   "metadata": {},
   "outputs": [
    {
     "name": "stdout",
     "output_type": "stream",
     "text": [
      "('kiwi', 'apple', 'cherry', 'tomato')\n",
      "('kiwi', 'apple', 'kiwi', 'cherry', 'apple')\n"
     ]
    }
   ],
   "source": [
    "# Tuple : Ordered (can be accessed by index), immutable and allows dupplicates\n",
    "a = (\"kiwi\", \"apple\", \"cherry\", \"tomato\")\n",
    "print(a)\n",
    "\n",
    "# Try inserting to tuple (will not work)\n",
    "# a[0] = \"ahihi\"\n",
    "\n",
    "# Tuples allow duplicates \n",
    "a = (\"kiwi\", \"apple\", \"kiwi\", \"cherry\", \"apple\")\n",
    "print(a)"
   ]
  },
  {
   "cell_type": "code",
   "execution_count": 6,
   "metadata": {},
   "outputs": [
    {
     "name": "stdout",
     "output_type": "stream",
     "text": [
      "{'apple', 'cherry', 'kiwi'}\n",
      "{'apple', 'cherry', 'kiwi', 'Meow'}\n",
      "{'apple', 'cherry', 'kiwi'}\n"
     ]
    }
   ],
   "source": [
    "# Sets : Unordered (cannot access by index), mutable and do not allow dupplicates\n",
    "a  = {\"kiwi\", \"apple\", \"kiwi\", \"cherry\", \"apple\"}\n",
    "print(a)\n",
    "\n",
    "# You cannot access a set element by index\n",
    "# print(a[0]) (will not work)\n",
    "\n",
    "# Sets are mutable\n",
    "a.add(\"Meow\") # Add to set\n",
    "print(a)\n",
    "\n",
    "a.remove(\"Meow\") # Remove from set\n",
    "print(a)"
   ]
  },
  {
   "cell_type": "code",
   "execution_count": 7,
   "metadata": {},
   "outputs": [
    {
     "name": "stdout",
     "output_type": "stream",
     "text": [
      "Male\n",
      "Hieu Minh Nong\n"
     ]
    }
   ],
   "source": [
    "# Dictionaries : Ordered (can be accessed by index), mutable and do not allow duplicates\n",
    "me = {\n",
    "    'name' : 'Nong Minh Hieu',\n",
    "    'age' : 21,\n",
    "    'school' : 'UOW',\n",
    "    'gender' : 'Questionable'\n",
    "}\n",
    "\n",
    "# Does not allow duplicate keys\n",
    "me = {\n",
    "    'name' : 'Nong Minh Hieu',\n",
    "    'age' : 21,\n",
    "    'school' : 'UOW',\n",
    "    'gender' : 'Questionable',\n",
    "    'gender' : 'Male' # My gender will be changed to 'Male', cannot have 2 genders\n",
    "}\n",
    "\n",
    "# Can be accesed with index\n",
    "print(me['gender'])\n",
    "\n",
    "# Dictionary is mutable\n",
    "me['name'] = 'Hieu Minh Nong'\n",
    "print(me['name'])"
   ]
  },
  {
   "cell_type": "markdown",
   "metadata": {},
   "source": [
    "# Python syntax revision"
   ]
  },
  {
   "cell_type": "markdown",
   "metadata": {},
   "source": [
    "## 1. Conditional statements"
   ]
  },
  {
   "cell_type": "code",
   "execution_count": 8,
   "metadata": {},
   "outputs": [
    {
     "name": "stdout",
     "output_type": "stream",
     "text": [
      "12 is equal to 12\n"
     ]
    }
   ],
   "source": [
    "# There are different types of conditions to work with in Python. Some of the fundamental types :\n",
    "# Equality condition : == \n",
    "# Inequality condition : >, <, >=, <=\n",
    "# List inclusion : e in list\n",
    "# List exclusion : e not in list\n",
    "b = 12\n",
    "a = 12\n",
    "\n",
    "if(a > b):\n",
    "    print(f'{a} is greater than {b}')\n",
    "elif(a == b):\n",
    "    print(f'{a} is equal to {b}')\n",
    "else:\n",
    "    print(f'{a} is smaller than {b}')"
   ]
  },
  {
   "cell_type": "code",
   "execution_count": 9,
   "metadata": {},
   "outputs": [
    {
     "name": "stdout",
     "output_type": "stream",
     "text": [
      "Please enter your age : \n",
      "12\n",
      "You must be 18 and above to access this channel\n"
     ]
    }
   ],
   "source": [
    "# Example : Input age and restrict based on user input\n",
    "# Note : Show them example of type conversion by first not using str(). Then explain why the code does not\n",
    "# work (inconsistent types). Then proceed to using str(). \n",
    "\n",
    "print('Please enter your age : ')\n",
    "age = input()\n",
    "# Or you can go age = eval(input())\n",
    "\n",
    "# Convert to integer\n",
    "age = int(age)\n",
    "\n",
    "if(age < 18):\n",
    "    print('You must be 18 and above to access this channel')\n",
    "else:\n",
    "    print('You are eligible for presidential voting')"
   ]
  },
  {
   "cell_type": "code",
   "execution_count": 10,
   "metadata": {},
   "outputs": [
    {
     "name": "stdout",
     "output_type": "stream",
     "text": [
      "Please enter the number : \n",
      "2\n",
      "Not a perfect square, sorry\n"
     ]
    }
   ],
   "source": [
    "# Example : Input a number and check if it is a square number\n",
    "# Method : A number is perfect square if it's square root has equal floor and ceiling\n",
    "\n",
    "print('Please enter the number : ')\n",
    "number = eval(input())\n",
    "\n",
    "# Calculate the square root\n",
    "root = math.sqrt(number)\n",
    "\n",
    "# Get the root's floor and ceiling\n",
    "r_floor = math.floor(root)\n",
    "r_ceil = math.ceil(root)\n",
    "\n",
    "if(r_floor == r_ceil):\n",
    "    print('Your inserted number is a perfecto square')\n",
    "else:\n",
    "    print('Not a perfect square, sorry')"
   ]
  },
  {
   "cell_type": "markdown",
   "metadata": {},
   "source": [
    "## 2. Looping - for and while"
   ]
  },
  {
   "cell_type": "code",
   "execution_count": 3,
   "metadata": {},
   "outputs": [
    {
     "name": "stdout",
     "output_type": "stream",
     "text": [
      "0 1 2 3 4 5 6 7 8 9 10 11 12 13 14 15 16 17 18 19 \n",
      "\n",
      "APPLE\n",
      "BANANA\n",
      "KIWI\n",
      "DONUT\n",
      "\n",
      "\n",
      "name  ->  Nong Minh Hieu\n",
      "age  ->  21\n",
      "school  ->  UOW\n",
      "gender  ->  Questionable\n",
      "\n",
      "\n",
      "[1, 2, 3, 4, 5, 6, 7, 8, 9, 10, 11, 12, 13, 14, 15, 16, 17, 18, 19, 20]\n",
      "[1, 4, 9, 16, 25, 36, 49, 64, 81, 100, 121, 144, 169, 196, 225, 256, 289, 324, 361, 400]\n",
      "\n",
      "\n"
     ]
    }
   ],
   "source": [
    "# Example : We want to access and print all numbers from 1 to 20\n",
    "for i in range(20):\n",
    "    print(i, end = ' ')\n",
    "print('\\n')\n",
    "    \n",
    "# Example looping through all elements in a list or any list-like data structures\n",
    "a = [\"apple\", \"banana\", \"kiwi\", \"donut\"]\n",
    "for element in a:\n",
    "    print(element.upper())\n",
    "print('\\n')\n",
    "    \n",
    "# Example : Looping through all key - value pairs in a dictionary\n",
    "me = {\n",
    "    'name' : 'Nong Minh Hieu',\n",
    "    'age' : 21,\n",
    "    'school' : 'UOW',\n",
    "    'gender' : 'Questionable'\n",
    "}\n",
    "\n",
    "for key, value in me.items():\n",
    "    print(key, ' -> ', value)\n",
    "print('\\n')\n",
    "    \n",
    "# Example : Do a short hand loop. let's say you want to quickly have a list of integers from 1 - 20\n",
    "# Example : Do a short hand loop. Let's have a list of squares of the first 20 integers\n",
    "nums = [x for x in range(1, 21)]\n",
    "squares = [x ** 2 for x in range(1, 21)]\n",
    "print(nums)\n",
    "print(squares)\n",
    "print('\\n')"
   ]
  },
  {
   "cell_type": "code",
   "execution_count": 12,
   "metadata": {},
   "outputs": [
    {
     "name": "stdout",
     "output_type": "stream",
     "text": [
      "20 19 18 17 16 15 14 13 12 11 10 9 8 7 6 5 4 3 2 1 "
     ]
    }
   ],
   "source": [
    "# While loop : Loop until a condition is met\n",
    "# Example : Counting down from a number to 1\n",
    "number = 20\n",
    "while(number >= 1):\n",
    "    print(number, end = ' ')\n",
    "    number -= 1"
   ]
  },
  {
   "cell_type": "code",
   "execution_count": 13,
   "metadata": {},
   "outputs": [
    {
     "name": "stdout",
     "output_type": "stream",
     "text": [
      "10\n",
      "5\n",
      "4\n",
      "2\n",
      "1\n"
     ]
    }
   ],
   "source": [
    "# Example : Print out all numbers that n is divisible by\n",
    "number = 20\n",
    "n = number\n",
    "while(n > 1):\n",
    "    n -= 1\n",
    "    div = number / n\n",
    "    if(math.ceil(div) == math.floor(div)):\n",
    "        print(n)"
   ]
  },
  {
   "cell_type": "markdown",
   "metadata": {},
   "source": [
    "## 3. Functions"
   ]
  },
  {
   "cell_type": "code",
   "execution_count": 16,
   "metadata": {},
   "outputs": [
    {
     "name": "stdout",
     "output_type": "stream",
     "text": [
      "5 is not a perfecto square\n",
      "6 is not a perfecto square\n",
      "7 is not a perfecto square\n",
      "8 is not a perfecto square\n",
      "10 is not a perfecto square\n",
      "11 is not a perfecto square\n",
      "12 is not a perfecto square\n",
      "List of perfecto square :  [4, 9]\n"
     ]
    }
   ],
   "source": [
    "# Example : Write a function to return True if a number is a perfecto square. Otherwise, False\n",
    "def is_square(number):\n",
    "    # Calculate the square root\n",
    "    root = math.sqrt(number)\n",
    "\n",
    "    # Get the root's floor and ceiling\n",
    "    r_floor = math.floor(root)\n",
    "    r_ceil = math.ceil(root)\n",
    "    \n",
    "    return r_floor == r_ceil\n",
    "\n",
    "# Introduce short hand if-else statement here\n",
    "# <do_something> if <condition> else <do_something_else>\n",
    "numbers = [4,5,6,7,8,9,10,11,12]\n",
    "perfect_squares = []\n",
    "for num in numbers:\n",
    "    perfect_squares.append(num) if is_square(num) else print(f'{num} is not a perfecto square')\n",
    "    \n",
    "print('List of perfecto square : ', perfect_squares)"
   ]
  },
  {
   "cell_type": "code",
   "execution_count": 15,
   "metadata": {},
   "outputs": [
    {
     "name": "stdout",
     "output_type": "stream",
     "text": [
      "The average of the list is 140.67\n"
     ]
    }
   ],
   "source": [
    "# Example : Write a function to return the average of a list\n",
    "def average(numbers):\n",
    "    total = 0\n",
    "    \n",
    "    for number in numbers:\n",
    "        total = total + number\n",
    "        \n",
    "    mean = total / len(numbers)\n",
    "    return mean\n",
    "\n",
    "alist = [21,123,567,24,18, 91]\n",
    "print(f'The average of the list is {average(alist):.2f}')"
   ]
  },
  {
   "cell_type": "markdown",
   "metadata": {},
   "source": [
    "# File handling"
   ]
  },
  {
   "cell_type": "markdown",
   "metadata": {},
   "source": [
    "## 1. Task 1 : Download and read file"
   ]
  },
  {
   "cell_type": "code",
   "execution_count": 36,
   "metadata": {},
   "outputs": [],
   "source": [
    "# 1. Download the data file with urllib\n",
    "#   After the cell is ran the contents of the data in the URL will be downloaded \n",
    "#   and stored as \"data.csv\"\n",
    "import urllib\n",
    "\n",
    "data_url = \"https://raw.githubusercontent.com/hieubkvn123/data/master/employee.csv\"\n",
    "data_filename = \"data.csv\"\n",
    "\n",
    "urllib.request.urlretrieve(data_url, data_filename)\n",
    "\n",
    "# 2. Now read back the data in the file\n",
    "lines = []\n",
    "with open(data_filename, 'r') as f:\n",
    "    # 2.1. Read the file line by line and get list of lines\n",
    "    lines = f.readlines()\n",
    "    \n",
    "    # 2.2. Loop through the lines to strip whitespaces\n",
    "    for i in range(len(lines)):\n",
    "        lines[i] = lines[i].strip()\n",
    "     \n",
    "    \n",
    "# On each line : id,name,address,dept,salary"
   ]
  },
  {
   "cell_type": "markdown",
   "metadata": {},
   "source": [
    "## 2. Task 2 : Store the employees as list of dict"
   ]
  },
  {
   "cell_type": "code",
   "execution_count": 37,
   "metadata": {},
   "outputs": [
    {
     "name": "stdout",
     "output_type": "stream",
     "text": [
      "[{'emp_id': '00000002', 'emp_name': 'John Sanchez', 'emp_addr': 'USS Johnson FPO AA 25657', 'emp_dept': 'Marketing', 'emp_salary': 2930}, {'emp_id': '00000003', 'emp_name': 'Brittney Santos', 'emp_addr': '5425 Bell Junction New Lisa; AR 55659', 'emp_dept': 'HR', 'emp_salary': 2720}, {'emp_id': '00000004', 'emp_name': 'William Mcdonald', 'emp_addr': '6230 Claire Mills Murrayburgh; AZ 14614', 'emp_dept': 'HR', 'emp_salary': 1470}, {'emp_id': '00000005', 'emp_name': 'Steve Nelson', 'emp_addr': '78640 Garcia Greens Apt. 633 Briggsland; CT 10609', 'emp_dept': 'Marketing', 'emp_salary': 1920}]\n"
     ]
    }
   ],
   "source": [
    "# Create a list \n",
    "employees = []\n",
    "\n",
    "# 1. Loop through the lines\n",
    "for line in lines:\n",
    "    # 2. Create a dict to store employee's info\n",
    "    emp = {}\n",
    "    \n",
    "    # 2. Tokenize the string by comma\n",
    "    tokens = line.split(',') # .split(delimiter) = split string by a delimiter\n",
    "    emp['emp_id'] = tokens[0]\n",
    "    emp['emp_name'] = tokens[1]\n",
    "    emp['emp_addr'] = tokens[2]\n",
    "    emp['emp_dept'] = tokens[3]\n",
    "    emp['emp_salary'] = int(tokens[4])\n",
    "    \n",
    "    employees.append(emp)\n",
    "    \n",
    "print(employees[1:5])"
   ]
  },
  {
   "cell_type": "markdown",
   "metadata": {},
   "source": [
    "## 3. Let's do some statistics on the employees"
   ]
  },
  {
   "cell_type": "markdown",
   "metadata": {},
   "source": [
    "### a. Count the number employees on each department and store the information in a file"
   ]
  },
  {
   "cell_type": "code",
   "execution_count": 38,
   "metadata": {},
   "outputs": [
    {
     "name": "stdout",
     "output_type": "stream",
     "text": [
      "{'Business': 1684, 'Marketing': 1694, 'HR': 1597, 'R&D': 1700, 'Operation': 1622, 'IT': 1703}\n"
     ]
    }
   ],
   "source": [
    "# Explanation : We need to keep track of the count for each department. It would be a drag to\n",
    "# define a count variable for each department, so what we will do is create a dictionary for every dept\n",
    "# whenever we encounter an employee of a department we will increment the count of that department in \n",
    "# the dictionary\n",
    "\n",
    "# 1. Initialize the dictionary\n",
    "counts = {}\n",
    "\n",
    "# 2. Loop through the employees list\n",
    "for emp in employees:\n",
    "    # Get the department of this employee\n",
    "    current_dept = emp['emp_dept']\n",
    "    \n",
    "    # If this department does not exist in the dict\n",
    "    if(current_dept not in counts):\n",
    "        # Initialize the count for this department\n",
    "        counts[current_dept] = 1\n",
    "    # If current dept exists\n",
    "    else:\n",
    "        # Increment the count\n",
    "        counts[current_dept] += 1\n",
    "\n",
    "print(counts)"
   ]
  },
  {
   "cell_type": "markdown",
   "metadata": {},
   "source": [
    "### b. (For subcomms) Find the min and max salary of each department salary"
   ]
  },
  {
   "cell_type": "code",
   "execution_count": 46,
   "metadata": {},
   "outputs": [
    {
     "name": "stdout",
     "output_type": "stream",
     "text": [
      "{'Business': 1000, 'Marketing': 1000, 'HR': 1000, 'R&D': 1010, 'Operation': 1000, 'IT': 1000}\n",
      "{'Business': 9980, 'Marketing': 9980, 'HR': 9980, 'R&D': 9980, 'Operation': 9970, 'IT': 9980}\n"
     ]
    }
   ],
   "source": [
    "# 1. Initialize the dictionaries\n",
    "min_salary = {}\n",
    "max_salary = {}\n",
    "\n",
    "# 2. Loop through the employees\n",
    "for emp in employees:\n",
    "    # Get the current department\n",
    "    current_dept = emp['emp_dept']\n",
    "    \n",
    "    if(current_dept not in min_salary):\n",
    "        min_salary[current_dept] = emp['emp_salary']\n",
    "    else:\n",
    "        # Compare with current min\n",
    "        if(emp['emp_salary'] < min_salary[current_dept]):\n",
    "            # Replace with the previous min if current salary is lower\n",
    "            min_salary[current_dept] = emp['emp_salary']\n",
    "            \n",
    "            \n",
    "    if(current_dept not in max_salary):\n",
    "        max_salary[current_dept] = emp['emp_salary']\n",
    "    else:\n",
    "        # Compare with current max\n",
    "        if(emp['emp_salary'] > max_salary[current_dept]):\n",
    "            # Replace with the previous min if current salary is higher\n",
    "            max_salary[current_dept] = emp['emp_salary']\n",
    "            \n",
    "print(min_salary)\n",
    "print(max_salary)"
   ]
  },
  {
   "cell_type": "markdown",
   "metadata": {},
   "source": [
    "### c. (For subcomms) Calculate the average salary of employees in each department"
   ]
  },
  {
   "cell_type": "code",
   "execution_count": 42,
   "metadata": {},
   "outputs": [
    {
     "name": "stdout",
     "output_type": "stream",
     "text": [
      "Average salary of Business department is 5570.24\n",
      "Average salary of Marketing department is 5438.84\n",
      "Average salary of HR department is 5565.69\n",
      "Average salary of R&D department is 5450.21\n",
      "Average salary of Operation department is 5357.38\n",
      "Average salary of IT department is 5514.62\n"
     ]
    }
   ],
   "source": [
    "# Hint : Now that we have the count of the employees in each department. What we will need now is a \n",
    "# dictionary of sum and after the calculation of sum salary, we will calculate the mean using both\n",
    "# dictionaries\n",
    "\n",
    "# 1. Initialize the dictionary\n",
    "total = {}\n",
    "\n",
    "# 2. Again, loop through the employees list\n",
    "for emp in employees:\n",
    "    # Get the dept\n",
    "    current_dept = emp['emp_dept']\n",
    "    \n",
    "    # If not inside the dict\n",
    "    if(current_dept not in total):\n",
    "        # Initialize\n",
    "        total[current_dept] = emp['emp_salary']\n",
    "    else:\n",
    "        # Add current employee's salary to the total\n",
    "        total[current_dept] += emp['emp_salary']\n",
    "        \n",
    "# 3. Calculate the mean using both dictionaries\n",
    "for dept in counts.keys():\n",
    "    total_salary = total[dept]\n",
    "    count = counts[dept]\n",
    "    \n",
    "    mean = total_salary / count\n",
    "    \n",
    "    print(f'Average salary of {dept} department is {mean:.2f}')"
   ]
  },
  {
   "cell_type": "code",
   "execution_count": null,
   "metadata": {},
   "outputs": [],
   "source": []
  }
 ],
 "metadata": {
  "kernelspec": {
   "display_name": "Python 3",
   "language": "python",
   "name": "python3"
  },
  "language_info": {
   "codemirror_mode": {
    "name": "ipython",
    "version": 3
   },
   "file_extension": ".py",
   "mimetype": "text/x-python",
   "name": "python",
   "nbconvert_exporter": "python",
   "pygments_lexer": "ipython3",
   "version": "3.8.10"
  }
 },
 "nbformat": 4,
 "nbformat_minor": 4
}
