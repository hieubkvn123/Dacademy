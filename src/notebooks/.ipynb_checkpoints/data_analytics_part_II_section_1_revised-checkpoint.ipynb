{
 "cells": [
  {
   "cell_type": "markdown",
   "metadata": {},
   "source": [
    "# Import libraries"
   ]
  },
  {
   "cell_type": "code",
   "execution_count": 1,
   "metadata": {},
   "outputs": [],
   "source": [
    "'''\n",
    "    Please install the following libraries before you start :\n",
    "        - autograd\n",
    "        - imageio\n",
    "'''\n",
    "import time\n",
    "import numpy as np\n",
    "import pandas as pd\n",
    "import autograd.numpy as anp\n",
    "import matplotlib.pyplot as plt\n",
    "\n",
    "from utils import visualize_linear_reg\n",
    "\n",
    "from sklearn.pipeline import Pipeline\n",
    "from sklearn.compose import ColumnTransformer\n",
    "from sklearn.impute import SimpleImputer\n",
    "from sklearn.preprocessing import StandardScaler\n",
    "from sklearn.preprocessing import OrdinalEncoder\n",
    "\n",
    "from sklearn.model_selection import train_test_split, StratifiedShuffleSplit\n",
    "from sklearn.metrics import mean_squared_error\n",
    "from sklearn.linear_model import LinearRegression, Ridge, Lasso\n",
    "from sklearn.linear_model import LogisticRegression\n",
    "from sklearn.svm import LinearSVC, SVC\n",
    "\n",
    "from sklearn.tree import DecisionTreeRegressor, plot_tree\n",
    "from sklearn.ensemble import RandomForestRegressor, GradientBoostingClassifier\n",
    "\n",
    "from sklearn.metrics import plot_confusion_matrix\n",
    "from sklearn.metrics import precision_score, recall_score, f1_score, accuracy_score, r2_score"
   ]
  },
  {
   "cell_type": "markdown",
   "metadata": {},
   "source": [
    "# Introduction"
   ]
  },
  {
   "cell_type": "markdown",
   "metadata": {},
   "source": [
    "# Linear Regression\n",
    "## General formula\n",
    "![Linear regression formula](https://miro.medium.com/max/1400/1*GSAcN9G7stUJQbuOhu0HEg.png)\n",
    "\n",
    "## Demo\n",
    "![Linear regression demo](../../media/linear_regression.gif)\n",
    "\n",
    "## Disadvantages of linear regression\n",
    "* Real-life data is not always linear, it is not practical.\n",
    "* In order for OLS to be the best linear unbiased estimator (BLUE). Must satisfy a lot of condition\n",
    "    - Linearity of parameters (Cannot have quadratic, cubic parameters - relationship between independent and dependent variables is ALWAYS linear)\n",
    "    - Zero conditional mean of errors (The mean of errors as X progress is zero)\n",
    "    - Random sampling (Data is assumed to come from a fixed predefined distribution)\n",
    "    - Variance of errors is constant as X progress\n",
    "    - No perfect collinearity\n",
    "    - Homoskedasticity\n",
    "    \n",
    "=> Today we will look at a more robust and practical regression techniques - Decision Trees"
   ]
  },
  {
   "cell_type": "markdown",
   "metadata": {},
   "source": [
    "# Decision Tree for regression"
   ]
  },
  {
   "cell_type": "markdown",
   "metadata": {},
   "source": [
    "## 1. Overview\n",
    " - Decision tree is a machine learning method where the prediction is made by splitting data (multiple times) based on certain conditions into groups. When new data arrives, the prediction will be generated based on the group that the new data is splitted into. \n",
    "\n",
    "![Decison tree overview](https://lh4.googleusercontent.com/v9UQUwaQTAXVH90b-Ugyw2_61_uErfYvTBtG-RNRNB_eHUFq9AmAN_2IOdfOETnbXImnQVN-wPC7_YzDgf7urCeyhyx5UZmuSwV8BVsV8VnHxl1KtgpuxDifJ4pLE23ooYXLlnc)"
   ]
  },
  {
   "cell_type": "markdown",
   "metadata": {},
   "source": [
    "## 2. How does it work? - demo example"
   ]
  },
  {
   "cell_type": "code",
   "execution_count": 2,
   "metadata": {},
   "outputs": [
    {
     "data": {
      "image/png": "[encoded data removed]",
      "text/plain": [
       "<Figure size 432x288 with 1 Axes>"
      ]
     },
     "metadata": {
      "needs_background": "light"
     },
     "output_type": "display_data"
    }
   ],
   "source": [
    "# Example : We want to predict the Major Depression Index (MDI) \n",
    "# based on the amount of time spent alone in a day (hours)\n",
    "\n",
    "# Goal : Find best split that will minimize the prediction's MSE\n",
    "\n",
    "# Approach : We will try to cut the hour values in every way to see \n",
    "# what cut results in the lowest MSE\n",
    "hours = [2, 3, 4, 6, 7, 9, 11, 14, 16, 17, 18, 21, 22, 24]\n",
    "mdi_v = [0.1, 0.12, 0.13, 0.12, 0.11, 0.83, 0.80, 0.91, 0.81, 0.21, 0.15, 0.16, 0.17, 0.18]\n",
    "\n",
    "data = pd.DataFrame()\n",
    "data['hours'] = hours\n",
    "data['mdi_v'] = mdi_v\n",
    "\n",
    "data.plot(kind='scatter', x='hours', y='mdi_v')\n",
    "plt.show()"
   ]
  },
  {
   "cell_type": "code",
   "execution_count": 3,
   "metadata": {},
   "outputs": [
    {
     "data": {
      "image/png": "[encoded data removed]",
      "text/plain": [
       "<Figure size 432x288 with 1 Axes>"
      ]
     },
     "metadata": {
      "needs_background": "light"
     },
     "output_type": "display_data"
    },
    {
     "data": {
      "text/plain": [
       "'\\nQuestions that may arise :\\n1. What if the data frame contain multiple columns (which is mostly the case) : Then when splitting, the algorithm\\nwill identify the best split by going through all columns and all values in each column to examine the error after\\nsplitting. \\n\\n2. What if there are a lot of numbers in the column : Then we will need discretization (assign values into bins). \\nOne of my preferred approach is to use percentile values to cut the data\\n\\nNote : Do make jokes about my anxiety and depression\\n'"
      ]
     },
     "execution_count": 3,
     "metadata": {},
     "output_type": "execute_result"
    }
   ],
   "source": [
    "def split(data, threshold):\n",
    "    # Compute the mean of mdi of rows with hours < threshold\n",
    "    lower = data[data['hours'] < threshold]['mdi_v'].mean()\n",
    "    \n",
    "    # Compute the mean of mdi of rows with hours > threshold\n",
    "    upper = data[data['hours'] > threshold]['mdi_v'].mean()\n",
    "    \n",
    "    # Generate the prediction - mean of the data points in each split\n",
    "    prediction = data\n",
    "    prediction['prediction'] = data['hours'].apply(lambda x : lower if x < threshold else upper)\n",
    "    \n",
    "    # Compute the mean squared error\n",
    "    mse = ((prediction['mdi_v'] - prediction['prediction']) ** 2).mean()\n",
    "    \n",
    "    # Visualize the result\n",
    "    plt.scatter(data['hours'], data['mdi_v'])\n",
    "    plt.axvline(threshold, color='red') # Draw the threshold boundary\n",
    "    plt.title(f'MSE = {mse}')\n",
    "    plt.show()\n",
    "    \n",
    "    return prediction\n",
    "\n",
    "prediction = split(data, 5)\n",
    "prediction.head()\n",
    "\n",
    "'''\n",
    "Questions that may arise :\n",
    "1. What if the data frame contain multiple columns (which is mostly the case) : Then when splitting, the algorithm\n",
    "will identify the best split by going through all columns and all values in each column to examine the error after\n",
    "splitting. \n",
    "\n",
    "2. What if there are a lot of numbers in the column : Then we will need discretization (assign values into bins). \n",
    "One of my preferred approach is to use percentile values to cut the data\n",
    "\n",
    "Note : Do make jokes about my anxiety and depression\n",
    "'''"
   ]
  },
  {
   "cell_type": "markdown",
   "metadata": {},
   "source": [
    "# I. Data Cleaning and feature preprocessing"
   ]
  },
  {
   "cell_type": "code",
   "execution_count": 4,
   "metadata": {},
   "outputs": [],
   "source": [
    "# Load the dataset\n",
    "data = pd.read_csv('https://raw.githubusercontent.com/ageron/handson-ml/master/datasets/housing/housing.csv')"
   ]
  },
  {
   "cell_type": "markdown",
   "metadata": {},
   "source": [
    "## 1. Handling missing values"
   ]
  },
  {
   "cell_type": "code",
   "execution_count": 5,
   "metadata": {},
   "outputs": [],
   "source": [
    "imputer = SimpleImputer(strategy = 'median')\n",
    "data['total_bedrooms'] = imputer.fit_transform(data['total_bedrooms'].values.reshape(-1, 1))"
   ]
  },
  {
   "cell_type": "markdown",
   "metadata": {},
   "source": [
    "## 2. Handling non-numeric data"
   ]
  },
  {
   "cell_type": "code",
   "execution_count": 6,
   "metadata": {},
   "outputs": [
    {
     "data": {
      "text/html": [
       "<div>\n",
       "<style scoped>\n",
       "    .dataframe tbody tr th:only-of-type {\n",
       "        vertical-align: middle;\n",
       "    }\n",
       "\n",
       "    .dataframe tbody tr th {\n",
       "        vertical-align: top;\n",
       "    }\n",
       "\n",
       "    .dataframe thead th {\n",
       "        text-align: right;\n",
       "    }\n",
       "</style>\n",
       "<table border=\"1\" class=\"dataframe\">\n",
       "  <thead>\n",
       "    <tr style=\"text-align: right;\">\n",
       "      <th></th>\n",
       "      <th>longitude</th>\n",
       "      <th>latitude</th>\n",
       "      <th>housing_median_age</th>\n",
       "      <th>total_rooms</th>\n",
       "      <th>total_bedrooms</th>\n",
       "      <th>population</th>\n",
       "      <th>households</th>\n",
       "      <th>median_income</th>\n",
       "      <th>median_house_value</th>\n",
       "      <th>ocean_proximity</th>\n",
       "    </tr>\n",
       "  </thead>\n",
       "  <tbody>\n",
       "    <tr>\n",
       "      <th>0</th>\n",
       "      <td>-122.23</td>\n",
       "      <td>37.88</td>\n",
       "      <td>41.0</td>\n",
       "      <td>880.0</td>\n",
       "      <td>129.0</td>\n",
       "      <td>322.0</td>\n",
       "      <td>126.0</td>\n",
       "      <td>8.3252</td>\n",
       "      <td>452600.0</td>\n",
       "      <td>3.0</td>\n",
       "    </tr>\n",
       "    <tr>\n",
       "      <th>1</th>\n",
       "      <td>-122.22</td>\n",
       "      <td>37.86</td>\n",
       "      <td>21.0</td>\n",
       "      <td>7099.0</td>\n",
       "      <td>1106.0</td>\n",
       "      <td>2401.0</td>\n",
       "      <td>1138.0</td>\n",
       "      <td>8.3014</td>\n",
       "      <td>358500.0</td>\n",
       "      <td>3.0</td>\n",
       "    </tr>\n",
       "    <tr>\n",
       "      <th>2</th>\n",
       "      <td>-122.24</td>\n",
       "      <td>37.85</td>\n",
       "      <td>52.0</td>\n",
       "      <td>1467.0</td>\n",
       "      <td>190.0</td>\n",
       "      <td>496.0</td>\n",
       "      <td>177.0</td>\n",
       "      <td>7.2574</td>\n",
       "      <td>352100.0</td>\n",
       "      <td>3.0</td>\n",
       "    </tr>\n",
       "    <tr>\n",
       "      <th>3</th>\n",
       "      <td>-122.25</td>\n",
       "      <td>37.85</td>\n",
       "      <td>52.0</td>\n",
       "      <td>1274.0</td>\n",
       "      <td>235.0</td>\n",
       "      <td>558.0</td>\n",
       "      <td>219.0</td>\n",
       "      <td>5.6431</td>\n",
       "      <td>341300.0</td>\n",
       "      <td>3.0</td>\n",
       "    </tr>\n",
       "    <tr>\n",
       "      <th>4</th>\n",
       "      <td>-122.25</td>\n",
       "      <td>37.85</td>\n",
       "      <td>52.0</td>\n",
       "      <td>1627.0</td>\n",
       "      <td>280.0</td>\n",
       "      <td>565.0</td>\n",
       "      <td>259.0</td>\n",
       "      <td>3.8462</td>\n",
       "      <td>342200.0</td>\n",
       "      <td>3.0</td>\n",
       "    </tr>\n",
       "  </tbody>\n",
       "</table>\n",
       "</div>"
      ],
      "text/plain": [
       "   longitude  latitude  housing_median_age  total_rooms  total_bedrooms  \\\n",
       "0    -122.23     37.88                41.0        880.0           129.0   \n",
       "1    -122.22     37.86                21.0       7099.0          1106.0   \n",
       "2    -122.24     37.85                52.0       1467.0           190.0   \n",
       "3    -122.25     37.85                52.0       1274.0           235.0   \n",
       "4    -122.25     37.85                52.0       1627.0           280.0   \n",
       "\n",
       "   population  households  median_income  median_house_value  ocean_proximity  \n",
       "0       322.0       126.0         8.3252            452600.0              3.0  \n",
       "1      2401.0      1138.0         8.3014            358500.0              3.0  \n",
       "2       496.0       177.0         7.2574            352100.0              3.0  \n",
       "3       558.0       219.0         5.6431            341300.0              3.0  \n",
       "4       565.0       259.0         3.8462            342200.0              3.0  "
      ]
     },
     "execution_count": 6,
     "metadata": {},
     "output_type": "execute_result"
    }
   ],
   "source": [
    "encoder = OrdinalEncoder()\n",
    "data['ocean_proximity'] = encoder.fit_transform(data['ocean_proximity'].values.reshape(-1, 1))\n",
    "data.head()"
   ]
  },
  {
   "cell_type": "markdown",
   "metadata": {},
   "source": [
    "## 3. Handling outliers"
   ]
  },
  {
   "cell_type": "code",
   "execution_count": 7,
   "metadata": {},
   "outputs": [
    {
     "name": "stdout",
     "output_type": "stream",
     "text": [
      "longitude -118.49\n",
      "latitude 34.26\n",
      "housing_median_age 29.0\n",
      "total_rooms 2127.0\n",
      "total_bedrooms 435.0\n",
      "population 1166.0\n",
      "households 409.0\n",
      "median_income 3.5347999999999997\n"
     ]
    },
    {
     "data": {
      "text/html": [
       "<div>\n",
       "<style scoped>\n",
       "    .dataframe tbody tr th:only-of-type {\n",
       "        vertical-align: middle;\n",
       "    }\n",
       "\n",
       "    .dataframe tbody tr th {\n",
       "        vertical-align: top;\n",
       "    }\n",
       "\n",
       "    .dataframe thead th {\n",
       "        text-align: right;\n",
       "    }\n",
       "</style>\n",
       "<table border=\"1\" class=\"dataframe\">\n",
       "  <thead>\n",
       "    <tr style=\"text-align: right;\">\n",
       "      <th></th>\n",
       "      <th>longitude</th>\n",
       "      <th>latitude</th>\n",
       "      <th>housing_median_age</th>\n",
       "      <th>total_rooms</th>\n",
       "      <th>total_bedrooms</th>\n",
       "      <th>population</th>\n",
       "      <th>households</th>\n",
       "      <th>median_income</th>\n",
       "      <th>median_house_value</th>\n",
       "      <th>ocean_proximity</th>\n",
       "    </tr>\n",
       "  </thead>\n",
       "  <tbody>\n",
       "    <tr>\n",
       "      <th>0</th>\n",
       "      <td>-122.23</td>\n",
       "      <td>37.88</td>\n",
       "      <td>41.0</td>\n",
       "      <td>880.0</td>\n",
       "      <td>129.0</td>\n",
       "      <td>322.0</td>\n",
       "      <td>126.0</td>\n",
       "      <td>3.5348</td>\n",
       "      <td>452600.0</td>\n",
       "      <td>3.0</td>\n",
       "    </tr>\n",
       "    <tr>\n",
       "      <th>1</th>\n",
       "      <td>-122.22</td>\n",
       "      <td>37.86</td>\n",
       "      <td>21.0</td>\n",
       "      <td>2127.0</td>\n",
       "      <td>1106.0</td>\n",
       "      <td>2401.0</td>\n",
       "      <td>409.0</td>\n",
       "      <td>3.5348</td>\n",
       "      <td>358500.0</td>\n",
       "      <td>3.0</td>\n",
       "    </tr>\n",
       "    <tr>\n",
       "      <th>2</th>\n",
       "      <td>-122.24</td>\n",
       "      <td>37.85</td>\n",
       "      <td>52.0</td>\n",
       "      <td>1467.0</td>\n",
       "      <td>190.0</td>\n",
       "      <td>496.0</td>\n",
       "      <td>177.0</td>\n",
       "      <td>7.2574</td>\n",
       "      <td>352100.0</td>\n",
       "      <td>3.0</td>\n",
       "    </tr>\n",
       "  </tbody>\n",
       "</table>\n",
       "</div>"
      ],
      "text/plain": [
       "   longitude  latitude  housing_median_age  total_rooms  total_bedrooms  \\\n",
       "0    -122.23     37.88                41.0        880.0           129.0   \n",
       "1    -122.22     37.86                21.0       2127.0          1106.0   \n",
       "2    -122.24     37.85                52.0       1467.0           190.0   \n",
       "\n",
       "   population  households  median_income  median_house_value  ocean_proximity  \n",
       "0       322.0       126.0         3.5348            452600.0              3.0  \n",
       "1      2401.0       409.0         3.5348            358500.0              3.0  \n",
       "2       496.0       177.0         7.2574            352100.0              3.0  "
      ]
     },
     "execution_count": 7,
     "metadata": {},
     "output_type": "execute_result"
    }
   ],
   "source": [
    "# Create a function that checks for outliers in a column\n",
    "def handle_outliers(data, col):\n",
    "    # 1. Get the median of the column\n",
    "    median = data[col].median()\n",
    "    print(col, median)\n",
    "    \n",
    "    # 2. Compute the 75th and 25th quantile\n",
    "    Q3 = data[col].quantile(.75)\n",
    "    Q1 = data[col].quantile(.25)\n",
    "    \n",
    "    # 3. Compute the IQR\n",
    "    IQR = Q3 - Q1\n",
    "\n",
    "    # 4. Compute the lower and upper bound\n",
    "    lower = Q1 - 1.5 * IQR\n",
    "    upper = Q3 + 1.5 * IQR\n",
    "\n",
    "    # 5. Replace those < Q1 - 1.5*IQR or > Q3 + 1.5*IQR\n",
    "    # Or condition in pandas : |, And condition in pandas : &\n",
    "    data[col][(data[col] < lower) | (data[col] > upper)] = median\n",
    "    \n",
    "    return data\n",
    "\n",
    "# Now loop thru all the columns that I want to preprocess \n",
    "# Explain that I will exclude 2 columns : median_house_value - because it is the target.\n",
    "# ocean_proximity - because it is originally a non-numeric column which is encoded to numeric\n",
    "excluded = ['median_house_value', 'ocean_proximity']\n",
    "for col in data.columns:\n",
    "    if(col not in excluded):\n",
    "        data = handle_outliers(data, col)\n",
    "\n",
    "data.head(3)"
   ]
  },
  {
   "cell_type": "markdown",
   "metadata": {},
   "source": [
    "# Feature scaling \n",
    "* Surprisingly, for decision tree and its variants, we DO NOT need to preprocess our features in advanced"
   ]
  },
  {
   "cell_type": "markdown",
   "metadata": {},
   "source": [
    "# II. Model training and evaluation"
   ]
  },
  {
   "cell_type": "markdown",
   "metadata": {},
   "source": [
    "## 0. Separate features and targets"
   ]
  },
  {
   "cell_type": "code",
   "execution_count": 8,
   "metadata": {},
   "outputs": [],
   "source": [
    "# 1. Get all the columns except for the target column\n",
    "feature_cols = list(data.columns)\n",
    "feature_cols.remove('median_house_value')\n",
    "\n",
    "# 2. Seprate features and columns into two dataframes\n",
    "features = data[feature_cols]\n",
    "targets = data['median_house_value']\n",
    "\n",
    "# 3. Separate dataset into train and test\n",
    "X_train, X_test, Y_train, Y_test = train_test_split(features, targets, test_size=1/3)"
   ]
  },
  {
   "cell_type": "markdown",
   "metadata": {},
   "source": [
    "## 1. Draft training"
   ]
  },
  {
   "cell_type": "code",
   "execution_count": 10,
   "metadata": {},
   "outputs": [
    {
     "name": "stdout",
     "output_type": "stream",
     "text": [
      "0.8053625231004684\n"
     ]
    },
    {
     "data": {
      "text/plain": [
       "<matplotlib.collections.PathCollection at 0x7f6e1e54f520>"
      ]
     },
     "execution_count": 10,
     "metadata": {},
     "output_type": "execute_result"
    },
    {
     "data": {
      "image/png": "[encoded data removed]",
      "text/plain": [
       "<Figure size 432x288 with 1 Axes>"
      ]
     },
     "metadata": {
      "needs_background": "light"
     },
     "output_type": "display_data"
    }
   ],
   "source": [
    "# Show people how to create and train a decision tree in sklearn\n",
    "model = RandomForestRegressor()\n",
    "\n",
    "# Fit the model\n",
    "model.fit(X_train, Y_train)\n",
    "\n",
    "# Inference\n",
    "prediction = model.predict(X_test)\n",
    "r2 = r2_score(Y_test, prediction)\n",
    "print(r2)\n",
    "\n",
    "# Plot\n",
    "plt.scatter(prediction, Y_test)"
   ]
  },
  {
   "cell_type": "code",
   "execution_count": null,
   "metadata": {},
   "outputs": [],
   "source": []
  }
 ],
 "metadata": {
  "kernelspec": {
   "display_name": "Python 3",
   "language": "python",
   "name": "python3"
  },
  "language_info": {
   "codemirror_mode": {
    "name": "ipython",
    "version": 3
   },
   "file_extension": ".py",
   "mimetype": "text/x-python",
   "name": "python",
   "nbconvert_exporter": "python",
   "pygments_lexer": "ipython3",
   "version": "3.8.10"
  }
 },
 "nbformat": 4,
 "nbformat_minor": 4
}
