{
 "cells": [
  {
   "cell_type": "markdown",
   "metadata": {},
   "source": [
    "# Import libraries"
   ]
  },
  {
   "cell_type": "code",
   "execution_count": 1,
   "metadata": {},
   "outputs": [],
   "source": [
    "import os\n",
    "import numpy as np\n",
    "import pandas as pd\n",
    "import matplotlib.pyplot as plt\n",
    "\n",
    "from sklearn.decomposition import PCA\n",
    "from sklearn.manifold import TSNE\n",
    "from sklearn.metrics import pairwise_distances"
   ]
  },
  {
   "cell_type": "markdown",
   "metadata": {},
   "source": [
    "# Dimensionality reduction"
   ]
  },
  {
   "cell_type": "markdown",
   "metadata": {},
   "source": [
    "## 1. t-SNE"
   ]
  },
  {
   "cell_type": "code",
   "execution_count": 73,
   "metadata": {},
   "outputs": [
    {
     "name": "stdout",
     "output_type": "stream",
     "text": [
      "KL divergence :  0.46685891294125736\n",
      "KL divergence :  0.46685891294125736\n",
      "Iteration  1  Loss =  0.46685891294125736\n"
     ]
    },
    {
     "name": "stderr",
     "output_type": "stream",
     "text": [
      "/home/minhhieu/.local/lib/python3.8/site-packages/autograd/tracer.py:14: UserWarning: Output seems independent of input.\n",
      "  warnings.warn(\"Output seems independent of input.\")\n"
     ]
    },
    {
     "name": "stdout",
     "output_type": "stream",
     "text": [
      "KL divergence :  0.46685891294125736\n",
      "KL divergence :  0.46685891294125736\n",
      "Iteration  2  Loss =  0.46685891294125736\n"
     ]
    },
    {
     "name": "stderr",
     "output_type": "stream",
     "text": [
      "/home/minhhieu/.local/lib/python3.8/site-packages/autograd/tracer.py:14: UserWarning: Output seems independent of input.\n",
      "  warnings.warn(\"Output seems independent of input.\")\n"
     ]
    },
    {
     "name": "stdout",
     "output_type": "stream",
     "text": [
      "KL divergence :  0.46685891294125736\n",
      "KL divergence :  0.46685891294125736\n",
      "Iteration  3  Loss =  0.46685891294125736\n"
     ]
    },
    {
     "name": "stderr",
     "output_type": "stream",
     "text": [
      "/home/minhhieu/.local/lib/python3.8/site-packages/autograd/tracer.py:14: UserWarning: Output seems independent of input.\n",
      "  warnings.warn(\"Output seems independent of input.\")\n"
     ]
    },
    {
     "name": "stdout",
     "output_type": "stream",
     "text": [
      "KL divergence :  0.46685891294125736\n",
      "KL divergence :  0.46685891294125736\n",
      "Iteration  4  Loss =  0.46685891294125736\n"
     ]
    },
    {
     "name": "stderr",
     "output_type": "stream",
     "text": [
      "/home/minhhieu/.local/lib/python3.8/site-packages/autograd/tracer.py:14: UserWarning: Output seems independent of input.\n",
      "  warnings.warn(\"Output seems independent of input.\")\n"
     ]
    },
    {
     "name": "stdout",
     "output_type": "stream",
     "text": [
      "KL divergence :  0.46685891294125736\n",
      "KL divergence :  0.46685891294125736\n",
      "Iteration  5  Loss =  0.46685891294125736\n"
     ]
    },
    {
     "name": "stderr",
     "output_type": "stream",
     "text": [
      "/home/minhhieu/.local/lib/python3.8/site-packages/autograd/tracer.py:14: UserWarning: Output seems independent of input.\n",
      "  warnings.warn(\"Output seems independent of input.\")\n"
     ]
    },
    {
     "name": "stdout",
     "output_type": "stream",
     "text": [
      "KL divergence :  0.46685891294125736\n",
      "KL divergence :  0.46685891294125736\n",
      "Iteration  6  Loss =  0.46685891294125736\n"
     ]
    },
    {
     "name": "stderr",
     "output_type": "stream",
     "text": [
      "/home/minhhieu/.local/lib/python3.8/site-packages/autograd/tracer.py:14: UserWarning: Output seems independent of input.\n",
      "  warnings.warn(\"Output seems independent of input.\")\n"
     ]
    },
    {
     "name": "stdout",
     "output_type": "stream",
     "text": [
      "KL divergence :  0.46685891294125736\n",
      "KL divergence :  0.46685891294125736\n",
      "Iteration  7  Loss =  0.46685891294125736\n"
     ]
    },
    {
     "name": "stderr",
     "output_type": "stream",
     "text": [
      "/home/minhhieu/.local/lib/python3.8/site-packages/autograd/tracer.py:14: UserWarning: Output seems independent of input.\n",
      "  warnings.warn(\"Output seems independent of input.\")\n"
     ]
    },
    {
     "name": "stdout",
     "output_type": "stream",
     "text": [
      "KL divergence :  0.46685891294125736\n",
      "KL divergence :  0.46685891294125736\n",
      "Iteration  8  Loss =  0.46685891294125736\n"
     ]
    },
    {
     "name": "stderr",
     "output_type": "stream",
     "text": [
      "/home/minhhieu/.local/lib/python3.8/site-packages/autograd/tracer.py:14: UserWarning: Output seems independent of input.\n",
      "  warnings.warn(\"Output seems independent of input.\")\n"
     ]
    },
    {
     "name": "stdout",
     "output_type": "stream",
     "text": [
      "KL divergence :  0.46685891294125736\n",
      "KL divergence :  0.46685891294125736\n",
      "Iteration  9  Loss =  0.46685891294125736\n"
     ]
    },
    {
     "name": "stderr",
     "output_type": "stream",
     "text": [
      "/home/minhhieu/.local/lib/python3.8/site-packages/autograd/tracer.py:14: UserWarning: Output seems independent of input.\n",
      "  warnings.warn(\"Output seems independent of input.\")\n"
     ]
    },
    {
     "name": "stdout",
     "output_type": "stream",
     "text": [
      "KL divergence :  0.46685891294125736\n",
      "KL divergence :  0.46685891294125736\n",
      "Iteration  10  Loss =  0.46685891294125736\n"
     ]
    },
    {
     "name": "stderr",
     "output_type": "stream",
     "text": [
      "/home/minhhieu/.local/lib/python3.8/site-packages/autograd/tracer.py:14: UserWarning: Output seems independent of input.\n",
      "  warnings.warn(\"Output seems independent of input.\")\n"
     ]
    },
    {
     "name": "stdout",
     "output_type": "stream",
     "text": [
      "KL divergence :  0.46685891294125736\n",
      "KL divergence :  0.46685891294125736\n",
      "Iteration  11  Loss =  0.46685891294125736\n"
     ]
    },
    {
     "name": "stderr",
     "output_type": "stream",
     "text": [
      "/home/minhhieu/.local/lib/python3.8/site-packages/autograd/tracer.py:14: UserWarning: Output seems independent of input.\n",
      "  warnings.warn(\"Output seems independent of input.\")\n"
     ]
    },
    {
     "name": "stdout",
     "output_type": "stream",
     "text": [
      "KL divergence :  0.46685891294125736\n",
      "KL divergence :  0.46685891294125736\n",
      "Iteration  12  Loss =  0.46685891294125736\n"
     ]
    },
    {
     "name": "stderr",
     "output_type": "stream",
     "text": [
      "/home/minhhieu/.local/lib/python3.8/site-packages/autograd/tracer.py:14: UserWarning: Output seems independent of input.\n",
      "  warnings.warn(\"Output seems independent of input.\")\n"
     ]
    },
    {
     "name": "stdout",
     "output_type": "stream",
     "text": [
      "KL divergence :  0.46685891294125736\n",
      "KL divergence :  0.46685891294125736\n",
      "Iteration  13  Loss =  0.46685891294125736\n"
     ]
    },
    {
     "name": "stderr",
     "output_type": "stream",
     "text": [
      "/home/minhhieu/.local/lib/python3.8/site-packages/autograd/tracer.py:14: UserWarning: Output seems independent of input.\n",
      "  warnings.warn(\"Output seems independent of input.\")\n"
     ]
    },
    {
     "name": "stdout",
     "output_type": "stream",
     "text": [
      "KL divergence :  0.46685891294125736\n",
      "KL divergence :  0.46685891294125736\n",
      "Iteration  14  Loss =  0.46685891294125736\n"
     ]
    },
    {
     "name": "stderr",
     "output_type": "stream",
     "text": [
      "/home/minhhieu/.local/lib/python3.8/site-packages/autograd/tracer.py:14: UserWarning: Output seems independent of input.\n",
      "  warnings.warn(\"Output seems independent of input.\")\n"
     ]
    },
    {
     "name": "stdout",
     "output_type": "stream",
     "text": [
      "KL divergence :  0.46685891294125736\n",
      "KL divergence :  0.46685891294125736\n",
      "Iteration  15  Loss =  0.46685891294125736\n"
     ]
    },
    {
     "name": "stderr",
     "output_type": "stream",
     "text": [
      "/home/minhhieu/.local/lib/python3.8/site-packages/autograd/tracer.py:14: UserWarning: Output seems independent of input.\n",
      "  warnings.warn(\"Output seems independent of input.\")\n"
     ]
    },
    {
     "name": "stdout",
     "output_type": "stream",
     "text": [
      "KL divergence :  0.46685891294125736\n",
      "KL divergence :  0.46685891294125736\n",
      "Iteration  16  Loss =  0.46685891294125736\n"
     ]
    },
    {
     "name": "stderr",
     "output_type": "stream",
     "text": [
      "/home/minhhieu/.local/lib/python3.8/site-packages/autograd/tracer.py:14: UserWarning: Output seems independent of input.\n",
      "  warnings.warn(\"Output seems independent of input.\")\n"
     ]
    },
    {
     "name": "stdout",
     "output_type": "stream",
     "text": [
      "KL divergence :  0.46685891294125736\n",
      "KL divergence :  0.46685891294125736\n",
      "Iteration  17  Loss =  0.46685891294125736\n"
     ]
    },
    {
     "name": "stderr",
     "output_type": "stream",
     "text": [
      "/home/minhhieu/.local/lib/python3.8/site-packages/autograd/tracer.py:14: UserWarning: Output seems independent of input.\n",
      "  warnings.warn(\"Output seems independent of input.\")\n"
     ]
    },
    {
     "name": "stdout",
     "output_type": "stream",
     "text": [
      "KL divergence :  0.46685891294125736\n",
      "KL divergence :  0.46685891294125736\n",
      "Iteration  18  Loss =  0.46685891294125736\n"
     ]
    },
    {
     "name": "stderr",
     "output_type": "stream",
     "text": [
      "/home/minhhieu/.local/lib/python3.8/site-packages/autograd/tracer.py:14: UserWarning: Output seems independent of input.\n",
      "  warnings.warn(\"Output seems independent of input.\")\n"
     ]
    },
    {
     "name": "stdout",
     "output_type": "stream",
     "text": [
      "KL divergence :  0.46685891294125736\n",
      "KL divergence :  0.46685891294125736\n",
      "Iteration  19  Loss =  0.46685891294125736\n"
     ]
    },
    {
     "name": "stderr",
     "output_type": "stream",
     "text": [
      "/home/minhhieu/.local/lib/python3.8/site-packages/autograd/tracer.py:14: UserWarning: Output seems independent of input.\n",
      "  warnings.warn(\"Output seems independent of input.\")\n"
     ]
    },
    {
     "name": "stdout",
     "output_type": "stream",
     "text": [
      "KL divergence :  0.46685891294125736\n",
      "KL divergence :  0.46685891294125736\n",
      "Iteration  20  Loss =  0.46685891294125736\n"
     ]
    },
    {
     "name": "stderr",
     "output_type": "stream",
     "text": [
      "/home/minhhieu/.local/lib/python3.8/site-packages/autograd/tracer.py:14: UserWarning: Output seems independent of input.\n",
      "  warnings.warn(\"Output seems independent of input.\")\n"
     ]
    },
    {
     "data": {
      "image/png": "[encoded data removed]",
      "text/plain": [
       "<Figure size 432x288 with 1 Axes>"
      ]
     },
     "metadata": {
      "needs_background": "light"
     },
     "output_type": "display_data"
    }
   ],
   "source": [
    "import autograd.numpy as np\n",
    "from autograd import grad\n",
    "from scipy.special import kl_div\n",
    "\n",
    "def visualize_tsne_model(original_dim=4, new_dim=2, perplexity=12, iterations=20):\n",
    "    cluster_1 = np.random.normal(loc=0.0, size=(30, original_dim))\n",
    "    cluster_2 = np.random.normal(loc=3.0, size=(30, original_dim))\n",
    "    cluster_3 = np.random.normal(loc=5.0, size=(30, original_dim))\n",
    "\n",
    "    classes = np.concatenate([\n",
    "        np.ones((30, )) * 0,\n",
    "        np.ones((30, )) * 1,\n",
    "        np.ones((30, )) * 2\n",
    "    ])\n",
    "    X = np.concatenate([cluster_1, cluster_2, cluster_3])\n",
    "    weights = np.random.normal(size=(original_dim, new_dim))\n",
    "    \n",
    "    def conditional_p(X_i, X_j):\n",
    "        if((X_i - X_j).sum() == 0) : return 0\n",
    "        numerator = np.exp((-(np.linalg.norm(X_i - X_j))**2)/(2 * perplexity))\n",
    "        denom = np.exp((-(X_i - X) ** 2).sum(axis=1) / (2 * perplexity))\n",
    "        mask = (X != X_i).astype(int).mean(axis=1)\n",
    "        denom = np.multiply(denom, mask).sum()\n",
    "        return numerator/denom\n",
    "\n",
    "    def P_ij(X_i, X_j):\n",
    "        return (conditional_p(X_i, X_j) + conditional_p(X_j, X_i)) / (2*len(X))\n",
    "    \n",
    "    def _q_ij(Y_i, Y_j):\n",
    "        if((Y_i - Y_j).sum() == 0) : return 0\n",
    "        return (1 + ((Y_i - Y_j) ** 2).sum()) ** -1\n",
    "        \n",
    "    def Q_ij(denominator):\n",
    "        def q_ij(Y_i, Y_j):\n",
    "            numerator = _q_ij(Y_i, Y_j)\n",
    "\n",
    "            return numerator/denominator\n",
    "        return q_ij\n",
    "\n",
    "    def TSNE_Loss(params):\n",
    "        weights = params[0]\n",
    "        Y = X @ weights\n",
    "        if(isinstance(Y, np.numpy_boxes.ArrayBox)):\n",
    "            Y = Y._value\n",
    "        \n",
    "        # Compute similarity probability distribution of high dimension X\n",
    "        Y_denom = pairwise_distances(Y, Y, metric=_q_ij).sum()\n",
    "        P = pairwise_distances(X, X, metric=P_ij).flatten()\n",
    "        Q = pairwise_distances(Y, Y, metric=Q_ij(Y_denom)).flatten()\n",
    "        kl_divergence = kl_div(P, Q)\n",
    "        kl_divergence = np.sum(kl_divergence)\n",
    "                \n",
    "        return kl_divergence\n",
    "    \n",
    "    gradient = grad(TSNE_Loss)\n",
    "    \n",
    "    for i in range(iterations):\n",
    "        loss = TSNE_Loss((weights,))\n",
    "        gradient_weights = gradient((weights,))[0]\n",
    "        weights -= 0.01 * gradient_weights\n",
    "        \n",
    "        print('Iteration ', i + 1, ' Loss = ', loss)\n",
    "        \n",
    "    for _class in np.unique(classes):\n",
    "        cluster = X[classes == _class]\n",
    "        plt.scatter(cluster[:,0], cluster[:, 1])\n",
    "\n",
    "    plt.show()\n",
    "    \n",
    "visualize_tsne_model()"
   ]
  },
  {
   "cell_type": "code",
   "execution_count": 30,
   "metadata": {},
   "outputs": [
    {
     "data": {
      "text/plain": [
       "1.0"
      ]
     },
     "execution_count": 30,
     "metadata": {},
     "output_type": "execute_result"
    }
   ],
   "source": [
    "perplexity=12\n",
    "def conditional_p(X_i, X_j):\n",
    "    if((X_i - X_j).sum() == 0) : return 0\n",
    "    numerator = np.exp((-(np.linalg.norm(X_i - X_j))**2)/(2 * perplexity))\n",
    "    denom = np.exp((-(X_i - X) ** 2).sum(axis=1) / (2 * perplexity))\n",
    "    mask = (X != X_i).astype(int).mean(axis=1)\n",
    "    denom = np.multiply(denom, mask).sum()\n",
    "    return numerator/denom\n",
    "\n",
    "def p_ij(X_i, X_j):\n",
    "    return (conditional_p(X_i, X_j) + conditional_p(X_j, X_i)) / (2*len(X))\n",
    "\n",
    "X = np.random.normal(size=(100,4))\n",
    "P = pairwise_distances(X, X, metric=p_ij)\n",
    "P.sum()"
   ]
  },
  {
   "cell_type": "code",
   "execution_count": 31,
   "metadata": {},
   "outputs": [
    {
     "data": {
      "text/plain": [
       "array([[0.00000000e+00, 7.40828360e-05, 1.05556303e-04, ...,\n",
       "        1.34224077e-04, 7.45012482e-05, 1.23765398e-04],\n",
       "       [7.40828360e-05, 0.00000000e+00, 1.11556336e-04, ...,\n",
       "        9.10885402e-05, 1.04523843e-04, 9.79199805e-05],\n",
       "       [1.05556303e-04, 1.11556336e-04, 0.00000000e+00, ...,\n",
       "        1.02861741e-04, 9.31317446e-05, 1.19423410e-04],\n",
       "       ...,\n",
       "       [1.34224077e-04, 9.10885402e-05, 1.02861741e-04, ...,\n",
       "        0.00000000e+00, 9.80164524e-05, 1.13321163e-04],\n",
       "       [7.45012482e-05, 1.04523843e-04, 9.31317446e-05, ...,\n",
       "        9.80164524e-05, 0.00000000e+00, 1.07026931e-04],\n",
       "       [1.23765398e-04, 9.79199805e-05, 1.19423410e-04, ...,\n",
       "        1.13321163e-04, 1.07026931e-04, 0.00000000e+00]])"
      ]
     },
     "execution_count": 31,
     "metadata": {},
     "output_type": "execute_result"
    }
   ],
   "source": [
    "P"
   ]
  },
  {
   "cell_type": "code",
   "execution_count": null,
   "metadata": {},
   "outputs": [],
   "source": []
  }
 ],
 "metadata": {
  "kernelspec": {
   "display_name": "Python 3",
   "language": "python",
   "name": "python3"
  },
  "language_info": {
   "codemirror_mode": {
    "name": "ipython",
    "version": 3
   },
   "file_extension": ".py",
   "mimetype": "text/x-python",
   "name": "python",
   "nbconvert_exporter": "python",
   "pygments_lexer": "ipython3",
   "version": "3.8.10"
  }
 },
 "nbformat": 4,
 "nbformat_minor": 4
}
