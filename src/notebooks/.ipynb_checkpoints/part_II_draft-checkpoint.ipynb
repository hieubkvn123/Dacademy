{
 "cells": [
  {
   "cell_type": "markdown",
   "metadata": {},
   "source": [
    "# Import Libraries"
   ]
  },
  {
   "cell_type": "code",
   "execution_count": 360,
   "metadata": {},
   "outputs": [],
   "source": [
    "import os\n",
    "import glob\n",
    "import numpy as np\n",
    "import pandas as pd\n",
    "import matplotlib.pyplot as plt"
   ]
  },
  {
   "cell_type": "markdown",
   "metadata": {},
   "source": [
    "# Data preprocessing and cleaning"
   ]
  },
  {
   "cell_type": "markdown",
   "metadata": {},
   "source": [
    "### Merging monthly sales data to annual sales data"
   ]
  },
  {
   "cell_type": "code",
   "execution_count": 361,
   "metadata": {},
   "outputs": [],
   "source": [
    "data_folder = '../datasets/sales_data/2018_all'\n",
    "data_files = glob.glob(os.path.join(data_folder, '*.csv'))\n",
    "\n",
    "month_dataframes = []\n",
    "sum_len = 0\n",
    "for data_file in data_files:\n",
    "    month_data = pd.read_csv(data_file, header=0)\n",
    "    sum_len += len(month_data)\n",
    "    month_dataframes.append(month_data)\n",
    "\n",
    "# Concatenate all monthly dataframes into one dataframe\n",
    "data = pd.concat(month_dataframes, ignore_index=True)\n",
    "\n",
    "# After merging, show the people that some of the rows still contain inappropriate values,\n",
    "# for example, non-numeric values in the Quantity Ordered column"
   ]
  },
  {
   "cell_type": "markdown",
   "metadata": {},
   "source": [
    "### Removing non-numeric rows"
   ]
  },
  {
   "cell_type": "code",
   "execution_count": 362,
   "metadata": {},
   "outputs": [
    {
     "name": "stdout",
     "output_type": "stream",
     "text": [
      "[INFO] Removing non-numeric rows ... \n"
     ]
    }
   ],
   "source": [
    "print('[INFO] Removing non-numeric rows ... ')\n",
    "\n",
    "# Get the mask of all valid row where quantity ordered is numeric\n",
    "numeric_rows = data['Quantity Ordered'].astype(str).str.isnumeric()\n",
    "\n",
    "# Get only rows where Quantity Ordered is numeric\n",
    "data = data[numeric_rows]\n",
    "\n",
    "# Now remove all NaN afterwards\n",
    "data = data.dropna(how='any')"
   ]
  },
  {
   "cell_type": "markdown",
   "metadata": {},
   "source": [
    "### Parsing columns to appropriate types"
   ]
  },
  {
   "cell_type": "code",
   "execution_count": 363,
   "metadata": {},
   "outputs": [
    {
     "name": "stdout",
     "output_type": "stream",
     "text": [
      "[INFO] Parsing columns to appropriate data type\n",
      "<class 'pandas.core.frame.DataFrame'>\n",
      "Int64Index: 185950 entries, 0 to 185949\n",
      "Data columns (total 7 columns):\n",
      " #   Column            Non-Null Count   Dtype         \n",
      "---  ------            --------------   -----         \n",
      " 0   Unnamed: 0        185950 non-null  int64         \n",
      " 1   Order ID          185950 non-null  int64         \n",
      " 2   Product           185950 non-null  object        \n",
      " 3   Quantity Ordered  185950 non-null  int64         \n",
      " 4   Price Each        185950 non-null  float64       \n",
      " 5   Order Date        185950 non-null  datetime64[ns]\n",
      " 6   Purchase Address  185950 non-null  object        \n",
      "dtypes: datetime64[ns](1), float64(1), int64(3), object(2)\n",
      "memory usage: 11.3+ MB\n"
     ]
    }
   ],
   "source": [
    "print('[INFO] Parsing columns to appropriate data type')\n",
    "\n",
    "# Parse Quantity Ordered and Price Each to numeric type\n",
    "data['Quantity Ordered'] = data['Quantity Ordered'].apply(pd.to_numeric)\n",
    "data['Price Each'] = data['Price Each'].apply(pd.to_numeric)\n",
    "\n",
    "# Parse Order Date to datetime data type\n",
    "data['Order Date'] = data['Order Date'].apply(pd.to_datetime)\n",
    "\n",
    "data.info()"
   ]
  },
  {
   "cell_type": "markdown",
   "metadata": {},
   "source": [
    "### Adding a Month column"
   ]
  },
  {
   "cell_type": "code",
   "execution_count": 364,
   "metadata": {},
   "outputs": [
    {
     "data": {
      "text/html": [
       "<div>\n",
       "<style scoped>\n",
       "    .dataframe tbody tr th:only-of-type {\n",
       "        vertical-align: middle;\n",
       "    }\n",
       "\n",
       "    .dataframe tbody tr th {\n",
       "        vertical-align: top;\n",
       "    }\n",
       "\n",
       "    .dataframe thead th {\n",
       "        text-align: right;\n",
       "    }\n",
       "</style>\n",
       "<table border=\"1\" class=\"dataframe\">\n",
       "  <thead>\n",
       "    <tr style=\"text-align: right;\">\n",
       "      <th></th>\n",
       "      <th>Unnamed: 0</th>\n",
       "      <th>Order ID</th>\n",
       "      <th>Product</th>\n",
       "      <th>Quantity Ordered</th>\n",
       "      <th>Price Each</th>\n",
       "      <th>Order Date</th>\n",
       "      <th>Month</th>\n",
       "      <th>Purchase Address</th>\n",
       "    </tr>\n",
       "  </thead>\n",
       "  <tbody>\n",
       "    <tr>\n",
       "      <th>0</th>\n",
       "      <td>0</td>\n",
       "      <td>248151</td>\n",
       "      <td>AA Batteries (4-pack)</td>\n",
       "      <td>4</td>\n",
       "      <td>3.84</td>\n",
       "      <td>2018-09-17 14:44:00</td>\n",
       "      <td>9</td>\n",
       "      <td>883 West St, Boston, MA 02215</td>\n",
       "    </tr>\n",
       "    <tr>\n",
       "      <th>1</th>\n",
       "      <td>1</td>\n",
       "      <td>248152</td>\n",
       "      <td>USB-C Charging Cable</td>\n",
       "      <td>2</td>\n",
       "      <td>11.95</td>\n",
       "      <td>2018-09-29 10:19:00</td>\n",
       "      <td>9</td>\n",
       "      <td>71 Ridge St, New York City, NY 10001</td>\n",
       "    </tr>\n",
       "    <tr>\n",
       "      <th>2</th>\n",
       "      <td>2</td>\n",
       "      <td>248153</td>\n",
       "      <td>USB-C Charging Cable</td>\n",
       "      <td>1</td>\n",
       "      <td>11.95</td>\n",
       "      <td>2018-09-16 17:48:00</td>\n",
       "      <td>9</td>\n",
       "      <td>372 Spruce St, Portland, OR 97035</td>\n",
       "    </tr>\n",
       "    <tr>\n",
       "      <th>3</th>\n",
       "      <td>3</td>\n",
       "      <td>248154</td>\n",
       "      <td>27in FHD Monitor</td>\n",
       "      <td>1</td>\n",
       "      <td>149.99</td>\n",
       "      <td>2018-09-27 07:52:00</td>\n",
       "      <td>9</td>\n",
       "      <td>315 Meadow St, Atlanta, GA 30301</td>\n",
       "    </tr>\n",
       "    <tr>\n",
       "      <th>4</th>\n",
       "      <td>4</td>\n",
       "      <td>248155</td>\n",
       "      <td>USB-C Charging Cable</td>\n",
       "      <td>1</td>\n",
       "      <td>11.95</td>\n",
       "      <td>2018-09-01 19:03:00</td>\n",
       "      <td>9</td>\n",
       "      <td>408 Lake St, San Francisco, CA 94016</td>\n",
       "    </tr>\n",
       "  </tbody>\n",
       "</table>\n",
       "</div>"
      ],
      "text/plain": [
       "   Unnamed: 0  Order ID                Product  Quantity Ordered  Price Each  \\\n",
       "0           0    248151  AA Batteries (4-pack)                 4        3.84   \n",
       "1           1    248152   USB-C Charging Cable                 2       11.95   \n",
       "2           2    248153   USB-C Charging Cable                 1       11.95   \n",
       "3           3    248154       27in FHD Monitor                 1      149.99   \n",
       "4           4    248155   USB-C Charging Cable                 1       11.95   \n",
       "\n",
       "           Order Date  Month                      Purchase Address  \n",
       "0 2018-09-17 14:44:00      9         883 West St, Boston, MA 02215  \n",
       "1 2018-09-29 10:19:00      9  71 Ridge St, New York City, NY 10001  \n",
       "2 2018-09-16 17:48:00      9     372 Spruce St, Portland, OR 97035  \n",
       "3 2018-09-27 07:52:00      9      315 Meadow St, Atlanta, GA 30301  \n",
       "4 2018-09-01 19:03:00      9  408 Lake St, San Francisco, CA 94016  "
      ]
     },
     "execution_count": 364,
     "metadata": {},
     "output_type": "execute_result"
    }
   ],
   "source": [
    "insert_position = data.columns.get_loc('Order Date') + 1\n",
    "data.insert(insert_position, 'Month', data['Order Date'].dt.month)\n",
    "data.head()"
   ]
  },
  {
   "cell_type": "markdown",
   "metadata": {},
   "source": [
    "# Reporting"
   ]
  },
  {
   "cell_type": "markdown",
   "metadata": {},
   "source": [
    "### 1. What month makes the best sale?"
   ]
  },
  {
   "cell_type": "code",
   "execution_count": 365,
   "metadata": {},
   "outputs": [
    {
     "data": {
      "text/html": [
       "<div>\n",
       "<style scoped>\n",
       "    .dataframe tbody tr th:only-of-type {\n",
       "        vertical-align: middle;\n",
       "    }\n",
       "\n",
       "    .dataframe tbody tr th {\n",
       "        vertical-align: top;\n",
       "    }\n",
       "\n",
       "    .dataframe thead th {\n",
       "        text-align: right;\n",
       "    }\n",
       "</style>\n",
       "<table border=\"1\" class=\"dataframe\">\n",
       "  <thead>\n",
       "    <tr style=\"text-align: right;\">\n",
       "      <th></th>\n",
       "      <th>Unnamed: 0</th>\n",
       "      <th>Order ID</th>\n",
       "      <th>Product</th>\n",
       "      <th>Quantity Ordered</th>\n",
       "      <th>Price Each</th>\n",
       "      <th>Sales</th>\n",
       "      <th>Order Date</th>\n",
       "      <th>Month</th>\n",
       "      <th>Purchase Address</th>\n",
       "    </tr>\n",
       "  </thead>\n",
       "  <tbody>\n",
       "    <tr>\n",
       "      <th>0</th>\n",
       "      <td>0</td>\n",
       "      <td>248151</td>\n",
       "      <td>AA Batteries (4-pack)</td>\n",
       "      <td>4</td>\n",
       "      <td>3.84</td>\n",
       "      <td>15.36</td>\n",
       "      <td>2018-09-17 14:44:00</td>\n",
       "      <td>9</td>\n",
       "      <td>883 West St, Boston, MA 02215</td>\n",
       "    </tr>\n",
       "    <tr>\n",
       "      <th>1</th>\n",
       "      <td>1</td>\n",
       "      <td>248152</td>\n",
       "      <td>USB-C Charging Cable</td>\n",
       "      <td>2</td>\n",
       "      <td>11.95</td>\n",
       "      <td>23.90</td>\n",
       "      <td>2018-09-29 10:19:00</td>\n",
       "      <td>9</td>\n",
       "      <td>71 Ridge St, New York City, NY 10001</td>\n",
       "    </tr>\n",
       "    <tr>\n",
       "      <th>2</th>\n",
       "      <td>2</td>\n",
       "      <td>248153</td>\n",
       "      <td>USB-C Charging Cable</td>\n",
       "      <td>1</td>\n",
       "      <td>11.95</td>\n",
       "      <td>11.95</td>\n",
       "      <td>2018-09-16 17:48:00</td>\n",
       "      <td>9</td>\n",
       "      <td>372 Spruce St, Portland, OR 97035</td>\n",
       "    </tr>\n",
       "    <tr>\n",
       "      <th>3</th>\n",
       "      <td>3</td>\n",
       "      <td>248154</td>\n",
       "      <td>27in FHD Monitor</td>\n",
       "      <td>1</td>\n",
       "      <td>149.99</td>\n",
       "      <td>149.99</td>\n",
       "      <td>2018-09-27 07:52:00</td>\n",
       "      <td>9</td>\n",
       "      <td>315 Meadow St, Atlanta, GA 30301</td>\n",
       "    </tr>\n",
       "    <tr>\n",
       "      <th>4</th>\n",
       "      <td>4</td>\n",
       "      <td>248155</td>\n",
       "      <td>USB-C Charging Cable</td>\n",
       "      <td>1</td>\n",
       "      <td>11.95</td>\n",
       "      <td>11.95</td>\n",
       "      <td>2018-09-01 19:03:00</td>\n",
       "      <td>9</td>\n",
       "      <td>408 Lake St, San Francisco, CA 94016</td>\n",
       "    </tr>\n",
       "  </tbody>\n",
       "</table>\n",
       "</div>"
      ],
      "text/plain": [
       "   Unnamed: 0  Order ID                Product  Quantity Ordered  Price Each  \\\n",
       "0           0    248151  AA Batteries (4-pack)                 4        3.84   \n",
       "1           1    248152   USB-C Charging Cable                 2       11.95   \n",
       "2           2    248153   USB-C Charging Cable                 1       11.95   \n",
       "3           3    248154       27in FHD Monitor                 1      149.99   \n",
       "4           4    248155   USB-C Charging Cable                 1       11.95   \n",
       "\n",
       "    Sales          Order Date  Month                      Purchase Address  \n",
       "0   15.36 2018-09-17 14:44:00      9         883 West St, Boston, MA 02215  \n",
       "1   23.90 2018-09-29 10:19:00      9  71 Ridge St, New York City, NY 10001  \n",
       "2   11.95 2018-09-16 17:48:00      9     372 Spruce St, Portland, OR 97035  \n",
       "3  149.99 2018-09-27 07:52:00      9      315 Meadow St, Atlanta, GA 30301  \n",
       "4   11.95 2018-09-01 19:03:00      9  408 Lake St, San Francisco, CA 94016  "
      ]
     },
     "execution_count": 365,
     "metadata": {},
     "output_type": "execute_result"
    }
   ],
   "source": [
    "# Create a new sales column with sales = quantity * unit_price\n",
    "insert_position = data.columns.get_loc('Price Each') + 1\n",
    "data.insert(insert_position, 'Sales', data['Quantity Ordered'] * data['Price Each'])\n",
    "data.head()"
   ]
  },
  {
   "cell_type": "code",
   "execution_count": 366,
   "metadata": {},
   "outputs": [
    {
     "data": {
      "image/png": "[encoded data removed]",
      "text/plain": [
       "<Figure size 1080x360 with 2 Axes>"
      ]
     },
     "metadata": {
      "needs_background": "light"
     },
     "output_type": "display_data"
    }
   ],
   "source": [
    "# Now group the dataframe by month and sum up the sales\n",
    "groupby_data = data.groupby('Month')\n",
    "total_monthly_sales = groupby_data.sum()\n",
    "sorted_monthly_sales = total_monthly_sales.sort_values('Sales')\n",
    "\n",
    "# Plot the monthly total sales \n",
    "'''\n",
    "    One plot with sorted sales to answer the question \"What month generates the most sales?\"\n",
    "    One plot with unsorted sales to give the reporter a sense of how the sales fluctuate over\n",
    "    the months\n",
    "'''\n",
    "\n",
    "fig, ax = plt.subplots(1, 2, figsize=(15, 5))\n",
    "ax[0].plot(total_monthly_sales['Sales'])\n",
    "ax[0].set_title('Monthly sales in sequential order')\n",
    "\n",
    "sorted_labels = sorted_monthly_sales.index.astype('str')\n",
    "ax[1].bar(sorted_labels, sorted_monthly_sales['Sales'])\n",
    "ax[1].set_title('Sorted monthly sales')\n",
    "plt.show()"
   ]
  },
  {
   "cell_type": "markdown",
   "metadata": {},
   "source": [
    "### 2. Which city makes the best sales"
   ]
  },
  {
   "cell_type": "code",
   "execution_count": 367,
   "metadata": {},
   "outputs": [
    {
     "data": {
      "text/plain": [
       "array(['Boston', 'New York City', 'Portland', 'Atlanta', 'San Francisco',\n",
       "       'Dallas', 'Austin', 'Los Angeles', 'Seattle'], dtype=object)"
      ]
     },
     "execution_count": 367,
     "metadata": {},
     "output_type": "execute_result"
    }
   ],
   "source": [
    "# Create a city column in the dataframe\n",
    "def get_city_from_address(city_str):\n",
    "    substrs = city_str.split(',')\n",
    "    city = substrs[1].strip()\n",
    "    \n",
    "    return city\n",
    "\n",
    "# Print all distinct city\n",
    "data['Purchase Address'].apply(get_city_from_address).unique()"
   ]
  },
  {
   "cell_type": "code",
   "execution_count": 368,
   "metadata": {},
   "outputs": [
    {
     "data": {
      "text/html": [
       "<div>\n",
       "<style scoped>\n",
       "    .dataframe tbody tr th:only-of-type {\n",
       "        vertical-align: middle;\n",
       "    }\n",
       "\n",
       "    .dataframe tbody tr th {\n",
       "        vertical-align: top;\n",
       "    }\n",
       "\n",
       "    .dataframe thead th {\n",
       "        text-align: right;\n",
       "    }\n",
       "</style>\n",
       "<table border=\"1\" class=\"dataframe\">\n",
       "  <thead>\n",
       "    <tr style=\"text-align: right;\">\n",
       "      <th></th>\n",
       "      <th>Unnamed: 0</th>\n",
       "      <th>Order ID</th>\n",
       "      <th>Product</th>\n",
       "      <th>Quantity Ordered</th>\n",
       "      <th>Price Each</th>\n",
       "      <th>Sales</th>\n",
       "      <th>Order Date</th>\n",
       "      <th>City</th>\n",
       "      <th>Month</th>\n",
       "      <th>Purchase Address</th>\n",
       "    </tr>\n",
       "  </thead>\n",
       "  <tbody>\n",
       "    <tr>\n",
       "      <th>0</th>\n",
       "      <td>0</td>\n",
       "      <td>248151</td>\n",
       "      <td>AA Batteries (4-pack)</td>\n",
       "      <td>4</td>\n",
       "      <td>3.84</td>\n",
       "      <td>15.36</td>\n",
       "      <td>2018-09-17 14:44:00</td>\n",
       "      <td>Boston</td>\n",
       "      <td>9</td>\n",
       "      <td>883 West St, Boston, MA 02215</td>\n",
       "    </tr>\n",
       "    <tr>\n",
       "      <th>1</th>\n",
       "      <td>1</td>\n",
       "      <td>248152</td>\n",
       "      <td>USB-C Charging Cable</td>\n",
       "      <td>2</td>\n",
       "      <td>11.95</td>\n",
       "      <td>23.90</td>\n",
       "      <td>2018-09-29 10:19:00</td>\n",
       "      <td>New York City</td>\n",
       "      <td>9</td>\n",
       "      <td>71 Ridge St, New York City, NY 10001</td>\n",
       "    </tr>\n",
       "    <tr>\n",
       "      <th>2</th>\n",
       "      <td>2</td>\n",
       "      <td>248153</td>\n",
       "      <td>USB-C Charging Cable</td>\n",
       "      <td>1</td>\n",
       "      <td>11.95</td>\n",
       "      <td>11.95</td>\n",
       "      <td>2018-09-16 17:48:00</td>\n",
       "      <td>Portland</td>\n",
       "      <td>9</td>\n",
       "      <td>372 Spruce St, Portland, OR 97035</td>\n",
       "    </tr>\n",
       "    <tr>\n",
       "      <th>3</th>\n",
       "      <td>3</td>\n",
       "      <td>248154</td>\n",
       "      <td>27in FHD Monitor</td>\n",
       "      <td>1</td>\n",
       "      <td>149.99</td>\n",
       "      <td>149.99</td>\n",
       "      <td>2018-09-27 07:52:00</td>\n",
       "      <td>Atlanta</td>\n",
       "      <td>9</td>\n",
       "      <td>315 Meadow St, Atlanta, GA 30301</td>\n",
       "    </tr>\n",
       "    <tr>\n",
       "      <th>4</th>\n",
       "      <td>4</td>\n",
       "      <td>248155</td>\n",
       "      <td>USB-C Charging Cable</td>\n",
       "      <td>1</td>\n",
       "      <td>11.95</td>\n",
       "      <td>11.95</td>\n",
       "      <td>2018-09-01 19:03:00</td>\n",
       "      <td>San Francisco</td>\n",
       "      <td>9</td>\n",
       "      <td>408 Lake St, San Francisco, CA 94016</td>\n",
       "    </tr>\n",
       "  </tbody>\n",
       "</table>\n",
       "</div>"
      ],
      "text/plain": [
       "   Unnamed: 0  Order ID                Product  Quantity Ordered  Price Each  \\\n",
       "0           0    248151  AA Batteries (4-pack)                 4        3.84   \n",
       "1           1    248152   USB-C Charging Cable                 2       11.95   \n",
       "2           2    248153   USB-C Charging Cable                 1       11.95   \n",
       "3           3    248154       27in FHD Monitor                 1      149.99   \n",
       "4           4    248155   USB-C Charging Cable                 1       11.95   \n",
       "\n",
       "    Sales          Order Date           City  Month  \\\n",
       "0   15.36 2018-09-17 14:44:00         Boston      9   \n",
       "1   23.90 2018-09-29 10:19:00  New York City      9   \n",
       "2   11.95 2018-09-16 17:48:00       Portland      9   \n",
       "3  149.99 2018-09-27 07:52:00        Atlanta      9   \n",
       "4   11.95 2018-09-01 19:03:00  San Francisco      9   \n",
       "\n",
       "                       Purchase Address  \n",
       "0         883 West St, Boston, MA 02215  \n",
       "1  71 Ridge St, New York City, NY 10001  \n",
       "2     372 Spruce St, Portland, OR 97035  \n",
       "3      315 Meadow St, Atlanta, GA 30301  \n",
       "4  408 Lake St, San Francisco, CA 94016  "
      ]
     },
     "execution_count": 368,
     "metadata": {},
     "output_type": "execute_result"
    }
   ],
   "source": [
    "# Create a city column in the dataframe\n",
    "insert_position = data.columns.get_loc('Purchase Address') - 1 # insert before address\n",
    "data.insert(insert_position, 'City', data['Purchase Address'].apply(get_city_from_address))\n",
    "\n",
    "data.head()"
   ]
  },
  {
   "cell_type": "code",
   "execution_count": 369,
   "metadata": {},
   "outputs": [
    {
     "name": "stdout",
     "output_type": "stream",
     "text": [
      "140897.75999999998\n"
     ]
    }
   ],
   "source": [
    "# New concept : grouping by multiple indices\n",
    "# And we are going to use pd.DataFrame.loc for advanced indexing, unlike the ordinary\n",
    "# Indexing syntax with [], loc will enable us to slice columns\n",
    "groupby_data = data.groupby(['Month', 'City']).sum()\n",
    "\n",
    "# You can get the sales value of one specific month in one specific city\n",
    "print(groupby_data['Sales'].loc[1, 'Atlanta'])"
   ]
  },
  {
   "cell_type": "code",
   "execution_count": 370,
   "metadata": {},
   "outputs": [
    {
     "name": "stdout",
     "output_type": "stream",
     "text": [
      "Month\n",
      "1     140897.76\n",
      "2     179923.72\n",
      "3     241112.23\n",
      "4     260632.99\n",
      "5     240120.69\n",
      "6     224573.14\n",
      "7     212965.32\n",
      "8     177925.15\n",
      "9     172403.21\n",
      "10    294404.12\n",
      "11    225350.14\n",
      "12    355366.95\n",
      "Name: Sales, dtype: float64\n"
     ]
    }
   ],
   "source": [
    "# Or you can get the sales values of every month in one specific city\n",
    "print(groupby_data['Sales'].loc[:, 'Atlanta'])"
   ]
  },
  {
   "cell_type": "code",
   "execution_count": 371,
   "metadata": {},
   "outputs": [
    {
     "name": "stdout",
     "output_type": "stream",
     "text": [
      "Month  City         \n",
      "1      Atlanta          140897.76\n",
      "       Austin           108931.35\n",
      "       Boston           195159.63\n",
      "       Dallas           149855.22\n",
      "       Los Angeles      283262.80\n",
      "       New York City    253099.75\n",
      "       Portland         119171.46\n",
      "       San Francisco    428303.33\n",
      "       Seattle          138165.11\n",
      "Name: Sales, dtype: float64\n"
     ]
    }
   ],
   "source": [
    "# Also, you can get the sales values of one specific month in every city\n",
    "print(groupby_data['Sales'].loc[1, :])"
   ]
  },
  {
   "cell_type": "code",
   "execution_count": 372,
   "metadata": {},
   "outputs": [
    {
     "name": "stdout",
     "output_type": "stream",
     "text": [
      "Month  City         \n",
      "1      Atlanta          140897.76\n",
      "       Austin           108931.35\n",
      "       Boston           195159.63\n",
      "       Dallas           149855.22\n",
      "       Los Angeles      283262.80\n",
      "       New York City    253099.75\n",
      "       Portland         119171.46\n",
      "       San Francisco    428303.33\n",
      "       Seattle          138165.11\n",
      "2      Atlanta          179923.72\n",
      "       Austin           129885.50\n",
      "       Boston           248039.51\n",
      "       Dallas           175834.93\n",
      "       Los Angeles      342658.07\n",
      "       New York City    293728.78\n",
      "       Portland         148917.02\n",
      "       San Francisco    514205.24\n",
      "       Seattle          162785.99\n",
      "3      Atlanta          241112.23\n",
      "       Austin           166382.80\n",
      "       Boston           305137.75\n",
      "       Dallas           230516.67\n",
      "       Los Angeles      424076.35\n",
      "       New York City    359836.21\n",
      "       Portland         186860.28\n",
      "       San Francisco    665278.48\n",
      "       Seattle          221391.72\n",
      "Name: Sales, dtype: float64\n"
     ]
    }
   ],
   "source": [
    "# You can also get the sales values of a range of months in every city\n",
    "print(groupby_data['Sales'].loc[1:3, :])"
   ]
  },
  {
   "cell_type": "code",
   "execution_count": 373,
   "metadata": {},
   "outputs": [
    {
     "name": "stdout",
     "output_type": "stream",
     "text": [
      "Month  City       \n",
      "1      Atlanta        140897.76\n",
      "       Los Angeles    283262.80\n",
      "2      Atlanta        179923.72\n",
      "       Los Angeles    342658.07\n",
      "3      Atlanta        241112.23\n",
      "       Los Angeles    424076.35\n",
      "Name: Sales, dtype: float64\n"
     ]
    }
   ],
   "source": [
    "# Finally, get the sales values of a range of months in a range of citites\n",
    "print(groupby_data['Sales'].loc[1:3, ['Atlanta', 'Los Angeles']])"
   ]
  },
  {
   "cell_type": "code",
   "execution_count": 374,
   "metadata": {
    "scrolled": true
   },
   "outputs": [
    {
     "data": {
      "image/png": "[encoded data removed]",
      "text/plain": [
       "<Figure size 1080x360 with 1 Axes>"
      ]
     },
     "metadata": {
      "needs_background": "light"
     },
     "output_type": "display_data"
    }
   ],
   "source": [
    "# Now the main question : What city made the most sales ?\n",
    "# 1. Sales in a specific month\n",
    "cities = np.unique(data['City'].values)\n",
    "fig, ax = plt.subplots(figsize=(15,5))\n",
    "for city in cities:\n",
    "    sales_in_month = groupby_data['Sales'].loc[:, city]\n",
    "    \n",
    "    ax.plot(sales_in_month.values, label=city)\n",
    "\n",
    "plt.grid()\n",
    "plt.legend()\n",
    "plt.title('Monthly sales of all cities')\n",
    "\n",
    "plt.show()"
   ]
  },
  {
   "cell_type": "markdown",
   "metadata": {},
   "source": [
    "### What products are sold the most"
   ]
  },
  {
   "cell_type": "code",
   "execution_count": 375,
   "metadata": {},
   "outputs": [
    {
     "data": {
      "text/plain": [
       "array(['20in Monitor', '27in 4K Gaming Monitor', '27in FHD Monitor',\n",
       "       '34in Ultrawide Monitor', 'AA Batteries (4-pack)',\n",
       "       'AAA Batteries (4-pack)', 'Apple Airpods Headphones',\n",
       "       'Bose SoundSport Headphones', 'Flatscreen TV', 'Google Phone',\n",
       "       'LG Dryer', 'LG Washing Machine', 'Lightning Charging Cable',\n",
       "       'Macbook Pro Laptop', 'ThinkPad Laptop', 'USB-C Charging Cable',\n",
       "       'Vareebadd Phone', 'Wired Headphones', 'iPhone'], dtype=object)"
      ]
     },
     "execution_count": 375,
     "metadata": {},
     "output_type": "execute_result"
    }
   ],
   "source": [
    "np.unique(data['Product']) # get all the products"
   ]
  },
  {
   "cell_type": "code",
   "execution_count": 376,
   "metadata": {},
   "outputs": [
    {
     "name": "stderr",
     "output_type": "stream",
     "text": [
      "<ipython-input-376-a060a171a0d7>:14: UserWarning: FixedFormatter should only be used together with FixedLocator\n",
      "  ax1.set_xticklabels(quantity.index, rotation=90)\n"
     ]
    },
    {
     "data": {
      "image/png": "[encoded data removed]",
      "text/plain": [
       "<Figure size 432x288 with 2 Axes>"
      ]
     },
     "metadata": {
      "needs_background": "light"
     },
     "output_type": "display_data"
    }
   ],
   "source": [
    "groupby_data = data.groupby('Product')\n",
    "quantity = groupby_data.sum()['Quantity Ordered']\n",
    "unit_price = groupby_data.mean()['Price Each']\n",
    "\n",
    "fig, ax1 = plt.subplots()\n",
    "ax2 = ax1.twinx()\n",
    "\n",
    "ax1.bar(quantity.index, quantity, color='green')\n",
    "ax1.set_ylabel('Quantity ordered', color='green')\n",
    "\n",
    "ax2.plot(unit_price.index, unit_price, color='red')\n",
    "ax2.set_ylabel('Unit price', color='red')\n",
    "\n",
    "ax1.set_xticklabels(quantity.index, rotation=90)\n",
    "plt.show()"
   ]
  },
  {
   "cell_type": "markdown",
   "metadata": {},
   "source": [
    "### What time do buyers most actively purchase"
   ]
  },
  {
   "cell_type": "code",
   "execution_count": 377,
   "metadata": {},
   "outputs": [
    {
     "data": {
      "text/html": [
       "<div>\n",
       "<style scoped>\n",
       "    .dataframe tbody tr th:only-of-type {\n",
       "        vertical-align: middle;\n",
       "    }\n",
       "\n",
       "    .dataframe tbody tr th {\n",
       "        vertical-align: top;\n",
       "    }\n",
       "\n",
       "    .dataframe thead th {\n",
       "        text-align: right;\n",
       "    }\n",
       "</style>\n",
       "<table border=\"1\" class=\"dataframe\">\n",
       "  <thead>\n",
       "    <tr style=\"text-align: right;\">\n",
       "      <th></th>\n",
       "      <th>Unnamed: 0</th>\n",
       "      <th>Order ID</th>\n",
       "      <th>Product</th>\n",
       "      <th>Quantity Ordered</th>\n",
       "      <th>Price Each</th>\n",
       "      <th>Sales</th>\n",
       "      <th>Order Date</th>\n",
       "      <th>Hour</th>\n",
       "      <th>City</th>\n",
       "      <th>Month</th>\n",
       "      <th>Purchase Address</th>\n",
       "    </tr>\n",
       "  </thead>\n",
       "  <tbody>\n",
       "    <tr>\n",
       "      <th>0</th>\n",
       "      <td>0</td>\n",
       "      <td>248151</td>\n",
       "      <td>AA Batteries (4-pack)</td>\n",
       "      <td>4</td>\n",
       "      <td>3.84</td>\n",
       "      <td>15.36</td>\n",
       "      <td>2018-09-17 14:44:00</td>\n",
       "      <td>14</td>\n",
       "      <td>Boston</td>\n",
       "      <td>9</td>\n",
       "      <td>883 West St, Boston, MA 02215</td>\n",
       "    </tr>\n",
       "    <tr>\n",
       "      <th>1</th>\n",
       "      <td>1</td>\n",
       "      <td>248152</td>\n",
       "      <td>USB-C Charging Cable</td>\n",
       "      <td>2</td>\n",
       "      <td>11.95</td>\n",
       "      <td>23.90</td>\n",
       "      <td>2018-09-29 10:19:00</td>\n",
       "      <td>10</td>\n",
       "      <td>New York City</td>\n",
       "      <td>9</td>\n",
       "      <td>71 Ridge St, New York City, NY 10001</td>\n",
       "    </tr>\n",
       "    <tr>\n",
       "      <th>2</th>\n",
       "      <td>2</td>\n",
       "      <td>248153</td>\n",
       "      <td>USB-C Charging Cable</td>\n",
       "      <td>1</td>\n",
       "      <td>11.95</td>\n",
       "      <td>11.95</td>\n",
       "      <td>2018-09-16 17:48:00</td>\n",
       "      <td>17</td>\n",
       "      <td>Portland</td>\n",
       "      <td>9</td>\n",
       "      <td>372 Spruce St, Portland, OR 97035</td>\n",
       "    </tr>\n",
       "    <tr>\n",
       "      <th>3</th>\n",
       "      <td>3</td>\n",
       "      <td>248154</td>\n",
       "      <td>27in FHD Monitor</td>\n",
       "      <td>1</td>\n",
       "      <td>149.99</td>\n",
       "      <td>149.99</td>\n",
       "      <td>2018-09-27 07:52:00</td>\n",
       "      <td>7</td>\n",
       "      <td>Atlanta</td>\n",
       "      <td>9</td>\n",
       "      <td>315 Meadow St, Atlanta, GA 30301</td>\n",
       "    </tr>\n",
       "    <tr>\n",
       "      <th>4</th>\n",
       "      <td>4</td>\n",
       "      <td>248155</td>\n",
       "      <td>USB-C Charging Cable</td>\n",
       "      <td>1</td>\n",
       "      <td>11.95</td>\n",
       "      <td>11.95</td>\n",
       "      <td>2018-09-01 19:03:00</td>\n",
       "      <td>19</td>\n",
       "      <td>San Francisco</td>\n",
       "      <td>9</td>\n",
       "      <td>408 Lake St, San Francisco, CA 94016</td>\n",
       "    </tr>\n",
       "  </tbody>\n",
       "</table>\n",
       "</div>"
      ],
      "text/plain": [
       "   Unnamed: 0  Order ID                Product  Quantity Ordered  Price Each  \\\n",
       "0           0    248151  AA Batteries (4-pack)                 4        3.84   \n",
       "1           1    248152   USB-C Charging Cable                 2       11.95   \n",
       "2           2    248153   USB-C Charging Cable                 1       11.95   \n",
       "3           3    248154       27in FHD Monitor                 1      149.99   \n",
       "4           4    248155   USB-C Charging Cable                 1       11.95   \n",
       "\n",
       "    Sales          Order Date  Hour           City  Month  \\\n",
       "0   15.36 2018-09-17 14:44:00    14         Boston      9   \n",
       "1   23.90 2018-09-29 10:19:00    10  New York City      9   \n",
       "2   11.95 2018-09-16 17:48:00    17       Portland      9   \n",
       "3  149.99 2018-09-27 07:52:00     7        Atlanta      9   \n",
       "4   11.95 2018-09-01 19:03:00    19  San Francisco      9   \n",
       "\n",
       "                       Purchase Address  \n",
       "0         883 West St, Boston, MA 02215  \n",
       "1  71 Ridge St, New York City, NY 10001  \n",
       "2     372 Spruce St, Portland, OR 97035  \n",
       "3      315 Meadow St, Atlanta, GA 30301  \n",
       "4  408 Lake St, San Francisco, CA 94016  "
      ]
     },
     "execution_count": 377,
     "metadata": {},
     "output_type": "execute_result"
    }
   ],
   "source": [
    "# Insert an hour column\n",
    "insert_position = data.columns.get_loc('Order Date') + 1\n",
    "data.insert(insert_position, 'Hour', data['Order Date'].dt.hour)\n",
    "data.head()"
   ]
  },
  {
   "cell_type": "code",
   "execution_count": 378,
   "metadata": {},
   "outputs": [
    {
     "data": {
      "image/png": "[encoded data removed]",
      "text/plain": [
       "<Figure size 432x288 with 1 Axes>"
      ]
     },
     "metadata": {
      "needs_background": "light"
     },
     "output_type": "display_data"
    }
   ],
   "source": [
    "# Group number of orders by hour\n",
    "groupby_data = data.groupby('Hour').count()\n",
    "\n",
    "plt.plot(groupby_data['Order ID'])\n",
    "plt.grid()\n",
    "plt.show()"
   ]
  },
  {
   "cell_type": "code",
   "execution_count": null,
   "metadata": {},
   "outputs": [],
   "source": []
  }
 ],
 "metadata": {
  "kernelspec": {
   "display_name": "Python 3",
   "language": "python",
   "name": "python3"
  },
  "language_info": {
   "codemirror_mode": {
    "name": "ipython",
    "version": 3
   },
   "file_extension": ".py",
   "mimetype": "text/x-python",
   "name": "python",
   "nbconvert_exporter": "python",
   "pygments_lexer": "ipython3",
   "version": "3.8.10"
  }
 },
 "nbformat": 4,
 "nbformat_minor": 4
}
