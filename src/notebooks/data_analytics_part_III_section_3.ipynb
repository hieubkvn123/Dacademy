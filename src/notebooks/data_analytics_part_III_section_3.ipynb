{
 "cells": [
  {
   "cell_type": "markdown",
   "metadata": {},
   "source": [
    "# Import libraries"
   ]
  },
  {
   "cell_type": "code",
   "execution_count": 1,
   "metadata": {},
   "outputs": [],
   "source": [
    "import os\n",
    "import numpy as np\n",
    "import pandas as pd\n",
    "import matplotlib.pyplot as plt\n",
    "\n",
    "### PyTorch dependencies ###\n",
    "import torch\n",
    "import torch.nn as nn\n",
    "import torch.optim as optim"
   ]
  },
  {
   "cell_type": "markdown",
   "metadata": {},
   "source": [
    "# Introduction to Convolutional Neural Network (CNN)\n",
    "## What is Convolutional Neural Network \n",
    "* A CNN is a type of neural network that works best for the image processing task. The word \"convolution\" is originated from the filtering process of the network. An image is a complex structure that requires the neural network to pick up only the necessary features. Hence, unlike the normal artificial neural network, images are filtered before being fed into the fully connected layer.\n",
    "![CNN illustration](https://miro.medium.com/max/1400/1*uAeANQIOQPqWZnnuH-VEyw.jpeg)\n",
    "* Illustration video : [Youtube link](https://www.youtube.com/watch?v=x_VrgWTKkiM)"
   ]
  },
  {
   "cell_type": "markdown",
   "metadata": {},
   "source": [
    "## How convolutional layer works\n",
    "![Conv layer](https://mandroid6.github.io/images/Convolution_schematic.gif)"
   ]
  },
  {
   "cell_type": "markdown",
   "metadata": {},
   "source": [
    "# How maxpooling layer works\n",
    "![Max pooling](https://nico-curti.github.io/NumPyNet/NumPyNet/images/maxpool.gif)"
   ]
  },
  {
   "cell_type": "code",
   "execution_count": null,
   "metadata": {},
   "outputs": [],
   "source": []
  }
 ],
 "metadata": {
  "kernelspec": {
   "display_name": "Python 3",
   "language": "python",
   "name": "python3"
  },
  "language_info": {
   "codemirror_mode": {
    "name": "ipython",
    "version": 3
   },
   "file_extension": ".py",
   "mimetype": "text/x-python",
   "name": "python",
   "nbconvert_exporter": "python",
   "pygments_lexer": "ipython3",
   "version": "3.8.10"
  }
 },
 "nbformat": 4,
 "nbformat_minor": 4
}
