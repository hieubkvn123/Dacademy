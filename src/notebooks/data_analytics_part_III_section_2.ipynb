{
 "cells": [
  {
   "cell_type": "markdown",
   "metadata": {},
   "source": [
    "# Import libraries"
   ]
  },
  {
   "cell_type": "code",
   "execution_count": 1,
   "metadata": {},
   "outputs": [],
   "source": [
    "import os\n",
    "import time\n",
    "import numpy as np\n",
    "import pandas as pd\n",
    "import matplotlib.pyplot as plt\n",
    "\n",
    "# Torch dependencies\n",
    "import torch\n",
    "import torch.nn as nn\n",
    "import torch.optim as optim"
   ]
  },
  {
   "cell_type": "markdown",
   "metadata": {},
   "source": [
    "# Converting to CUDA\n",
    "* PyTorch comes with the functionality to perform high performance computation on a GPU. To convert all of the computation from a CPU to a GPU, you have to use CUDA with Torch"
   ]
  },
  {
   "cell_type": "code",
   "execution_count": 2,
   "metadata": {},
   "outputs": [
    {
     "name": "stdout",
     "output_type": "stream",
     "text": [
      "GPU is availabel\n"
     ]
    }
   ],
   "source": [
    "# By default, torch perform computation on CPU\n",
    "device = torch.device(\"cpu\")\n",
    "\n",
    "# If GPU is available, switch to CUDA\n",
    "if(torch.cuda.is_available()):\n",
    "    device = torch.device(\"cuda\")\n",
    "    print('GPU is availabel')\n",
    "else:\n",
    "    print('GPU is not available')"
   ]
  },
  {
   "cell_type": "markdown",
   "metadata": {},
   "source": [
    "#### Comparison between CPU and GPU computation in torch"
   ]
  },
  {
   "cell_type": "code",
   "execution_count": 4,
   "metadata": {},
   "outputs": [
    {
     "name": "stdout",
     "output_type": "stream",
     "text": [
      "Time taken on a GPU :  0.23891758918762207 s\n",
      "Time taken on a GPU :  0.001786947250366211 s\n"
     ]
    }
   ],
   "source": [
    "cpu = torch.device('cpu')\n",
    "gpu = torch.device('cuda')\n",
    "\n",
    "# Compare the two devices on a simple matrix multiplication\n",
    "a = torch.normal(0, 1, size=(10000, 5000))\n",
    "b = torch.normal(0, 1, size=(5000, 2000))\n",
    "\n",
    "# On CPU\n",
    "a = a.to(cpu)\n",
    "b = b.to(cpu)\n",
    "\n",
    "start = time.time()\n",
    "result = a @ b\n",
    "print('Time taken on a GPU : ', time.time() - start, 's')\n",
    "\n",
    "# On GPU\n",
    "a = a.to(gpu)\n",
    "b = b.to(gpu)\n",
    "\n",
    "start = time.time()\n",
    "result = a @ b\n",
    "print('Time taken on a GPU : ', time.time() - start, 's')"
   ]
  },
  {
   "cell_type": "markdown",
   "metadata": {},
   "source": [
    "# Artificial Neural Networks (ANN)"
   ]
  },
  {
   "cell_type": "markdown",
   "metadata": {},
   "source": [
    "### 1. What is a neural network ?\n",
    "* A neural network is a system of neurons that is responsible for the \"thinking\" made by human. An artificial neural network is a computation system that is inspired by the structure of human's neural network and used to replicate our decision making process. The basic unit of a neural network is an artificial perceptron.\n",
    "![Perceptron illustration](https://www.allaboutcircuits.com/uploads/articles/how-to-train-a-basic-perceptron-neural-network_rk_aac_image1.jpg)\n",
    "\n",
    "* A basic neural network architecture consists of many artificial perceptrons :\n",
    "![ANN illustration](https://www.researchgate.net/profile/Facundo-Bre/publication/321259051/figure/fig1/AS:614329250496529@1523478915726/Artificial-neural-network-architecture-ANN-i-h-1-h-2-h-n-o.png)"
   ]
  },
  {
   "cell_type": "markdown",
   "metadata": {},
   "source": [
    "## 2. Train a simple neural network in pytorch"
   ]
  },
  {
   "cell_type": "markdown",
   "metadata": {},
   "source": [
    "### 2.1. Define the network architecture"
   ]
  },
  {
   "cell_type": "code",
   "execution_count": null,
   "metadata": {},
   "outputs": [],
   "source": [
    "# Define a neural network as subclass of nn.Module\n",
    "class ANN(nn.Module):\n",
    "    def __init__(self, in_features, n_classes=10):"
   ]
  }
 ],
 "metadata": {
  "kernelspec": {
   "display_name": "Python 3",
   "language": "python",
   "name": "python3"
  },
  "language_info": {
   "codemirror_mode": {
    "name": "ipython",
    "version": 3
   },
   "file_extension": ".py",
   "mimetype": "text/x-python",
   "name": "python",
   "nbconvert_exporter": "python",
   "pygments_lexer": "ipython3",
   "version": "3.8.10"
  }
 },
 "nbformat": 4,
 "nbformat_minor": 4
}
