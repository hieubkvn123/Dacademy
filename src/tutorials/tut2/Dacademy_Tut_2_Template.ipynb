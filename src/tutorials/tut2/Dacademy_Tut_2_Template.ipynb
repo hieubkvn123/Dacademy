{
 "cells": [
  {
   "cell_type": "markdown",
   "metadata": {},
   "source": [
    "# Agenda\n",
    "- Analyze the [Data science job posting on glassdoor](https://www.kaggle.com/rashikrahmanpritom/data-science-job-posting-on-glassdoor) dataset and answer the following possible questions that may arise :\n",
    "\t1. What is the mean salary estimates of different job roles (Data scientist, data engineers, ...)?\n",
    "\t2. What is the mean job ratings for each of the job role (Data scientist, data engineers, ...) ?\n",
    "\t3. What industries requires most Data scientists and Data engineers ?\n",
    "\t4. Is there a relationship between job ratings and salary estimates ?\n",
    "\t5. What are the top 5 cities and companies that are most active in hiring both Data scientists and Data engineers?\n",
    "\t6. What are the top skills required for both Data scientists and Data engineers ?\n",
    "\n",
    "# Dataset description\n",
    "- This dataset consists of one file : **DS_Job.csv**\n",
    "- The dataset records the job postings related to data science and data engineering on Glassdoor. This dataset includes basic information like job title, salary estimates, job description, company size, ...\n",
    "\n",
    "# Recommended reading\n",
    "- Seaborn documentation : [Seaborn Doc](https://seaborn.pydata.org/tutorial/distributions.html)\n",
    "- Scipy documentation : [Scipy Doc](https://www.scipy.org/docs.html)"
   ]
  },
  {
   "cell_type": "markdown",
   "metadata": {},
   "source": [
    "# Import libraries"
   ]
  },
  {
   "cell_type": "code",
   "execution_count": null,
   "metadata": {},
   "outputs": [],
   "source": [
    "import numpy as np\n",
    "import pandas as pd\n",
    "import matplotlib.pyplot as plt\n",
    "import seaborn as sns\n",
    "from scipy import stats\n",
    "\n",
    "plt.style.use('seaborn-darkgrid')"
   ]
  }
 ],
 "metadata": {
  "kernelspec": {
   "display_name": "Python 3",
   "language": "python",
   "name": "python3"
  },
  "language_info": {
   "codemirror_mode": {
    "name": "ipython",
    "version": 3
   },
   "file_extension": ".py",
   "mimetype": "text/x-python",
   "name": "python",
   "nbconvert_exporter": "python",
   "pygments_lexer": "ipython3",
   "version": "3.8.10"
  }
 },
 "nbformat": 4,
 "nbformat_minor": 4
}
