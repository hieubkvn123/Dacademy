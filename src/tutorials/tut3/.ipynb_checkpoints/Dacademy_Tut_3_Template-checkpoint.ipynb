{
 "cells": [
  {
   "cell_type": "markdown",
   "metadata": {},
   "source": [
    "# Agenda\n",
    "- Analyze the [Car Price ](https://www.kaggle.com/goyalshalini93/car-price-prediction-linear-regression-rfe/data) dataset and answer the following possible questions that may arise :\n",
    "\t#### I. Exploratory Data Analysis. (Optional)\n",
    "\t_(*optional, you can move to regression modelling if you want)_\n",
    "\t\t1. Plot out the correlation matrix using seaborn's heatmap function and find out top 5 most correlated features with car prices.\n",
    "\t\t2. What car brands are the most common? (Count the number of cars by the brand name).\n",
    "\t\t3. What type of fuel is more common ? Diesel or gas? Support the answer with an appropriate visualization.\n",
    "\t\t4. Find out the average car prices by companies. (Group the dataset by company name and average out the price).\n",
    "\n",
    "\t#### II. Regression modelling.\n",
    "\t\t1. Choose some features to model the regression model.\n",
    "\t\t2. Separate the dataset into training set and testing set (train_test_split from sklearn model_selection module).\n",
    "\t\t3. Train a linear regression model on the train dataset.\n",
    "\t\t4. Evaluate the model : Calculate the R2 score and the root mean squared error using the test dataset.\n",
    "\t\t5. (Optional) Train a decision tree and perform the same evaluation step you did with linear regression.\n",
    "\n",
    "# Dataset description\n",
    "- This dataset consists of two files : \n",
    "\t- 1. **CarPrice_Assignment.csv** : Dataset file.\n",
    "\t- 2. **Data Dictionary - carprices.xlsx** : Columns description.\n",
    "- The dataset contains 205 records about the features associated to automobiles from multiple brands like fuel types, number of doors, wheel base, ...\n",
    "\n",
    "# Recommended reading\n",
    "- Linear regression comprehensively explained : [StatQuest](https://www.youtube.com/watch?v=nk2CQITm_eo)\n",
    "- Decision tree for regression explained : [StatQuest](https://www.youtube.com/watch?v=g9c66TUylZ4&t=143s)\n",
    "- Feature selection with recursive features elimination (RFE) : [Sklearn Doc](https://scikit-learn.org/stable/modules/generated/sklearn.feature_selection.RFE.html)"
   ]
  },
  {
   "cell_type": "markdown",
   "metadata": {},
   "source": [
    "# Import libraries"
   ]
  },
  {
   "cell_type": "code",
   "execution_count": 2,
   "metadata": {},
   "outputs": [],
   "source": [
    "import numpy as np\n",
    "import pandas as pd\n",
    "import seaborn as sns\n",
    "import matplotlib.pyplot as plt\n",
    "from scipy import stats\n",
    "\n",
    "from sklearn.preprocessing import OrdinalEncoder, StandardScaler\n",
    "from sklearn.model_selection import train_test_split\n",
    "from sklearn.linear_model import LinearRegression\n",
    "from sklearn.tree import DecisionTreeRegressor\n",
    "from sklearn.metrics import r2_score, mean_squared_error"
   ]
  },
  {
   "cell_type": "code",
   "execution_count": null,
   "metadata": {},
   "outputs": [],
   "source": []
  }
 ],
 "metadata": {
  "kernelspec": {
   "display_name": "Python 3",
   "language": "python",
   "name": "python3"
  },
  "language_info": {
   "codemirror_mode": {
    "name": "ipython",
    "version": 3
   },
   "file_extension": ".py",
   "mimetype": "text/x-python",
   "name": "python",
   "nbconvert_exporter": "python",
   "pygments_lexer": "ipython3",
   "version": "3.8.10"
  }
 },
 "nbformat": 4,
 "nbformat_minor": 4
}
