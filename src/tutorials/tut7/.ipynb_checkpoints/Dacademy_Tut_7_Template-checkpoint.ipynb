{
 "cells": [
  {
   "cell_type": "markdown",
   "metadata": {},
   "source": [
    "# Agenda\n",
    "- The agenda of this tutorial is to give you a fair revision of the machine learning tasks we have learned throughout the sessions : Classification, Regression, Clustering and Dimensionality Reduction.\n",
    "- Pick one of the following tasks from Kaggle:\n",
    "\t- 1. Mobile device prices classification (Dataset folder : Classification): [Link](https://www.kaggle.com/iabhishekofficial/mobile-price-classification?select=train.csv)\n",
    "\t- 2. House price prediction (Dataset folder : Regression) : [Link](https://www.kaggle.com/c/house-prices-advanced-regression-techniques/data?select=train.csv)\n",
    "\t- 3. Bank customer segmentation (Dataset folder : Clustering) : [Link](https://www.kaggle.com/paulinan/bank-customer-segmentation/data)\n",
    "\n",
    "*You should focus on the tasks themselves which are classification, regression modelling and customer segmentation. EDA is optional. When you present your work, please give us a fair introduction of the problem statement and the dataset information*."
   ]
  },
  {
   "cell_type": "markdown",
   "metadata": {},
   "source": [
    "# Import libraries"
   ]
  },
  {
   "cell_type": "code",
   "execution_count": null,
   "metadata": {},
   "outputs": [],
   "source": []
  }
 ],
 "metadata": {
  "kernelspec": {
   "display_name": "Python 3",
   "language": "python",
   "name": "python3"
  },
  "language_info": {
   "codemirror_mode": {
    "name": "ipython",
    "version": 3
   },
   "file_extension": ".py",
   "mimetype": "text/x-python",
   "name": "python",
   "nbconvert_exporter": "python",
   "pygments_lexer": "ipython3",
   "version": "3.8.10"
  }
 },
 "nbformat": 4,
 "nbformat_minor": 4
}
