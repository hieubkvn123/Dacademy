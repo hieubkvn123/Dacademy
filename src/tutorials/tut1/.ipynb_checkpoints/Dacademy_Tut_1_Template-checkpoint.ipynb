{
 "cells": [
  {
   "cell_type": "markdown",
   "metadata": {},
   "source": [
    "# Agenda\n",
    "- Analyze the [\"Effect of alchohol on student's GPA dataset\"](https://archive.ics.uci.edu/ml/datasets/student+performance) dataset and answer the following possible questions that may arise :\n",
    "\t1. Is there a significant difference in the GPA of male and female students?\n",
    "\t2. How does the score of students living in urban and rural areas differ? Is this difference considerable.\n",
    "\t3. Is there a significant correlation between parent's education and students' performance at school.\n",
    "\t4. Does extracurricular activities have any impact on the performance of students. If yes, is it a positive or a negative impact?\n",
    "\t5. Does students with active relationship status tend to drink more than those who aren't? \n",
    "\t6. Analyze the effect of family relationship status on the use of alchohol in students.\n",
    "\t7. Analyze the difference between the students who opt for higher education and those who do not.\n",
    "\n",
    "# Dataset description\n",
    "- This dataset consists of two files :\n",
    "\t- **student-mat.csv** : For students taking Maths class.\n",
    "\t- **student-por.csv** : For students taking Portugese class.\n",
    "- The dataset records the GPAs of students from two classes (Maths & Portugese) with their respective GPAs along with other pieces of information like gender, age, address, family size, parent's cohabitation status,... Our ultimate goal is to analyze this dataset, extract insights from it and find out the connection between students' performance and alchohol use.\n",
    "\n",
    "# Recommended reading\n",
    "- Seaborn documentation : [Seaborn Doc](https://seaborn.pydata.org/tutorial/distributions.html)\n",
    "- How to represent data distribution using Seaborn pairplot [Seaborn Pairplot](https://seaborn.pydata.org/generated/seaborn.pairplot.html)\n",
    "- Pearson correlation of coefficient, testing the significance of correlation : [Explanation](https://stats.libretexts.org/Bookshelves/Introductory_Statistics/Book%3A_Introductory_Statistics_(OpenStax)/12%3A_Linear_Regression_and_Correlation/12.05%3A_Testing_the_Significance_of_the_Correlation_Coefficient)\n",
    "- Two-sample T-test for difference of mean between INDEPENDENT samples : [Explanation](https://www.youtube.com/watch?v=NkGvw18zlGQ), [Scipy](https://docs.scipy.org/doc/scipy/reference/generated/scipy.stats.ttest_ind.html)\n",
    "- Two-sample T-test for difference of mean between RELATED samples : [Scipy](https://docs.scipy.org/doc/scipy/reference/generated/scipy.stats.ttest_rel.html)\n",
    "- One-way ANOVA for difference of mean between MULTIPLE INDEPENDENT samples : [Link](https://statistics.laerd.com/statistical-guides/one-way-anova-statistical-guide.php), [Scipy](https://docs.scipy.org/doc/scipy/reference/generated/scipy.stats.f_oneway.html)"
   ]
  },
  {
   "cell_type": "markdown",
   "metadata": {},
   "source": [
    "# Group Info\n",
    "#### 1. Exco in-charge : <exco_name>\n",
    "#### 2. Subcomms :\n",
    "    * Subcomm 1\n",
    "    * Subcomm 2\n",
    "    * ..."
   ]
  },
  {
   "cell_type": "markdown",
   "metadata": {},
   "source": [
    "# I. Import libraries"
   ]
  },
  {
   "cell_type": "code",
   "execution_count": 42,
   "metadata": {},
   "outputs": [],
   "source": [
    "import numpy as np\n",
    "import pandas as pd\n",
    "import matplotlib.pyplot as plt\n",
    "import seaborn as sns\n",
    "from scipy import stats\n",
    "\n",
    "plt.style.use('seaborn-darkgrid')"
   ]
  },
  {
   "cell_type": "code",
   "execution_count": null,
   "metadata": {},
   "outputs": [],
   "source": []
  }
 ],
 "metadata": {
  "kernelspec": {
   "display_name": "Python 3",
   "language": "python",
   "name": "python3"
  },
  "language_info": {
   "codemirror_mode": {
    "name": "ipython",
    "version": 3
   },
   "file_extension": ".py",
   "mimetype": "text/x-python",
   "name": "python",
   "nbconvert_exporter": "python",
   "pygments_lexer": "ipython3",
   "version": "3.8.10"
  }
 },
 "nbformat": 4,
 "nbformat_minor": 4
}
