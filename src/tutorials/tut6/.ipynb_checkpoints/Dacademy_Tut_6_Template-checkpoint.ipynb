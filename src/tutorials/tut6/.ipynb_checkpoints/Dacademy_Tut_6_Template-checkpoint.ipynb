{
 "cells": [
  {
   "cell_type": "markdown",
   "metadata": {},
   "source": [
    "# Agenda\n",
    "- Analyze the [General Credit Card](https://www.kaggle.com/arjunbhasin2013/ccdata) dataset and answer the following possible questions that may arise.\n",
    "\n",
    "\t#### I. Clusters analysis.\n",
    "\t_(*After doing appropriate data cleaning steps)_\n",
    "\n",
    "\t1. Use KMeans to segment the bank customers into groups. You should be able to perform the following tasks:\n",
    "\t\t1. Compute the Within-Cluster-Sum-Squares for multiple values of k.\n",
    "\t\t2. Plot the WCSS curve and choose an optimal value k.\n",
    "\t\t3. Perform clustering with the chosen k.\n",
    "\t2. (Optional) Use DBSCAN to perform clustering on the same dataset. State the hyperparameters used (epsilon and minimum samples per cluster).\n",
    "\n",
    "\t#### II. Extract insights.\n",
    "\t_From the cluster labels derived by either DBSCAN or KMEANS, extract the insights from the clusters. For example:_\n",
    "\t1. Is there any significant difference in the distribution of purchases among the clusters.\n",
    "\t2. Is there any significant difference in the distribution of purcahses frequency among the clusters.\n",
    "\t3. ... (Extract as many insights as possible).\n",
    "\n",
    "# Dataset description\n",
    "- This dataset consists of one file : \n",
    "\t- 1. **CC GENERAL.csv** : Dataset file.\n",
    "- Please refer to the kaggle link above for column descriptions.\n",
    "\n",
    "<br/>\n",
    "\n",
    "# Recommended readings\n",
    "- DBSCAN explained - *Pay attention to the meaning of epsilon and minimum number of samples per cluster parameters* : [Link](https://www.youtube.com/watch?v=_A9Tq6mGtLI)\n",
    "- A short description of the differences between KMeans and DBSCAN : [Link](https://soroushhashemifar.medium.com/kmeans-vs-dbscan-d9d5f9dbee8b)\n",
    "- Example of using DBSCAN in sklearn : [Link](https://github.com/reshma78611/DBSCAN-Clustering-using-Python/blob/main/dbscan_clust.py)"
   ]
  },
  {
   "cell_type": "markdown",
   "metadata": {},
   "source": [
    "# Import libraries"
   ]
  },
  {
   "cell_type": "code",
   "execution_count": 1,
   "metadata": {},
   "outputs": [],
   "source": [
    "import numpy as np\n",
    "import pandas as pd\n",
    "import seaborn as sns\n",
    "import matplotlib.pyplot as plt\n",
    "from scipy import stats\n",
    "\n",
    "from sklearn.preprocessing import OrdinalEncoder, StandardScaler\n",
    "from sklearn.cluster import DBSCAN, KMeans"
   ]
  },
  {
   "cell_type": "code",
   "execution_count": null,
   "metadata": {},
   "outputs": [],
   "source": []
  }
 ],
 "metadata": {
  "kernelspec": {
   "display_name": "Python 3",
   "language": "python",
   "name": "python3"
  },
  "language_info": {
   "codemirror_mode": {
    "name": "ipython",
    "version": 3
   },
   "file_extension": ".py",
   "mimetype": "text/x-python",
   "name": "python",
   "nbconvert_exporter": "python",
   "pygments_lexer": "ipython3",
   "version": "3.8.10"
  }
 },
 "nbformat": 4,
 "nbformat_minor": 4
}
