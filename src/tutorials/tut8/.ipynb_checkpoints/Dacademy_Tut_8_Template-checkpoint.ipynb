{
 "cells": [
  {
   "cell_type": "markdown",
   "metadata": {},
   "source": [
    "# Agenda\n",
    "- Analyze the [Mushroom](https://www.kaggle.com/uciml/mushroom-classification) dataset and answer the following possible questions that may arise.\n",
    "\n",
    "## Neural network for classification.\n",
    "- 1. Import the data and apply neccessary preprocessing steps.\n",
    "- 2. Split the data into train and test sets.\n",
    "- 3. Construct a neural network in PyTorch that includes an input layer, several hidden layers (you can decide to include a parameter in your neural network module that specifies number of hidden layers or number of neurons in the hidden layer) and a softmax layer.\n",
    "- 4. Train the neural network on the training dataset.\n",
    "- 5. Evaluate the model using the metrics that you have learned for classification problem.\n",
    "\n",
    "## Data description\n",
    "- This dataset consists of one file : \n",
    "\t- 1. **mushrooms.csv** : Dataset file.\n",
    "- Please refer to the kaggle link above for column descriptions."
   ]
  },
  {
   "cell_type": "markdown",
   "metadata": {},
   "source": [
    "# Import libraries"
   ]
  },
  {
   "cell_type": "code",
   "execution_count": 1,
   "metadata": {},
   "outputs": [],
   "source": [
    "import os\n",
    "import numpy as np\n",
    "import pandas as pd\n",
    "import seaborn as sns\n",
    "import matplotlib.pyplot as plt\n",
    "\n",
    "from sklearn.preprocessing import StandardScaler, OneHotEncoder\n",
    "from sklearn.datasets import make_regression\n",
    "from sklearn.metrics import confusion_matrix, accuracy_score, f1_score\n",
    "from sklearn.model_selection import train_test_split\n",
    "\n",
    "### Torch dependencies ###\n",
    "import torch\n",
    "import torch.nn as nn\n",
    "import torch.optim as optim"
   ]
  },
  {
   "cell_type": "code",
   "execution_count": null,
   "metadata": {},
   "outputs": [],
   "source": []
  }
 ],
 "metadata": {
  "kernelspec": {
   "display_name": "Python 3",
   "language": "python",
   "name": "python3"
  },
  "language_info": {
   "codemirror_mode": {
    "name": "ipython",
    "version": 3
   },
   "file_extension": ".py",
   "mimetype": "text/x-python",
   "name": "python",
   "nbconvert_exporter": "python",
   "pygments_lexer": "ipython3",
   "version": "3.8.10"
  }
 },
 "nbformat": 4,
 "nbformat_minor": 4
}
