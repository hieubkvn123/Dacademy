{
 "cells": [
  {
   "cell_type": "markdown",
   "metadata": {},
   "source": [
    "# Agenda\n",
    "- Analyze the [Adult Income](https://archive.ics.uci.edu/ml/datasets/Adult) dataset and answer the following possible questions that may arise :\n",
    "\n",
    "#### I. Exploratory Data Analysis. (Optional)\n",
    "\t_(*Optional, you can move to classification modelling if you want)_\n",
    "\t\n",
    "\t1. With visualization, show the difference of income between adults of different education levels (How many people of each education level earn more than 50k).\n",
    "\t2. With visualization, show the difference of income between adults working in different workclasses.\n",
    "\t3. With visualization, show the difference of income between adults with different marital status.\n",
    "\n",
    "#### II. Classification modelling.\n",
    "\t_(*After doing appropriate data cleaning steps)_\n",
    "\n",
    "    1. Separate the dataset into training set and testing set (train_test_split from sklearn model_selection module).\n",
    "    2. Pick some of the classification models to train : SVM, KNN, Decision Tree Classifier, Random Forest Classifier, ...\n",
    "    3. Perform cross k-fold cross validation with the dataset with k=3 and report the accuracy and f1 score.\n",
    "    4. Evaludate the model : Report the f1 score and accuracy of the model on the testing set.\n",
    "    5. (Optional) Perform hyperparameters tuning on the trained models.\n",
    "\n",
    "# Dataset description\n",
    "- This dataset consists of one file : \n",
    "\t- 1. **Adult.csv** : Dataset file (You can ignore the fnlwgt column).\n",
    "- This dataset records the data of adults with attributes like age, workclass, marital status, education level, ... along with their respective income range (>50k or <=50k). Your task is to use the provided attributes to build a classification model that predict the income of adults based on the provided features.\n",
    "\n",
    "# Recommended reading\n",
    "- Main ideas behind support vector machine : [StatQuest](https://www.youtube.com/watch?v=efR1C6CvhmE&t=541s), [Sklearn Doc](https://scikit-learn.org/stable/modules/generated/sklearn.svm.SVC.html)\n",
    "- K-Nearest Neighbors classifier explained : [StatQuest](https://www.youtube.com/watch?v=HVXime0nQeI), [Sklearn Doc](https://scikit-learn.org/stable/modules/generated/sklearn.neighbors.KNeighborsClassifier.html)\n",
    "- Naive Bayes classifier explained : [StatQuest](https://www.youtube.com/watch?v=O2L2Uv9pdDA&t=701s), [Sklearn Doc](https://scikit-learn.org/stable/modules/generated/sklearn.naive_bayes.GaussianNB.html)"
   ]
  },
  {
   "cell_type": "markdown",
   "metadata": {},
   "source": [
    "# Import libraries"
   ]
  },
  {
   "cell_type": "code",
   "execution_count": 1,
   "metadata": {},
   "outputs": [],
   "source": [
    "import numpy as np\n",
    "import pandas as pd\n",
    "import seaborn as sns\n",
    "import matplotlib.pyplot as plt\n",
    "from scipy import stats\n",
    "\n",
    "from sklearn.preprocessing import OrdinalEncoder, StandardScaler\n",
    "from sklearn.model_selection import train_test_split\n",
    "from sklearn.linear_model import LogisticRegression\n",
    "from sklearn.tree import DecisionTreeClassifier\n",
    "from sklearn.ensemble import RandomForestClassifier\n",
    "from sklearn.metrics import f1_score, accuracy_score\n",
    "from sklearn.svm import SVC\n",
    "from sklearn.naive_bayes import GaussianNB"
   ]
  },
  {
   "cell_type": "code",
   "execution_count": null,
   "metadata": {},
   "outputs": [],
   "source": []
  }
 ],
 "metadata": {
  "kernelspec": {
   "display_name": "Python 3",
   "language": "python",
   "name": "python3"
  },
  "language_info": {
   "codemirror_mode": {
    "name": "ipython",
    "version": 3
   },
   "file_extension": ".py",
   "mimetype": "text/x-python",
   "name": "python",
   "nbconvert_exporter": "python",
   "pygments_lexer": "ipython3",
   "version": "3.8.10"
  }
 },
 "nbformat": 4,
 "nbformat_minor": 4
}
