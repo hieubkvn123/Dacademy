{
 "cells": [
  {
   "cell_type": "markdown",
   "metadata": {},
   "source": [
    "# Agenda\n",
    "- Analyze the [Medical Insurance Cost](https://www.kaggle.com/mirichoi0218/insurance) dataset and answer the following possible questions that may arise :\n",
    "\t#### I. Exploratory Data Analysis. (Optional)\n",
    "\t_(*Optional, you can move to regression modelling if you want)_\n",
    "\t\n",
    "\t\t1. Plot the distribution of the patients' ages recorded in this dataset.\n",
    "\t\t2. Plot the correlation matrix of the dataset. Find out what features are most correlated to the insurance charges.\n",
    "\t\t3. How many of the patients are male/female.\n",
    "\t\t4. The healthy BMI ranges from 18.5 to 25.0. Figure out what percentage of patients in this dataset has a BMI outside of this healthy range.\n",
    "\n",
    "\t#### II. Regression modelling.\n",
    "\t\n",
    "\t\t1. Separate the dataset into training set and testing set (train_test_split from sklearn model_selection module).\n",
    "\t\t2. Pick one of the following regression algorithms to train : Decision Tree Regression, Random Forest Regression.\n",
    "\t\t4. Perform cross validation on the chosen model and report the following metrics : MSE, RMSE and R2 scores.\n",
    "\t\t5. Evaluate the model : Report MSE, RMSE and R2 score on the testing dataset. \n",
    "\t\t6. (Optional) Perform hyperparameters tuning on the chosen model.\n",
    "\n",
    "# Dataset description\n",
    "- This dataset consists of one file : \n",
    "\t- 1. **MedicalInsurance.csv** : Dataset file.\n",
    "- The dataset records the information of patients that require medical insurance. Such information includes age, sex, BMI, number of children, whether they smoke or not, living region and their medical insurance charges. Your task is to build a regression model to predict the medical insurance charges based on the patients' data.\n",
    "\n",
    "# Recommended reading\n",
    "- Decision tree for regression explained : [StatQuest](https://www.youtube.com/watch?v=g9c66TUylZ4&t=143s)\n",
    "- Random forest explained : [StatQuest](https://www.youtube.com/watch?v=J4Wdy0Wc_xQ&t=357s)"
   ]
  },
  {
   "cell_type": "markdown",
   "metadata": {},
   "source": [
    "# Import libraries"
   ]
  },
  {
   "cell_type": "code",
   "execution_count": 42,
   "metadata": {},
   "outputs": [],
   "source": [
    "import numpy as np\n",
    "import pandas as pd\n",
    "import seaborn as sns\n",
    "import matplotlib.pyplot as plt\n",
    "from scipy import stats\n",
    "\n",
    "from sklearn.preprocessing import OrdinalEncoder, StandardScaler\n",
    "from sklearn.model_selection import train_test_split\n",
    "from sklearn.model_selection import StratifiedShuffleSplit\n",
    "from sklearn.model_selection import GridSearchCV\n",
    "from sklearn.linear_model import LinearRegression\n",
    "from sklearn.tree import DecisionTreeRegressor\n",
    "from sklearn.ensemble import RandomForestRegressor\n",
    "from sklearn.metrics import r2_score, mean_squared_error"
   ]
  },
  {
   "cell_type": "markdown",
   "metadata": {},
   "source": [
    "# I. Exploratory Data Analysis (EDA)"
   ]
  },
  {
   "cell_type": "code",
   "execution_count": 15,
   "metadata": {},
   "outputs": [
    {
     "name": "stdout",
     "output_type": "stream",
     "text": [
      "<class 'pandas.core.frame.DataFrame'>\n",
      "RangeIndex: 1338 entries, 0 to 1337\n",
      "Data columns (total 7 columns):\n",
      " #   Column    Non-Null Count  Dtype  \n",
      "---  ------    --------------  -----  \n",
      " 0   age       1338 non-null   int64  \n",
      " 1   sex       1338 non-null   object \n",
      " 2   bmi       1338 non-null   float64\n",
      " 3   children  1338 non-null   int64  \n",
      " 4   smoker    1338 non-null   object \n",
      " 5   region    1338 non-null   object \n",
      " 6   charges   1338 non-null   float64\n",
      "dtypes: float64(2), int64(2), object(3)\n",
      "memory usage: 73.3+ KB\n"
     ]
    }
   ],
   "source": [
    "data = pd.read_csv('MedicalInsurance.csv')\n",
    "data.info()"
   ]
  },
  {
   "cell_type": "code",
   "execution_count": 16,
   "metadata": {},
   "outputs": [
    {
     "data": {
      "text/html": [
       "<div>\n",
       "<style scoped>\n",
       "    .dataframe tbody tr th:only-of-type {\n",
       "        vertical-align: middle;\n",
       "    }\n",
       "\n",
       "    .dataframe tbody tr th {\n",
       "        vertical-align: top;\n",
       "    }\n",
       "\n",
       "    .dataframe thead th {\n",
       "        text-align: right;\n",
       "    }\n",
       "</style>\n",
       "<table border=\"1\" class=\"dataframe\">\n",
       "  <thead>\n",
       "    <tr style=\"text-align: right;\">\n",
       "      <th></th>\n",
       "      <th>age</th>\n",
       "      <th>sex</th>\n",
       "      <th>bmi</th>\n",
       "      <th>children</th>\n",
       "      <th>smoker</th>\n",
       "      <th>region</th>\n",
       "      <th>charges</th>\n",
       "    </tr>\n",
       "  </thead>\n",
       "  <tbody>\n",
       "    <tr>\n",
       "      <th>0</th>\n",
       "      <td>19</td>\n",
       "      <td>0.0</td>\n",
       "      <td>27.900</td>\n",
       "      <td>0</td>\n",
       "      <td>1.0</td>\n",
       "      <td>3.0</td>\n",
       "      <td>16884.92400</td>\n",
       "    </tr>\n",
       "    <tr>\n",
       "      <th>1</th>\n",
       "      <td>18</td>\n",
       "      <td>1.0</td>\n",
       "      <td>33.770</td>\n",
       "      <td>1</td>\n",
       "      <td>0.0</td>\n",
       "      <td>2.0</td>\n",
       "      <td>1725.55230</td>\n",
       "    </tr>\n",
       "    <tr>\n",
       "      <th>2</th>\n",
       "      <td>28</td>\n",
       "      <td>1.0</td>\n",
       "      <td>33.000</td>\n",
       "      <td>3</td>\n",
       "      <td>0.0</td>\n",
       "      <td>2.0</td>\n",
       "      <td>4449.46200</td>\n",
       "    </tr>\n",
       "    <tr>\n",
       "      <th>3</th>\n",
       "      <td>33</td>\n",
       "      <td>1.0</td>\n",
       "      <td>22.705</td>\n",
       "      <td>0</td>\n",
       "      <td>0.0</td>\n",
       "      <td>1.0</td>\n",
       "      <td>21984.47061</td>\n",
       "    </tr>\n",
       "    <tr>\n",
       "      <th>4</th>\n",
       "      <td>32</td>\n",
       "      <td>1.0</td>\n",
       "      <td>28.880</td>\n",
       "      <td>0</td>\n",
       "      <td>0.0</td>\n",
       "      <td>1.0</td>\n",
       "      <td>3866.85520</td>\n",
       "    </tr>\n",
       "  </tbody>\n",
       "</table>\n",
       "</div>"
      ],
      "text/plain": [
       "   age  sex     bmi  children  smoker  region      charges\n",
       "0   19  0.0  27.900         0     1.0     3.0  16884.92400\n",
       "1   18  1.0  33.770         1     0.0     2.0   1725.55230\n",
       "2   28  1.0  33.000         3     0.0     2.0   4449.46200\n",
       "3   33  1.0  22.705         0     0.0     1.0  21984.47061\n",
       "4   32  1.0  28.880         0     0.0     1.0   3866.85520"
      ]
     },
     "execution_count": 16,
     "metadata": {},
     "output_type": "execute_result"
    }
   ],
   "source": [
    "# Convert all categorical data to integers\n",
    "cat_columns = data.select_dtypes('object').columns\n",
    "for col in cat_columns:\n",
    "    data[col] = OrdinalEncoder().fit_transform(data[[col]])\n",
    "    \n",
    "data.head()"
   ]
  },
  {
   "cell_type": "markdown",
   "metadata": {},
   "source": [
    "### 1. Plot the distribution of the patients' ages recorded in this dataset."
   ]
  },
  {
   "cell_type": "code",
   "execution_count": 17,
   "metadata": {},
   "outputs": [
    {
     "name": "stdout",
     "output_type": "stream",
     "text": [
      "Mean age =  39.20702541106129\n",
      "Age standard deviation =  14.049960379216154\n"
     ]
    },
    {
     "data": {
      "image/png": "[encoded data removed]",
      "text/plain": [
       "<Figure size 432x288 with 1 Axes>"
      ]
     },
     "metadata": {
      "needs_background": "light"
     },
     "output_type": "display_data"
    }
   ],
   "source": [
    "# Display the overall age distribution\n",
    "sns.kdeplot(data=data, x='age')\n",
    "\n",
    "print('Mean age = ', data['age'].mean())\n",
    "print('Age standard deviation = ', data['age'].std())\n",
    "plt.show()"
   ]
  },
  {
   "cell_type": "code",
   "execution_count": 18,
   "metadata": {},
   "outputs": [
    {
     "data": {
      "image/png": "[encoded data removed]",
      "text/plain": [
       "<Figure size 432x288 with 1 Axes>"
      ]
     },
     "metadata": {
      "needs_background": "light"
     },
     "output_type": "display_data"
    }
   ],
   "source": [
    "# Display age distribution by gender\n",
    "sns.kdeplot(data=data, x='age', hue='sex')\n",
    "plt.show()"
   ]
  },
  {
   "cell_type": "markdown",
   "metadata": {},
   "source": [
    "### 2. Plot the correlation matrix of the dataset. Find out what features are most correlated to the insurance charges."
   ]
  },
  {
   "cell_type": "code",
   "execution_count": 19,
   "metadata": {},
   "outputs": [
    {
     "data": {
      "image/png": "[encoded data removed]",
      "text/plain": [
       "<Figure size 432x288 with 2 Axes>"
      ]
     },
     "metadata": {
      "needs_background": "light"
     },
     "output_type": "display_data"
    }
   ],
   "source": [
    "# Plot the correlation matrix\n",
    "corr_matrix = data.corr()\n",
    "sns.heatmap(corr_matrix, annot=True)\n",
    "plt.show()"
   ]
  },
  {
   "cell_type": "code",
   "execution_count": 21,
   "metadata": {},
   "outputs": [
    {
     "data": {
      "text/plain": [
       "region      0.006208\n",
       "sex         0.057292\n",
       "children    0.067998\n",
       "bmi         0.198341\n",
       "age         0.299008\n",
       "smoker      0.787251\n",
       "charges     1.000000\n",
       "Name: charges, dtype: float64"
      ]
     },
     "execution_count": 21,
     "metadata": {},
     "output_type": "execute_result"
    }
   ],
   "source": [
    "# Most correlated features to charges sorted in ascending order\n",
    "# -> Most correlated factor to insurance cost is whether or not a person smokes\n",
    "abs_corr = corr_matrix['charges'].apply(lambda x : abs(x))\n",
    "abs_corr.sort_values()"
   ]
  },
  {
   "cell_type": "markdown",
   "metadata": {},
   "source": [
    "### 3. How many of the patients are male/female."
   ]
  },
  {
   "cell_type": "code",
   "execution_count": 23,
   "metadata": {},
   "outputs": [
    {
     "data": {
      "image/png": "[encoded data removed]",
      "text/plain": [
       "<Figure size 432x288 with 1 Axes>"
      ]
     },
     "metadata": {
      "needs_background": "light"
     },
     "output_type": "display_data"
    }
   ],
   "source": [
    "# Do a simple countplot\n",
    "sns.countplot(data=data, x='sex')\n",
    "plt.show()"
   ]
  },
  {
   "cell_type": "code",
   "execution_count": 25,
   "metadata": {},
   "outputs": [
    {
     "data": {
      "text/plain": [
       "sex\n",
       "0.0    662\n",
       "1.0    676\n",
       "Name: charges, dtype: int64"
      ]
     },
     "execution_count": 25,
     "metadata": {},
     "output_type": "execute_result"
    }
   ],
   "source": [
    "# Or just use aggregation\n",
    "data.groupby('sex').count()['charges']"
   ]
  },
  {
   "cell_type": "markdown",
   "metadata": {},
   "source": [
    "### 4. The healthy BMI ranges from 18.5 to 25.0. Figure out what percentage of patients in this dataset has a BMI outside of this healthy range."
   ]
  },
  {
   "cell_type": "code",
   "execution_count": 27,
   "metadata": {},
   "outputs": [
    {
     "name": "stdout",
     "output_type": "stream",
     "text": [
      "Percentage of unhealthy people is : 83.03437967115097%\n"
     ]
    }
   ],
   "source": [
    "# Get all healthy people first\n",
    "healthy = data[data['bmi'].between(18.5, 25.0)]\n",
    "healthy_count = len(healthy)\n",
    "\n",
    "# Get unhealthy percentage\n",
    "unhealthy_count = len(data) - healthy_count\n",
    "unhealthy_percentage = unhealthy_count / len(data) * 100\n",
    "\n",
    "print(f'Percentage of unhealthy people is : {unhealthy_percentage}%')"
   ]
  },
  {
   "cell_type": "markdown",
   "metadata": {},
   "source": [
    "# II. Regression modelling"
   ]
  },
  {
   "cell_type": "markdown",
   "metadata": {},
   "source": [
    "### 1. Split the dataset into train-test sets"
   ]
  },
  {
   "cell_type": "code",
   "execution_count": 30,
   "metadata": {},
   "outputs": [],
   "source": [
    "# Get the feature columns\n",
    "columns = list(data.columns)\n",
    "columns.remove('charges')\n",
    "\n",
    "features = data[columns]\n",
    "targets = data['charges']\n",
    "\n",
    "X_train, X_test, Y_train, Y_test = train_test_split(features, targets, test_size=0.2)"
   ]
  },
  {
   "cell_type": "markdown",
   "metadata": {},
   "source": [
    "### 2. Choose a model to train and perform cross validation"
   ]
  },
  {
   "cell_type": "code",
   "execution_count": 41,
   "metadata": {},
   "outputs": [
    {
     "name": "stdout",
     "output_type": "stream",
     "text": [
      "[Iteration #1], RMSE = 4295.083500094514, R2 score = 0.8716895062684664\n",
      "[Iteration #2], RMSE = 4477.169465449612, R2 score = 0.8635731724300045\n",
      "[Iteration #3], RMSE = 4878.196051642012, R2 score = 0.84432274878556\n",
      "[Iteration #4], RMSE = 4282.549947546718, R2 score = 0.877520163500271\n",
      "[Iteration #5], RMSE = 4830.38921127534, R2 score = 0.8456079631351988\n",
      "[Iteration #6], RMSE = 4880.6277387228465, R2 score = 0.8408929013759311\n",
      "[Iteration #7], RMSE = 5326.643536607231, R2 score = 0.8166133279705479\n",
      "[Iteration #8], RMSE = 5083.078752158413, R2 score = 0.8342214524341764\n",
      "[Iteration #9], RMSE = 4724.438231758893, R2 score = 0.8438316401438986\n",
      "[Iteration #10], RMSE = 4771.902572941402, R2 score = 0.8351843455970432\n",
      "[INFO] Mean RMSE = 4755.007900819697; Mean R2 = 0.8473457221641099\n"
     ]
    }
   ],
   "source": [
    "# Let's pick random forest for this case\n",
    "model = RandomForestRegressor()\n",
    "stratas = pd.cut(data['charges'], bins=5)\n",
    "splitter = StratifiedShuffleSplit(n_splits=10)\n",
    "\n",
    "# Cross validation\n",
    "iterations_no = 0\n",
    "all_rmse = []\n",
    "all_r2 = []\n",
    "for train_index, val_index in splitter.split(features, stratas):\n",
    "    iterations_no += 1\n",
    "    X_train, Y_train = features.loc[train_index], targets.loc[train_index]\n",
    "    X_val, Y_val = features.loc[val_index], targets.loc[val_index]\n",
    "    \n",
    "    model.fit(X_train, Y_train)\n",
    "    predictions = model.predict(X_val)\n",
    "    \n",
    "    rmse = np.sqrt(mean_squared_error(Y_val, predictions))\n",
    "    r2 = r2_score(Y_val, predictions)\n",
    "    \n",
    "    print(f'[Iteration #{iterations_no}], RMSE = {rmse}, R2 score = {r2}')\n",
    "    \n",
    "    # Store R2 and RMSE to calculate mean metrics later\n",
    "    all_rmse.append(rmse)\n",
    "    all_r2.append(r2)\n",
    "    \n",
    "print(f'[INFO] Mean RMSE = {np.mean(all_rmse)}; Mean R2 = {np.mean(all_r2)}')"
   ]
  },
  {
   "cell_type": "markdown",
   "metadata": {},
   "source": [
    "### 3. Hyper-parameters tuning"
   ]
  },
  {
   "cell_type": "code",
   "execution_count": 43,
   "metadata": {},
   "outputs": [
    {
     "name": "stdout",
     "output_type": "stream",
     "text": [
      "Fitting 3 folds for each of 9 candidates, totalling 27 fits\n",
      "[CV 1/3] END min_samples_leaf=1, n_estimators=50;, score=0.837 total time=   0.4s\n",
      "[CV 2/3] END min_samples_leaf=1, n_estimators=50;, score=0.836 total time=   0.2s\n",
      "[CV 3/3] END min_samples_leaf=1, n_estimators=50;, score=0.825 total time=   0.2s\n",
      "[CV 1/3] END min_samples_leaf=1, n_estimators=100;, score=0.839 total time=   0.4s\n",
      "[CV 2/3] END min_samples_leaf=1, n_estimators=100;, score=0.838 total time=   0.4s\n",
      "[CV 3/3] END min_samples_leaf=1, n_estimators=100;, score=0.827 total time=   0.4s\n",
      "[CV 1/3] END min_samples_leaf=1, n_estimators=150;, score=0.840 total time=   0.5s\n",
      "[CV 2/3] END min_samples_leaf=1, n_estimators=150;, score=0.841 total time=   0.5s\n",
      "[CV 3/3] END min_samples_leaf=1, n_estimators=150;, score=0.826 total time=   0.5s\n",
      "[CV 1/3] END min_samples_leaf=5, n_estimators=50;, score=0.857 total time=   0.1s\n",
      "[CV 2/3] END min_samples_leaf=5, n_estimators=50;, score=0.858 total time=   0.1s\n",
      "[CV 3/3] END min_samples_leaf=5, n_estimators=50;, score=0.843 total time=   0.1s\n",
      "[CV 1/3] END min_samples_leaf=5, n_estimators=100;, score=0.857 total time=   0.3s\n",
      "[CV 2/3] END min_samples_leaf=5, n_estimators=100;, score=0.858 total time=   0.3s\n",
      "[CV 3/3] END min_samples_leaf=5, n_estimators=100;, score=0.842 total time=   0.3s\n",
      "[CV 1/3] END min_samples_leaf=5, n_estimators=150;, score=0.857 total time=   0.4s\n",
      "[CV 2/3] END min_samples_leaf=5, n_estimators=150;, score=0.859 total time=   0.4s\n",
      "[CV 3/3] END min_samples_leaf=5, n_estimators=150;, score=0.842 total time=   0.4s\n",
      "[CV 1/3] END min_samples_leaf=8, n_estimators=50;, score=0.863 total time=   0.1s\n",
      "[CV 2/3] END min_samples_leaf=8, n_estimators=50;, score=0.860 total time=   0.1s\n",
      "[CV 3/3] END min_samples_leaf=8, n_estimators=50;, score=0.845 total time=   0.1s\n",
      "[CV 1/3] END min_samples_leaf=8, n_estimators=100;, score=0.863 total time=   0.2s\n",
      "[CV 2/3] END min_samples_leaf=8, n_estimators=100;, score=0.861 total time=   0.2s\n",
      "[CV 3/3] END min_samples_leaf=8, n_estimators=100;, score=0.845 total time=   0.3s\n",
      "[CV 1/3] END min_samples_leaf=8, n_estimators=150;, score=0.863 total time=   0.4s\n",
      "[CV 2/3] END min_samples_leaf=8, n_estimators=150;, score=0.860 total time=   0.4s\n",
      "[CV 3/3] END min_samples_leaf=8, n_estimators=150;, score=0.844 total time=   0.4s\n",
      "{'min_samples_leaf': 8, 'n_estimators': 100}\n"
     ]
    }
   ],
   "source": [
    "hyperparams = {\n",
    "    'min_samples_leaf' : [1, 5, 8],\n",
    "    'n_estimators' : [50, 100, 150]\n",
    "}\n",
    "\n",
    "model = RandomForestRegressor()\n",
    "gridcv = GridSearchCV(model, hyperparams, cv=3, verbose=3)\n",
    "gridcv.fit(features, targets)\n",
    "print(gridcv.best_params_)"
   ]
  },
  {
   "cell_type": "code",
   "execution_count": 45,
   "metadata": {},
   "outputs": [
    {
     "name": "stdout",
     "output_type": "stream",
     "text": [
      "[INFO] RMSE = 4148.177133161229; R2 score = 0.900055161774327\n"
     ]
    }
   ],
   "source": [
    "# Train and test on best hyper-parameters \n",
    "model = RandomForestRegressor(min_samples_leaf=8, n_estimators=100)\n",
    "model.fit(X_train, Y_train)\n",
    "\n",
    "# Predict and report RMSE, R2\n",
    "predictions = model.predict(X_test)\n",
    "rmse = np.sqrt(mean_squared_error(Y_test, predictions))\n",
    "r2 = r2_score(Y_test, predictions)\n",
    "\n",
    "print(f'[INFO] RMSE = {rmse}; R2 score = {r2}')"
   ]
  },
  {
   "cell_type": "code",
   "execution_count": null,
   "metadata": {},
   "outputs": [],
   "source": []
  }
 ],
 "metadata": {
  "kernelspec": {
   "display_name": "Python 3",
   "language": "python",
   "name": "python3"
  },
  "language_info": {
   "codemirror_mode": {
    "name": "ipython",
    "version": 3
   },
   "file_extension": ".py",
   "mimetype": "text/x-python",
   "name": "python",
   "nbconvert_exporter": "python",
   "pygments_lexer": "ipython3",
   "version": "3.8.10"
  }
 },
 "nbformat": 4,
 "nbformat_minor": 4
}
