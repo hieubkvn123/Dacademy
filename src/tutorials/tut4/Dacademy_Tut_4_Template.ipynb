{
 "cells": [
  {
   "cell_type": "markdown",
   "metadata": {},
   "source": [
    "# Agenda\n",
    "- Analyze the [Medical Insurance Cost](https://www.kaggle.com/mirichoi0218/insurance) dataset and answer the following possible questions that may arise :\n",
    "\t#### I. Exploratory Data Analysis. (Optional)\n",
    "\t_(*Optional, you can move to regression modelling if you want)_\n",
    "\t\n",
    "\t\t1. Plot the distribution of the patients' ages recorded in this dataset.\n",
    "\t\t2. Plot the correlation matrix of the dataset. Find out what features are most correlated to the insurance charges.\n",
    "\t\t3. How many of the patients are male/female.\n",
    "\t\t4. The healthy BMI ranges from 18.5 to 25.0. Figure out what percentage of patients in this dataset has a BMI outside of this healthy range.\n",
    "\n",
    "\t#### II. Regression modelling.\n",
    "\t\n",
    "\t\t1. Separate the dataset into training set and testing set (train_test_split from sklearn model_selection module).\n",
    "\t\t2. Pick one of the following regression algorithms to train : Decision Tree Regression, Random Forest Regression.\n",
    "\t\t4. Perform cross validation on the chosen model and report the following metrics : MSE, RMSE and R2 scores.\n",
    "\t\t5. Evaluate the model : Report MSE, RMSE and R2 score on the testing dataset. \n",
    "\t\t6. (Optional) Perform hyperparameters tuning on the chosen model.\n",
    "\n",
    "# Dataset description\n",
    "- This dataset consists of one file : \n",
    "\t- 1. **MedicalInsurance.csv** : Dataset file.\n",
    "- The dataset records the information of patients that require medical insurance. Such information includes age, sex, BMI, number of children, whether they smoke or not, living region and their medical insurance charges. Your task is to build a regression model to predict the medical insurance charges based on the patients' data.\n",
    "\n",
    "# Recommended reading\n",
    "- Decision tree for regression explained : [StatQuest](https://www.youtube.com/watch?v=g9c66TUylZ4&t=143s)\n",
    "- Random forest explained : [StatQuest](https://www.youtube.com/watch?v=J4Wdy0Wc_xQ&t=357s)"
   ]
  },
  {
   "cell_type": "markdown",
   "metadata": {},
   "source": [
    "# Import libraries"
   ]
  },
  {
   "cell_type": "code",
   "execution_count": null,
   "metadata": {},
   "outputs": [],
   "source": [
    "import numpy as np\n",
    "import pandas as pd\n",
    "import seaborn as sns\n",
    "import matplotlib.pyplot as plt\n",
    "from scipy import stats\n",
    "\n",
    "from sklearn.preprocessing import OrdinalEncoder, StandardScaler\n",
    "from sklearn.model_selection import train_test_split\n",
    "from sklearn.linear_model import LinearRegression\n",
    "from sklearn.tree import DecisionTreeRegressor\n",
    "from sklearn.ensemble import RandomForestRegressor\n",
    "from sklearn.metrics import r2_score, mean_squared_error"
   ]
  }
 ],
 "metadata": {
  "kernelspec": {
   "display_name": "Python 3",
   "language": "python",
   "name": "python3"
  },
  "language_info": {
   "codemirror_mode": {
    "name": "ipython",
    "version": 3
   },
   "file_extension": ".py",
   "mimetype": "text/x-python",
   "name": "python",
   "nbconvert_exporter": "python",
   "pygments_lexer": "ipython3",
   "version": "3.8.10"
  }
 },
 "nbformat": 4,
 "nbformat_minor": 4
}
