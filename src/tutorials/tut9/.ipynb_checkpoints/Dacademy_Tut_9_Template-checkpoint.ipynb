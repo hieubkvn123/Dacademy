{
 "cells": [
  {
   "cell_type": "markdown",
   "metadata": {},
   "source": [
    "# Agenda\n",
    "- Please download the zip file for the dog-cat-classification dataset given in this drive link : [Drive](https://drive.google.com/drive/folders/14MYEwq-TqgsoliPQpChnLYxPf3wNvtny?usp=sharing)\n",
    "\n",
    "## Neural network for classification.\n",
    "- 1. Unzip the data folder.\n",
    "- 2. Create a data loader from the folder.\n",
    "- 3. Construct a convolutional neural network in PyTorch that includes an input layer, several hidden layers (you can decide to include a parameter in your neural network module that specifies number of hidden layers or number of neurons in the hidden layer).\n",
    "- 4. Train the neural network on the training dataset.\n",
    "- 5. Evaluate the model using the metrics that you have learned for classification problem.\n",
    "\n",
    "## Data description\n",
    "- This dataset consists of one folder with 2 sub-folders :\n",
    "\t- **train/** : Contains training data with 2 classes \"dog\" and \"cat\" stored in the folders with the same names.\n",
    "\t- **test/** : Contains un-classified data of cats and dogs. \n",
    "\t"
   ]
  },
  {
   "cell_type": "markdown",
   "metadata": {},
   "source": [
    "# Import libraries"
   ]
  },
  {
   "cell_type": "code",
   "execution_count": 1,
   "metadata": {},
   "outputs": [],
   "source": [
    "import os\n",
    "import numpy as np\n",
    "import pandas as pd\n",
    "import seaborn as sns\n",
    "import matplotlib.pyplot as plt\n",
    "\n",
    "from sklearn.preprocessing import StandardScaler, OneHotEncoder\n",
    "from sklearn.datasets import make_regression\n",
    "from sklearn.metrics import confusion_matrix, accuracy_score, f1_score\n",
    "from sklearn.model_selection import train_test_split\n",
    "\n",
    "### Torch dependencies ###\n",
    "import torch\n",
    "import torch.nn as nn\n",
    "import torch.optim as optim"
   ]
  },
  {
   "cell_type": "code",
   "execution_count": null,
   "metadata": {},
   "outputs": [],
   "source": []
  }
 ],
 "metadata": {
  "kernelspec": {
   "display_name": "Python 3",
   "language": "python",
   "name": "python3"
  },
  "language_info": {
   "codemirror_mode": {
    "name": "ipython",
    "version": 3
   },
   "file_extension": ".py",
   "mimetype": "text/x-python",
   "name": "python",
   "nbconvert_exporter": "python",
   "pygments_lexer": "ipython3",
   "version": "3.8.10"
  }
 },
 "nbformat": 4,
 "nbformat_minor": 4
}
