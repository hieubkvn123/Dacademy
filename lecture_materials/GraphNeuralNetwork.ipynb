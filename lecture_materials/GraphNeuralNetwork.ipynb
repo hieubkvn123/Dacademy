{
 "cells": [
  {
   "cell_type": "markdown",
   "metadata": {},
   "source": [
    "# Import libraries"
   ]
  },
  {
   "cell_type": "code",
   "execution_count": 3,
   "metadata": {},
   "outputs": [],
   "source": [
    "import numpy as np\n",
    "import tensorflow as tf \n",
    "import spektral"
   ]
  },
  {
   "cell_type": "markdown",
   "metadata": {},
   "source": [
    "# Load the CORA dataset"
   ]
  },
  {
   "cell_type": "code",
   "execution_count": null,
   "metadata": {},
   "outputs": [],
   "source": [
    "dataset = spektral.datasets.citation.Citation(\n",
    "    name = 'cora',\n",
    "    random_split=True, \n",
    "    normalize_x = False\n",
    ")\n",
    "\n",
    "# Node features\n",
    "features = dataset.read()[0].x\n",
    "\n",
    "# Adjacency matrix\n",
    "adj = dataset.read()[0].a\n",
    "\n",
    "# Node-wise labels\n",
    "labels = dataset.read()[0].y\n",
    "\n",
    "# Train - val - test masks\n",
    "train_mask = dataset.mask_tr\n",
    "val_mask = dataset.mask_va\n",
    "test_mask = dataset.mask_te\n",
    "\n",
    "# Print out the shapes\n",
    "print(features.shape)\n",
    "print(adj.shape)\n",
    "print(labels.shape)\n",
    "\n",
    "print(np.sum(train_mask))\n",
    "print(np.sum(val_mask))\n",
    "print(np.sum(test_mask))\n",
    "\n",
    "'''\n",
    "Number of nodes : 2708\n",
    "Number of features per node : 1433 \n",
    "Number of labels (classes) : 7 \n",
    "\n",
    "------\n",
    "\n",
    "Number of training samples : 140\n",
    "Number of validating samples : 210\n",
    "Number of testing samples : 2358\n",
    "'''"
   ]
  },
  {
   "cell_type": "code",
   "execution_count": 41,
   "metadata": {},
   "outputs": [
    {
     "name": "stdout",
     "output_type": "stream",
     "text": [
      "(2708, 1433)\n"
     ]
    }
   ],
   "source": []
  },
  {
   "cell_type": "code",
   "execution_count": null,
   "metadata": {},
   "outputs": [],
   "source": []
  }
 ],
 "metadata": {
  "kernelspec": {
   "display_name": "Python 3",
   "language": "python",
   "name": "python3"
  },
  "language_info": {
   "codemirror_mode": {
    "name": "ipython",
    "version": 3
   },
   "file_extension": ".py",
   "mimetype": "text/x-python",
   "name": "python",
   "nbconvert_exporter": "python",
   "pygments_lexer": "ipython3",
   "version": "3.8.10"
  }
 },
 "nbformat": 4,
 "nbformat_minor": 4
}
