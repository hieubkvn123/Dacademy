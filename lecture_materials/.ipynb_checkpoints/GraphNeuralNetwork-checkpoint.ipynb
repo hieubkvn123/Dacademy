{
 "cells": [
  {
   "cell_type": "markdown",
   "metadata": {},
   "source": [
    "# Import libraries"
   ]
  },
  {
   "cell_type": "code",
   "execution_count": 100,
   "metadata": {},
   "outputs": [],
   "source": [
    "import os\n",
    "import spektral\n",
    "import numpy as np\n",
    "import tensorflow as tf \n",
    "import matplotlib.pyplot as plt"
   ]
  },
  {
   "cell_type": "markdown",
   "metadata": {},
   "source": [
    "# Load the CORA dataset"
   ]
  },
  {
   "cell_type": "code",
   "execution_count": 101,
   "metadata": {},
   "outputs": [
    {
     "name": "stderr",
     "output_type": "stream",
     "text": [
      "/usr/local/lib/python3.8/dist-packages/scipy/sparse/_index.py:124: SparseEfficiencyWarning: Changing the sparsity structure of a csr_matrix is expensive. lil_matrix is more efficient.\n",
      "  self._set_arrayXarray(i, j, x)\n",
      "/usr/local/lib/python3.8/dist-packages/scipy/sparse/_index.py:124: SparseEfficiencyWarning: Changing the sparsity structure of a csr_matrix is expensive. lil_matrix is more efficient.\n",
      "  self._set_arrayXarray(i, j, x)\n"
     ]
    },
    {
     "name": "stdout",
     "output_type": "stream",
     "text": [
      "(2708, 1433)\n",
      "(2708, 2708)\n",
      "(2708, 7)\n",
      "140\n",
      "210\n",
      "2358\n"
     ]
    },
    {
     "name": "stderr",
     "output_type": "stream",
     "text": [
      "/usr/local/lib/python3.8/dist-packages/scipy/sparse/_index.py:124: SparseEfficiencyWarning: Changing the sparsity structure of a csr_matrix is expensive. lil_matrix is more efficient.\n",
      "  self._set_arrayXarray(i, j, x)\n",
      "/usr/local/lib/python3.8/dist-packages/scipy/sparse/_index.py:124: SparseEfficiencyWarning: Changing the sparsity structure of a csr_matrix is expensive. lil_matrix is more efficient.\n",
      "  self._set_arrayXarray(i, j, x)\n"
     ]
    },
    {
     "data": {
      "text/plain": [
       "'\\nNumber of nodes : 2708\\nNumber of features per node : 1433 \\nNumber of labels (classes) : 7 \\n\\n------\\n\\nNumber of training samples : 140\\nNumber of validating samples : 210\\nNumber of testing samples : 2358\\n'"
      ]
     },
     "execution_count": 101,
     "metadata": {},
     "output_type": "execute_result"
    }
   ],
   "source": [
    "dataset = spektral.datasets.citation.Citation(\n",
    "    name = 'cora',\n",
    "    random_split=True, \n",
    "    normalize_x = False\n",
    ")\n",
    "\n",
    "# Node features\n",
    "features = dataset.read()[0].x\n",
    "\n",
    "# Adjacency matrix\n",
    "adj = dataset.read()[0].a.toarray()\n",
    "\n",
    "# Node-wise labels\n",
    "labels = dataset.read()[0].y\n",
    "\n",
    "# Train - val - test masks\n",
    "train_mask = dataset.mask_tr\n",
    "val_mask = dataset.mask_va\n",
    "test_mask = dataset.mask_te\n",
    "\n",
    "# Print out the shapes\n",
    "print(features.shape)\n",
    "print(adj.shape)\n",
    "print(labels.shape)\n",
    "\n",
    "print(np.sum(train_mask))\n",
    "print(np.sum(val_mask))\n",
    "print(np.sum(test_mask))\n",
    "\n",
    "'''\n",
    "Number of nodes : 2708\n",
    "Number of features per node : 1433 \n",
    "Number of labels (classes) : 7 \n",
    "\n",
    "------\n",
    "\n",
    "Number of training samples : 140\n",
    "Number of validating samples : 210\n",
    "Number of testing samples : 2358\n",
    "'''"
   ]
  },
  {
   "cell_type": "markdown",
   "metadata": {},
   "source": [
    "# Some utils functions"
   ]
  },
  {
   "cell_type": "code",
   "execution_count": 102,
   "metadata": {},
   "outputs": [],
   "source": [
    "def masked_softmax_cross_entropy(logits, labels, mask):\n",
    "    # Take the loss on the entire dataset\n",
    "    loss = tf.nn.softmax_cross_entropy_with_logits(logits=logits, labels=labels)\n",
    "    \n",
    "    # Apply the mask to take only the masked loss terms\n",
    "    mask = tf.cast(mask, dtype=tf.float32)\n",
    "    mask /= tf.reduce_mean(mask)\n",
    "    loss *= mask \n",
    "    \n",
    "    return tf.reduce_mean(loss)\n",
    "\n",
    "def masked_accuracy(logits, labels, mask):\n",
    "    # Compute correct predictions on all samples\n",
    "    correct_prediction = tf.equal(tf.argmax(logits, 1), tf.argmax(labels, 1))\n",
    "    accuracy_all = tf.cast(correct_prediction, dtype=tf.float32)\n",
    "    \n",
    "    # Mask the accuracy appropriately\n",
    "    mask = tf.cast(mask, dtype=tf.float32)\n",
    "    mask /= tf.reduce_mean(mask)\n",
    "    \n",
    "    # Compute accuracy only on the samples of interest\n",
    "    accuracy = accuracy_all * mask\n",
    "    accuracy = tf.reduce_mean(accuracy)\n",
    "    \n",
    "    return accuracy\n",
    "\n",
    "# The basic GNN unit\n",
    "def gnn(features, adj, transform, activation):\n",
    "    seq_fts = transform(features) # X @ W\n",
    "    ret_fts = tf.matmul(adj, seq_fts) # A @ (X @ W)\n",
    "    \n",
    "    outputs = activation(ret_fts) # sigma(A @ (X @ W))\n",
    "    \n",
    "    return outputs"
   ]
  },
  {
   "cell_type": "markdown",
   "metadata": {},
   "source": [
    "# Train function"
   ]
  },
  {
   "cell_type": "code",
   "execution_count": 105,
   "metadata": {},
   "outputs": [],
   "source": [
    "def train_cora(fts, adj, labels, gnn_fn, units, epochs, lr, ckpt_dir='./ckpt_gnn'):\n",
    "    layer1 = tf.keras.layers.Dense(units)\n",
    "    layer2 = tf.keras.layers.Dense(labels.shape[1])\n",
    "    \n",
    "    def cora_gnn(features, adj):\n",
    "        hidden = gnn_fn(features, adj, layer1, tf.nn.relu)\n",
    "        logits = gnn_fn(hidden, adj, layer2, tf.identity)\n",
    "        \n",
    "        return logits\n",
    "    \n",
    "    optimizer = tf.keras.optimizers.Adam(learning_rate=lr)\n",
    "    best_accuracy = 0.0\n",
    "    best_model = None\n",
    "    \n",
    "    train_losses = []\n",
    "    val_accs = []\n",
    "    test_accs = []\n",
    "    \n",
    "    for ep in range(1, epochs + 1):\n",
    "        with tf.GradientTape() as t:\n",
    "            logits = cora_gnn(features, adj)\n",
    "            loss = masked_softmax_cross_entropy(logits, labels, train_mask)\n",
    "            \n",
    "        variables = t.watched_variables()\n",
    "        grads = t.gradient(loss, variables)\n",
    "        optimizer.apply_gradients(zip(grads, variables))\n",
    "        \n",
    "        logits = cora_gnn(features, adj)\n",
    "        val_acc = masked_accuracy(logits, labels, val_mask)\n",
    "        test_acc = masked_accuracy(logits, labels, test_mask)\n",
    "        \n",
    "        if(val_acc > best_accuracy):\n",
    "            best_accuracy = val_acc\n",
    "            # best_model = model\n",
    "            \n",
    "            print(f'Epoch #[{ep}/{epochs}], Training loss : {loss.numpy():.6f}, ',\n",
    "                 f'Val accuracy : {val_acc.numpy():.6f}, Test accuracy : {test_acc.numpy():.6f}')\n",
    "            \n",
    "        # Log information\n",
    "        train_losses.append(loss.numpy())\n",
    "        val_accs.append(val_acc.numpy())\n",
    "        test_accs.append(test_acc.numpy())\n",
    "        \n",
    "    '''\n",
    "    print('Saving best model ... ')\n",
    "    if(os.path.exists(ckpt_dir)):\n",
    "        os.mkdir(ckpt_dir)\n",
    "        \n",
    "    best_model.save(os.path.join(ckpt_dir, 'model.h5'))\n",
    "    best_model.save_weights(os.path.join(ckpt_dir, 'model.weights.h5'))\n",
    "    '''\n",
    "    \n",
    "    fig, ax = plt.subplots(1, 2, figsize=(15, 5))\n",
    "    ax[0].plot(train_losses)\n",
    "    \n",
    "    ax[1].plot(val_accs, color='blue', label='Val accuracies')\n",
    "    ax[1].plot(test_accs, color='orange', label='Test accuracies')\n",
    "    \n",
    "    ax[0].set_title('Training losses')\n",
    "    ax[1].set_title('Accuracies')\n",
    "    \n",
    "    plt.legend()\n",
    "    plt.show()"
   ]
  },
  {
   "cell_type": "code",
   "execution_count": 106,
   "metadata": {},
   "outputs": [
    {
     "name": "stdout",
     "output_type": "stream",
     "text": [
      "Epoch #[1/100], Training loss : 4.787225,  Val accuracy : 0.209524, Test accuracy : 0.190840\n",
      "Epoch #[2/100], Training loss : 2.612357,  Val accuracy : 0.395238, Test accuracy : 0.368957\n",
      "Epoch #[3/100], Training loss : 1.726855,  Val accuracy : 0.466667, Test accuracy : 0.433418\n",
      "Epoch #[4/100], Training loss : 1.588158,  Val accuracy : 0.509524, Test accuracy : 0.474554\n",
      "Epoch #[5/100], Training loss : 1.466161,  Val accuracy : 0.552381, Test accuracy : 0.505937\n",
      "Epoch #[7/100], Training loss : 1.174784,  Val accuracy : 0.571429, Test accuracy : 0.561492\n",
      "Epoch #[8/100], Training loss : 1.036600,  Val accuracy : 0.600000, Test accuracy : 0.576335\n",
      "Epoch #[10/100], Training loss : 0.832515,  Val accuracy : 0.614286, Test accuracy : 0.608566\n",
      "Epoch #[11/100], Training loss : 0.754777,  Val accuracy : 0.642857, Test accuracy : 0.637404\n",
      "Epoch #[12/100], Training loss : 0.688858,  Val accuracy : 0.685714, Test accuracy : 0.662001\n",
      "Epoch #[13/100], Training loss : 0.641756,  Val accuracy : 0.704762, Test accuracy : 0.675148\n",
      "Epoch #[14/100], Training loss : 0.599038,  Val accuracy : 0.709524, Test accuracy : 0.684902\n",
      "Epoch #[15/100], Training loss : 0.559035,  Val accuracy : 0.728571, Test accuracy : 0.696352\n",
      "Epoch #[17/100], Training loss : 0.494416,  Val accuracy : 0.738095, Test accuracy : 0.695928\n",
      "Epoch #[19/100], Training loss : 0.440751,  Val accuracy : 0.757143, Test accuracy : 0.709075\n",
      "Epoch #[20/100], Training loss : 0.416379,  Val accuracy : 0.771428, Test accuracy : 0.710347\n",
      "Epoch #[21/100], Training loss : 0.395389,  Val accuracy : 0.771429, Test accuracy : 0.711195\n",
      "Epoch #[22/100], Training loss : 0.376649,  Val accuracy : 0.776190, Test accuracy : 0.714588\n",
      "Epoch #[29/100], Training loss : 0.281216,  Val accuracy : 0.780952, Test accuracy : 0.726039\n",
      "Epoch #[31/100], Training loss : 0.260504,  Val accuracy : 0.780952, Test accuracy : 0.727735\n",
      "Epoch #[32/100], Training loss : 0.250962,  Val accuracy : 0.785714, Test accuracy : 0.729855\n",
      "Epoch #[50/100], Training loss : 0.142608,  Val accuracy : 0.790476, Test accuracy : 0.744698\n",
      "Epoch #[53/100], Training loss : 0.131472,  Val accuracy : 0.795238, Test accuracy : 0.744698\n",
      "Epoch #[55/100], Training loss : 0.124740,  Val accuracy : 0.800000, Test accuracy : 0.743850\n",
      "Epoch #[58/100], Training loss : 0.115484,  Val accuracy : 0.804762, Test accuracy : 0.745547\n"
     ]
    },
    {
     "data": {
      "image/png": "[encoded data removed]",
      "text/plain": [
       "<Figure size 1080x360 with 2 Axes>"
      ]
     },
     "metadata": {
      "needs_background": "light"
     },
     "output_type": "display_data"
    }
   ],
   "source": [
    "train_cora(features, adj, labels, gnn, 64, 100, 0.001)"
   ]
  },
  {
   "cell_type": "code",
   "execution_count": null,
   "metadata": {},
   "outputs": [],
   "source": []
  }
 ],
 "metadata": {
  "kernelspec": {
   "display_name": "Python 3",
   "language": "python",
   "name": "python3"
  },
  "language_info": {
   "codemirror_mode": {
    "name": "ipython",
    "version": 3
   },
   "file_extension": ".py",
   "mimetype": "text/x-python",
   "name": "python",
   "nbconvert_exporter": "python",
   "pygments_lexer": "ipython3",
   "version": "3.8.10"
  }
 },
 "nbformat": 4,
 "nbformat_minor": 4
}
