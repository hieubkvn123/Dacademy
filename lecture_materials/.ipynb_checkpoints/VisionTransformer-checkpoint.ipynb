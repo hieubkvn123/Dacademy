{
 "cells": [
  {
   "cell_type": "markdown",
   "metadata": {},
   "source": [
    "# Import libraries"
   ]
  },
  {
   "cell_type": "code",
   "execution_count": 36,
   "metadata": {},
   "outputs": [],
   "source": [
    "import os\n",
    "import glob\n",
    "import numpy as np\n",
    "import matplotlib.pyplot as plt\n",
    "\n",
    "# Others\n",
    "from sklearn.preprocessing import LabelEncoder\n",
    "from sklearn.model_selection import train_test_split\n",
    "\n",
    "### Tensorflow dependecies ### \n",
    "import tensorflow as tf\n",
    "from tensorflow.keras.layers import *\n",
    "from tensorflow.keras.models import Model, Sequential\n",
    "from tensorflow.keras import backend as K\n",
    "from tensorflow.keras.optimizers import Adam\n",
    "\n",
    "### Some constants ###\n",
    "data_dir = \"../data/DOG_CAT_SMALL/train\"\n",
    "batch_size = 32\n",
    "d_model = 128\n",
    "img_size = 64\n",
    "patch_size = img_size // 4"
   ]
  },
  {
   "cell_type": "markdown",
   "metadata": {},
   "source": [
    "# Data Loader\n",
    "The data loader for ViT should be able to :\n",
    "- [x] Load images and resize them to 64 x 64 dimension.\n",
    "- [x] Divide each image into 16 16x16 patches (Four patches on each dimension).\n",
    "- [x] Flatten the patches -> Final dimension = (batch_size, 16, 16*16)"
   ]
  },
  {
   "cell_type": "code",
   "execution_count": 3,
   "metadata": {},
   "outputs": [],
   "source": [
    "class DataLoader:\n",
    "    def __init__(self, directory, batch_size=32, split_ratio=0.2,\n",
    "                 img_size=64, shuffle=True):\n",
    "        self.directory = directory\n",
    "        self.shuffle = shuffle\n",
    "        self.batch_size = batch_size \n",
    "        self.split_ratio = 0.2\n",
    "        self.img_size = img_size\n",
    "        self.patch_size = img_size // 4\n",
    "        self.n_classes = 10 # To be adjusted when dataset is parsed\n",
    "        \n",
    "        self.train_dataset, self.val_dataset = None, None\n",
    "        self.train_paths, self.train_labels = None, None\n",
    "        self.val_paths, self.val_labels = None, None\n",
    "        \n",
    "        self.parse_dataset()\n",
    "        \n",
    "    def map_fn(self, img, img_size):\n",
    "        # After the image has been decoded into TF tensor\n",
    "        # Regular image decoding\n",
    "        img = tf.image.resize(img, [img_size, img_size])\n",
    "        img = tf.clip_by_value(img, 0.0, 255.0)\n",
    "        \n",
    "        img = img / 127.5 - 1\n",
    "        \n",
    "        return img\n",
    "        \n",
    "    def parse_fn_with_label(self, path, label):\n",
    "        img = tf.io.read_file(path)\n",
    "        img = tf.io.decode_png(img, 3)\n",
    "        \n",
    "        img = self.map_fn(img, self.img_size)\n",
    "        label = tf.one_hot(label, depth=self.n_classes)\n",
    "        \n",
    "        return img, label\n",
    "        \n",
    "        \n",
    "    def parse_dataset(self):\n",
    "        all_imgs = glob.glob(os.path.join(data_dir, \"*\", \"*.jpg\"))\n",
    "        \n",
    "        img_paths = []\n",
    "        img_labels = []\n",
    "        for entry in all_imgs:\n",
    "            class_name = entry.split('/')[-2]\n",
    "            \n",
    "            img_labels.append(class_name)\n",
    "            img_paths.append(entry)\n",
    "        \n",
    "        img_labels = np.array(img_labels)\n",
    "        img_paths = np.array(img_paths)\n",
    "        \n",
    "        img_labels = LabelEncoder().fit_transform(img_labels).flatten()\n",
    "        \n",
    "        self.n_classes = len(np.unique(img_labels))\n",
    "        self.all_paths = img_paths\n",
    "        self.all_labels = img_labels\n",
    "        \n",
    "        # Config sets of train - val img paths and labels\n",
    "        self.train_paths, self.val_paths, self.train_labels, self.val_labels = train_test_split(\n",
    "            self.all_paths, self.all_labels, test_size = self.split_ratio)\n",
    "        \n",
    "        # Get train and val dataset\n",
    "        self.train_dataset = self.get_train_dataset()\n",
    "        self.val_dataset = self.get_val_dataset()\n",
    "        \n",
    "    def get_train_dataset(self):\n",
    "        if(self.train_dataset is None):\n",
    "            self.train_dataset = tf.data.Dataset.from_tensor_slices((self.train_paths, self.train_labels))\n",
    "            \n",
    "            if(self.shuffle):\n",
    "                self.train_dataset = self.train_dataset.shuffle(40000)\n",
    "            \n",
    "            self.train_dataset = self.train_dataset.map(self.parse_fn_with_label)\n",
    "            self.train_dataset = self.train_dataset.batch(self.batch_size)\n",
    "            self.train_dataset = self.train_dataset.repeat(1).prefetch(1)\n",
    "            \n",
    "        return self.train_dataset\n",
    "    \n",
    "    def get_val_dataset(self):\n",
    "        if(self.val_dataset is None):\n",
    "            self.val_dataset = tf.data.Dataset.from_tensor_slices((self.val_paths, self.val_labels))\n",
    "            \n",
    "            if(self.shuffle):\n",
    "                self.val_dataset = self.val_dataset.shuffle(40000)\n",
    "                \n",
    "            self.val_dataset = self.val_dataset.map(self.parse_fn_with_label)\n",
    "            self.val_dataset = self.val_dataset.batch(self.batch_size)\n",
    "            self.val_dataset = self.val_dataset.repeat(1).prefetch(1)\n",
    "            \n",
    "        return self.val_dataset\n",
    "            \n",
    "    def get_batch(self, train=True):\n",
    "        if(train):\n",
    "            images, labels = next(iter(self.train_dataset))\n",
    "        else:\n",
    "            images, labels = next(iter(self.val_dataset))\n",
    "            \n",
    "        # Flattening images into patches\n",
    "        patches = tf.image.extract_patches(\n",
    "            images=images,\n",
    "            sizes=[1, self.patch_size, self.patch_size, 1],\n",
    "            strides=[1, self.patch_size, self.patch_size, 1],\n",
    "            rates=[1, 1, 1, 1],\n",
    "            padding=\"VALID\",\n",
    "        )\n",
    "        \n",
    "        patch_dims = patches.shape[-1]\n",
    "        patches = tf.reshape(patches, [batch_size, -1, patch_dims])\n",
    "        \n",
    "        return images, patches, labels"
   ]
  },
  {
   "cell_type": "code",
   "execution_count": 4,
   "metadata": {},
   "outputs": [
    {
     "name": "stdout",
     "output_type": "stream",
     "text": [
      "(32, 64, 64, 3)\n",
      "(32, 16, 768)\n"
     ]
    }
   ],
   "source": [
    "# Create a loader and get train dataset\n",
    "loader = DataLoader(data_dir)\n",
    "images, patches, labels = loader.get_batch()\n",
    "\n",
    "print(images.shape)\n",
    "print(patches.shape)"
   ]
  },
  {
   "cell_type": "code",
   "execution_count": 5,
   "metadata": {},
   "outputs": [
    {
     "data": {
      "image/png": "[encoded data removed]",
      "text/plain": [
       "<Figure size 1152x1152 with 16 Axes>"
      ]
     },
     "metadata": {
      "needs_background": "light"
     },
     "output_type": "display_data"
    }
   ],
   "source": [
    "# Visualize sample patches\n",
    "img = (patches.numpy()[np.random.randint(0, batch_size)] + 1) * 127.5\n",
    "img = img.reshape(-1, patch_size, patch_size, 3)\n",
    "\n",
    "fig, ax = plt.subplots(4, 4, figsize=(16, 16))\n",
    "for i in range(img.shape[0]):\n",
    "    row = i // 4\n",
    "    col = i %  4\n",
    "    \n",
    "    patch = img[i].astype(np.uint8)    \n",
    "    ax[row][col].imshow(patch)\n",
    "    \n",
    "plt.tight_layout()\n",
    "plt.show()"
   ]
  },
  {
   "cell_type": "markdown",
   "metadata": {},
   "source": [
    "# Vision Transformer\n",
    "### 1. Positional embedding\n",
    "- For the sake of simplicity, we use the basic positional embedding only.\n",
    "- For even position : $PE(pos, 2i) = sin(pos/10000^{2i/d_{model}})$\n",
    "- For odd  position : $PE(pos, 2i+1) = cos(pos/10000^{2i/d_{model}})$"
   ]
  },
  {
   "cell_type": "code",
   "execution_count": 41,
   "metadata": {},
   "outputs": [
    {
     "data": {
      "text/plain": [
       "(16, 17, 128)"
      ]
     },
     "execution_count": 41,
     "metadata": {},
     "output_type": "execute_result"
    }
   ],
   "source": [
    "def pos_embedding_matrix(batch_size=16, d_model = 128, seq_len = 16):\n",
    "    # Batch-size position embedding\n",
    "    batch_pos_embs = []\n",
    "    \n",
    "    # Get the pos embedding matrix\n",
    "    pos_embs = []\n",
    "    \n",
    "    # Position 0 is reserved for classification token\n",
    "    for i in range(0, seq_len + 1):\n",
    "        pos_vec = np.array([x for x in range(1, d_model + 1)])\n",
    "        even_mask = np.array([1 if x % 2 == 0 else 0 for x in range(1, d_model + 1)])\n",
    "        odd_mask = np.array([0 if x % 2 == 0 else 1 for x in range(1, d_model + 1)])\n",
    "        \n",
    "        pos_even = np.sin(i/(10000 ** (pos_vec / d_model))) * even_mask\n",
    "        pos_odd = np.cos(i/(10000 ** ((pos_vec - 1) / d_model))) * odd_mask\n",
    "        \n",
    "        pos_emb = pos_even + pos_odd\n",
    "        pos_embs.append(pos_emb)\n",
    "        \n",
    "    for i in range(batch_size):\n",
    "        batch_pos_embs.append(pos_embs)\n",
    "\n",
    "    return np.array(batch_pos_embs)\n",
    "\n",
    "pos_embedding_matrix().shape\n"
   ]
  },
  {
   "cell_type": "markdown",
   "metadata": {},
   "source": [
    "### 2. Self-attention and multi-headed attention modules"
   ]
  },
  {
   "cell_type": "code",
   "execution_count": 30,
   "metadata": {},
   "outputs": [
    {
     "data": {
      "text/plain": [
       "TensorShape([16, 16, 128])"
      ]
     },
     "execution_count": 30,
     "metadata": {},
     "output_type": "execute_result"
    }
   ],
   "source": [
    "class SelfAttention(Model):\n",
    "    def __init__(self, d_model=128):\n",
    "        super(SelfAttention, self).__init__()\n",
    "        self.d_model = d_model\n",
    "        \n",
    "    def build(self, input_shape):\n",
    "        self.W_q = self.add_weight(shape=(input_shape[-1], self.d_model),\n",
    "                                  initializer='random_normal',\n",
    "                                  trainable=True)\n",
    "        \n",
    "        self.W_k = self.add_weight(shape=(input_shape[-1], self.d_model),\n",
    "                                  initializer='random_normal',\n",
    "                                  trainable=True)\n",
    "        \n",
    "        self.W_v = self.add_weight(shape=(input_shape[-1], self.d_model),\n",
    "                                  initializer='random_normal',\n",
    "                                  trainable=True)\n",
    "    \n",
    "    def call(self, X):\n",
    "        Q = tf.matmul(X, self.W_q) \n",
    "        K = tf.matmul(X, self.W_k) \n",
    "        V = tf.matmul(X, self.W_v) \n",
    "\n",
    "        q_k_T = tf.matmul(Q, K, transpose_b=True)\n",
    "        d_k = tf.cast(self.d_model, dtype=tf.float32)\n",
    "\n",
    "        scores = tf.nn.softmax(q_k_T / tf.math.sqrt(d_k)) \n",
    "        outputs = tf.matmul(scores, V)\n",
    "        \n",
    "        return outputs\n",
    "    \n",
    "attention = SelfAttention()\n",
    "X = tf.random.normal(shape=(16, 16, 768), dtype=tf.float32)\n",
    "attention(X).shape"
   ]
  },
  {
   "cell_type": "code",
   "execution_count": 32,
   "metadata": {},
   "outputs": [
    {
     "data": {
      "text/plain": [
       "TensorShape([16, 16, 128])"
      ]
     },
     "execution_count": 32,
     "metadata": {},
     "output_type": "execute_result"
    }
   ],
   "source": [
    "class MultiHeadedAttention(Model):\n",
    "    def __init__(self, num_heads=8, d_model=128):\n",
    "        super(MultiHeadedAttention, self).__init__()\n",
    "        self.num_heads = num_heads\n",
    "        self.d_model = d_model\n",
    "        \n",
    "    def build(self, input_shape):\n",
    "        self.W_o = self.add_weight(shape=(self.d_model * self.num_heads, self.d_model),\n",
    "                                  initializer='random_normal',\n",
    "                                  trainable=True)\n",
    "        \n",
    "        self.heads = []\n",
    "        for i in range(self.num_heads):\n",
    "            self.heads.append(SelfAttention(d_model=self.d_model))\n",
    "        \n",
    "    def call(self, X):\n",
    "        concatenated = None\n",
    "        \n",
    "        for i in range(self.num_heads):\n",
    "            output = self.heads[i](X)\n",
    "            \n",
    "            if(concatenated is None):\n",
    "                concatenated = output \n",
    "            else:\n",
    "                concatenated = tf.concat([concatenated, output], axis=-1)\n",
    "        \n",
    "        outputs = tf.matmul(concatenated, self.W_o)\n",
    "        \n",
    "        return outputs\n",
    "    \n",
    "mul_attention = MultiHeadedAttention(num_heads=8)\n",
    "X = tf.random.normal(shape=(16, 16, 768), dtype=tf.float32)\n",
    "mul_attention(X).shape"
   ]
  },
  {
   "cell_type": "markdown",
   "metadata": {},
   "source": [
    "### 3. Transformer Encoder Module"
   ]
  },
  {
   "cell_type": "code",
   "execution_count": 39,
   "metadata": {},
   "outputs": [
    {
     "data": {
      "text/plain": [
       "TensorShape([16, 16, 128])"
      ]
     },
     "execution_count": 39,
     "metadata": {},
     "output_type": "execute_result"
    }
   ],
   "source": [
    "class LayerNorm(Model):\n",
    "    def __init__(self):\n",
    "        super(LayerNorm, self).__init__()\n",
    "        \n",
    "    def call(self, X):\n",
    "        mu = tf.math.reduce_mean(X, axis=-1)\n",
    "        std = tf.math.reduce_std(X, axis=-1)\n",
    "        \n",
    "        mu = tf.expand_dims(mu, axis=2)\n",
    "        std = tf.expand_dims(std, axis=2)\n",
    "        \n",
    "        outputs = (X - mu) / std\n",
    "        \n",
    "        return outputs\n",
    "\n",
    "class EncoderModule(Model):\n",
    "    def __init__(self, num_heads=8, d_model=128):\n",
    "        super(EncoderModule, self).__init__()\n",
    "        self.num_heads = num_heads\n",
    "        self.d_model = d_model\n",
    "        \n",
    "    def build(self, input_shape):\n",
    "        self.norm1 = LayerNorm()\n",
    "        self.mha = MultiHeadedAttention(num_heads=self.num_heads)\n",
    "        self.norm2 = LayerNorm()\n",
    "        self.mlp = Sequential([\n",
    "            Dense(self.d_model),\n",
    "            ReLU(),\n",
    "            Dense(self.d_model)\n",
    "        ])\n",
    "        \n",
    "    def call(self, X):\n",
    "        outputs = self.norm1(X)\n",
    "        outputs = self.mha(outputs)\n",
    "        outputs += X # Skip connection\n",
    "        \n",
    "        outputs = self.norm2(X)\n",
    "        outputs = self.mlp(outputs)\n",
    "        \n",
    "        return outputs\n",
    "    \n",
    "encoder = EncoderModule(num_heads=8, d_model=128)\n",
    "X = tf.random.normal(shape=(16, 16, 128), dtype=tf.float32)\n",
    "encoder(X).shape"
   ]
  },
  {
   "cell_type": "markdown",
   "metadata": {},
   "source": [
    "### 4. Complete Transformer Encoder"
   ]
  },
  {
   "cell_type": "code",
   "execution_count": 43,
   "metadata": {},
   "outputs": [
    {
     "data": {
      "text/plain": [
       "<tf.Tensor: shape=(16, 16, 128), dtype=float32, numpy=\n",
       "array([[[ 2.7701802e+00, -1.1381280e+00, -7.4430466e-02, ...,\n",
       "          1.2457966e+00,  1.1435118e+00, -8.0500257e-01],\n",
       "        [ 1.5173551e+00, -7.4158561e-01,  1.6449327e+00, ...,\n",
       "          4.4437873e-01,  7.2367394e-01, -4.8282737e-01],\n",
       "        [-1.1884621e+00,  4.0817404e-01, -2.3735251e+00, ...,\n",
       "         -1.1055228e+00,  5.1612467e-02,  1.6939342e+00],\n",
       "        ...,\n",
       "        [ 6.3192475e-01, -2.2239804e+00, -3.0995977e-01, ...,\n",
       "          2.0433002e+00, -6.0620046e-01,  3.9152651e+00],\n",
       "        [ 6.4173567e-01,  1.3882267e+00, -8.4740150e-01, ...,\n",
       "          1.3192571e+00, -1.9959554e-01,  2.6600752e+00],\n",
       "        [ 1.0597446e+00,  1.5365405e+00,  1.5904897e+00, ...,\n",
       "          2.1635113e+00, -1.4986217e+00,  3.2710111e-01]],\n",
       "\n",
       "       [[-7.1588111e-01, -1.7842197e-01, -2.3405385e+00, ...,\n",
       "          3.0909044e-01,  6.9824791e-01,  1.3604360e+00],\n",
       "        [ 1.2633673e+00,  6.4801586e-01,  3.4587445e+00, ...,\n",
       "         -1.3200393e+00, -1.4114196e+00,  2.2020550e+00],\n",
       "        [-7.2736228e-01, -1.3292518e+00, -1.2276380e+00, ...,\n",
       "         -2.5879347e-01,  1.2959667e+00,  5.8750772e-01],\n",
       "        ...,\n",
       "        [ 1.7530833e+00,  2.2114434e+00,  8.5008547e-02, ...,\n",
       "         -3.9650232e-01,  2.5687196e+00, -2.7226171e-01],\n",
       "        [ 6.1079383e-01, -5.2321845e-01,  1.8615704e+00, ...,\n",
       "         -6.6780728e-01,  2.7691088e+00, -1.1347938e+00],\n",
       "        [-1.7207366e-01, -1.0643662e+00, -1.5965068e-01, ...,\n",
       "          3.6443835e-01, -8.9350569e-01,  8.0870166e-02]],\n",
       "\n",
       "       [[-4.6119756e-01, -4.3121564e-01, -7.0748824e-01, ...,\n",
       "          1.6205151e+00,  1.8119818e-01, -9.5020014e-01],\n",
       "        [-1.7595384e+00,  2.1036689e+00,  2.7584963e+00, ...,\n",
       "         -1.7487668e+00, -5.3246588e-01, -1.4215405e+00],\n",
       "        [ 8.4086967e-01,  1.9076895e+00,  1.3894014e+00, ...,\n",
       "         -3.8552833e-01, -6.6314644e-01,  1.0606799e+00],\n",
       "        ...,\n",
       "        [ 8.7041688e-01,  5.4610133e-01,  3.0295843e-01, ...,\n",
       "          1.5792775e+00,  8.9570212e-01,  1.4948435e+00],\n",
       "        [-1.1468122e+00,  7.5246239e-01, -1.3025990e+00, ...,\n",
       "         -3.3124828e-01,  1.4366665e-01,  1.0962553e+00],\n",
       "        [ 9.5260453e-01,  2.4975026e-01,  1.8501623e-01, ...,\n",
       "          4.5100570e-01, -1.5543332e+00, -2.4170904e+00]],\n",
       "\n",
       "       ...,\n",
       "\n",
       "       [[-1.0242889e+00, -7.3219872e-01, -1.6281210e+00, ...,\n",
       "          2.3299396e-01, -3.8955414e-01, -1.0884171e+00],\n",
       "        [ 1.1602403e+00,  1.5765042e+00,  1.0363939e+00, ...,\n",
       "          2.2711468e-01,  1.5094322e-01,  2.4098608e+00],\n",
       "        [ 1.5791978e+00,  1.5125513e-01, -6.3101995e-01, ...,\n",
       "         -1.0216813e+00, -6.7847353e-01, -1.1963549e+00],\n",
       "        ...,\n",
       "        [ 2.8189522e-01,  1.0358126e+00,  6.4019370e-01, ...,\n",
       "         -6.4737344e-01, -9.4242054e-01, -1.4001628e+00],\n",
       "        [-1.4266906e+00,  7.9001772e-01, -1.3241755e+00, ...,\n",
       "          1.9335885e+00,  1.8573108e-01,  2.4236202e+00],\n",
       "        [-1.6380095e+00,  1.2994293e+00,  1.4664041e+00, ...,\n",
       "         -1.7586434e+00, -4.4092116e-01,  1.1138095e+00]],\n",
       "\n",
       "       [[-7.2219700e-01, -9.2722833e-01, -5.3859657e-01, ...,\n",
       "          2.1533942e-01,  7.7820325e-01,  3.5309279e-01],\n",
       "        [ 9.6533990e-01, -1.3359352e+00, -2.7207260e+00, ...,\n",
       "          5.4438996e-01, -1.2197177e+00, -6.8998837e-01],\n",
       "        [-1.0256395e+00, -1.1383729e+00, -5.8651322e-01, ...,\n",
       "         -5.6782705e-01, -1.5061314e+00,  5.9258938e-04],\n",
       "        ...,\n",
       "        [ 1.9193244e+00,  1.8914753e-01, -1.2898610e+00, ...,\n",
       "          2.1003294e+00,  2.6942961e+00,  3.1238749e+00],\n",
       "        [ 1.4250650e+00, -2.1166000e+00,  1.2622144e+00, ...,\n",
       "         -3.4264156e-01,  1.6126468e+00, -1.0356302e+00],\n",
       "        [ 1.5717108e+00,  4.5350915e-01, -2.8766119e-01, ...,\n",
       "          6.3576263e-01, -2.7345771e-01,  3.8157165e-02]],\n",
       "\n",
       "       [[-3.7158066e-01, -2.0466739e-01, -6.6126251e-01, ...,\n",
       "         -2.7254982e+00, -5.7798934e-01,  2.0556023e+00],\n",
       "        [ 3.8452059e-01, -7.1363711e-01, -1.5309613e+00, ...,\n",
       "          1.2533528e+00, -1.5377644e-01,  4.5038626e-01],\n",
       "        [ 9.4828665e-01, -7.4942279e-01,  8.6261433e-01, ...,\n",
       "         -6.2766194e-01,  2.1808884e+00, -3.2160589e-01],\n",
       "        ...,\n",
       "        [-6.4084494e-01,  5.2884555e-01, -2.4847708e+00, ...,\n",
       "          2.7546617e-01, -4.9860525e-01, -2.4420691e+00],\n",
       "        [-1.8407222e+00,  4.3636435e-01, -9.6018350e-01, ...,\n",
       "          8.7769032e-01, -1.6311537e+00, -6.0459793e-01],\n",
       "        [-1.3987768e-01, -1.6462860e+00,  7.5139236e-01, ...,\n",
       "         -1.4956248e-01,  1.3682510e+00, -9.9576443e-01]]], dtype=float32)>"
      ]
     },
     "execution_count": 43,
     "metadata": {},
     "output_type": "execute_result"
    }
   ],
   "source": [
    "class TransformerEncoder(Model):\n",
    "    def __init__(self, L=8, d_model=128, batch_size=16):\n",
    "        super(TransformerEncoder, self).__init__()\n",
    "        self.L = L\n",
    "        self.d_model = d_model\n",
    "        self.batch_size = batch_size \n",
    "        \n",
    "    def build(self, input_shape):\n",
    "        self.linear_proj = self.add_weight(shape=(input_shape[-1], self.d_model),\n",
    "                                          initializer='random_normal',\n",
    "                                          trainable=True)\n",
    "        \n",
    "        self.cls_token = self.add_weight(shape=(self.d_model,))\n",
    "        self.pos_emb = pos_embedding_matrix()\n",
    "        \n",
    "    def call(self, X):\n",
    "        X = tf.matmul(X, self.linear_proj)\n",
    "        \n",
    "        '''\n",
    "            Concatenate the cls token to the sequence.\n",
    "        '''\n",
    "        \n",
    "        return X\n",
    "\n",
    "X = tf.random.normal(shape=(16, 16, 768), dtype=tf.float32)\n",
    "enc = TransformerEncoder()\n",
    "enc(X)"
   ]
  },
  {
   "cell_type": "code",
   "execution_count": null,
   "metadata": {},
   "outputs": [],
   "source": []
  }
 ],
 "metadata": {
  "kernelspec": {
   "display_name": "Python 3",
   "language": "python",
   "name": "python3"
  },
  "language_info": {
   "codemirror_mode": {
    "name": "ipython",
    "version": 3
   },
   "file_extension": ".py",
   "mimetype": "text/x-python",
   "name": "python",
   "nbconvert_exporter": "python",
   "pygments_lexer": "ipython3",
   "version": "3.8.10"
  }
 },
 "nbformat": 4,
 "nbformat_minor": 4
}
