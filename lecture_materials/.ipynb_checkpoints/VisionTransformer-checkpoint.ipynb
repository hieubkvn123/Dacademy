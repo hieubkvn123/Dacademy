{
 "cells": [
  {
   "cell_type": "markdown",
   "metadata": {},
   "source": [
    "# Import libraries"
   ]
  },
  {
   "cell_type": "code",
   "execution_count": 54,
   "metadata": {},
   "outputs": [],
   "source": [
    "import os\n",
    "import glob\n",
    "import numpy as np\n",
    "import matplotlib.pyplot as plt\n",
    "\n",
    "# Others\n",
    "from sklearn.preprocessing import LabelEncoder\n",
    "from sklearn.model_selection import train_test_split\n",
    "\n",
    "### Tensorflow dependecies ### \n",
    "import tensorflow as tf\n",
    "from tensorflow.keras.layers import *\n",
    "from tensorflow.keras.models import Model\n",
    "from tensorflow.keras import backend as K\n",
    "from tensorflow.keras.optimizers import Adam\n",
    "\n",
    "### Some constants ###\n",
    "data_dir = \"../data/DOG_CAT_SMALL/train\"\n",
    "batch_size = 32\n",
    "d_model = 128\n",
    "img_size = 64\n",
    "patch_size = img_size // 4"
   ]
  },
  {
   "cell_type": "markdown",
   "metadata": {},
   "source": [
    "# Data Loader\n",
    "The data loader for ViT should be able to :\n",
    "- [x] Load images and resize them to 64 x 64 dimension.\n",
    "- [x] Divide each image into 16 16x16 patches (Four patches on each dimension).\n",
    "- [x] Flatten the patches -> Final dimension = (batch_size, 16, 16*16)"
   ]
  },
  {
   "cell_type": "code",
   "execution_count": 55,
   "metadata": {},
   "outputs": [],
   "source": [
    "class DataLoader:\n",
    "    def __init__(self, directory, batch_size=32, split_ratio=0.2,\n",
    "                 img_size=64, shuffle=True):\n",
    "        self.directory = directory\n",
    "        self.shuffle = shuffle\n",
    "        self.batch_size = batch_size \n",
    "        self.split_ratio = 0.2\n",
    "        self.img_size = img_size\n",
    "        self.patch_size = img_size // 4\n",
    "        self.n_classes = 10 # To be adjusted when dataset is parsed\n",
    "        \n",
    "        self.train_dataset, self.val_dataset = None, None\n",
    "        self.train_paths, self.train_labels = None, None\n",
    "        self.val_paths, self.val_labels = None, None\n",
    "        \n",
    "        self.parse_dataset()\n",
    "        \n",
    "    def map_fn(self, img, img_size):\n",
    "        # After the image has been decoded into TF tensor\n",
    "        # Regular image decoding\n",
    "        img = tf.image.resize(img, [img_size, img_size])\n",
    "        img = tf.clip_by_value(img, 0.0, 255.0)\n",
    "        \n",
    "        img = img / 127.5 - 1\n",
    "        \n",
    "        return img\n",
    "        \n",
    "    def parse_fn_with_label(self, path, label):\n",
    "        img = tf.io.read_file(path)\n",
    "        img = tf.io.decode_png(img, 3)\n",
    "        \n",
    "        img = self.map_fn(img, self.img_size)\n",
    "        label = tf.one_hot(label, depth=self.n_classes)\n",
    "        \n",
    "        return img, label\n",
    "        \n",
    "        \n",
    "    def parse_dataset(self):\n",
    "        all_imgs = glob.glob(os.path.join(data_dir, \"*\", \"*.jpg\"))\n",
    "        \n",
    "        img_paths = []\n",
    "        img_labels = []\n",
    "        for entry in all_imgs:\n",
    "            class_name = entry.split('/')[-2]\n",
    "            \n",
    "            img_labels.append(class_name)\n",
    "            img_paths.append(entry)\n",
    "        \n",
    "        img_labels = np.array(img_labels)\n",
    "        img_paths = np.array(img_paths)\n",
    "        \n",
    "        img_labels = LabelEncoder().fit_transform(img_labels).flatten()\n",
    "        \n",
    "        self.n_classes = len(np.unique(img_labels))\n",
    "        self.all_paths = img_paths\n",
    "        self.all_labels = img_labels\n",
    "        \n",
    "        # Config sets of train - val img paths and labels\n",
    "        self.train_paths, self.val_paths, self.train_labels, self.val_labels = train_test_split(\n",
    "            self.all_paths, self.all_labels, test_size = self.split_ratio)\n",
    "        \n",
    "        # Get train and val dataset\n",
    "        self.train_dataset = self.get_train_dataset()\n",
    "        self.val_dataset = self.get_val_dataset()\n",
    "        \n",
    "    def get_train_dataset(self):\n",
    "        if(self.train_dataset is None):\n",
    "            self.train_dataset = tf.data.Dataset.from_tensor_slices((self.train_paths, self.train_labels))\n",
    "            \n",
    "            if(self.shuffle):\n",
    "                self.train_dataset = self.train_dataset.shuffle(40000)\n",
    "            \n",
    "            self.train_dataset = self.train_dataset.map(self.parse_fn_with_label)\n",
    "            self.train_dataset = self.train_dataset.batch(self.batch_size)\n",
    "            self.train_dataset = self.train_dataset.repeat(1).prefetch(1)\n",
    "            \n",
    "        return self.train_dataset\n",
    "    \n",
    "    def get_val_dataset(self):\n",
    "        if(self.val_dataset is None):\n",
    "            self.val_dataset = tf.data.Dataset.from_tensor_slices((self.val_paths, self.val_labels))\n",
    "            \n",
    "            if(self.shuffle):\n",
    "                self.val_dataset = self.val_dataset.shuffle(40000)\n",
    "                \n",
    "            self.val_dataset = self.val_dataset.map(self.parse_fn_with_label)\n",
    "            self.val_dataset = self.val_dataset.batch(self.batch_size)\n",
    "            self.val_dataset = self.val_dataset.repeat(1).prefetch(1)\n",
    "            \n",
    "        return self.val_dataset\n",
    "            \n",
    "    def get_batch(self, train=True):\n",
    "        if(train):\n",
    "            images, labels = next(iter(self.train_dataset))\n",
    "        else:\n",
    "            images, labels = next(iter(self.val_dataset))\n",
    "            \n",
    "        # Flattening images into patches\n",
    "        patches = tf.image.extract_patches(\n",
    "            images=images,\n",
    "            sizes=[1, self.patch_size, self.patch_size, 1],\n",
    "            strides=[1, self.patch_size, self.patch_size, 1],\n",
    "            rates=[1, 1, 1, 1],\n",
    "            padding=\"VALID\",\n",
    "        )\n",
    "        \n",
    "        patch_dims = patches.shape[-1]\n",
    "        patches = tf.reshape(patches, [batch_size, -1, patch_dims])\n",
    "        \n",
    "        return images, patches, labels"
   ]
  },
  {
   "cell_type": "code",
   "execution_count": 56,
   "metadata": {},
   "outputs": [
    {
     "name": "stdout",
     "output_type": "stream",
     "text": [
      "(32, 64, 64, 3)\n",
      "(32, 16, 768)\n"
     ]
    }
   ],
   "source": [
    "# Create a loader and get train dataset\n",
    "loader = DataLoader(data_dir)\n",
    "images, patches, labels = loader.get_batch()\n",
    "\n",
    "print(images.shape)\n",
    "print(patches.shape)"
   ]
  },
  {
   "cell_type": "code",
   "execution_count": 57,
   "metadata": {},
   "outputs": [
    {
     "data": {
      "image/png": "[encoded data removed]",
      "text/plain": [
       "<Figure size 1152x1152 with 16 Axes>"
      ]
     },
     "metadata": {
      "needs_background": "light"
     },
     "output_type": "display_data"
    }
   ],
   "source": [
    "# Visualize sample patches\n",
    "img = (patches.numpy()[np.random.randint(0, batch_size)] + 1) * 127.5\n",
    "img = img.reshape(-1, patch_size, patch_size, 3)\n",
    "\n",
    "fig, ax = plt.subplots(4, 4, figsize=(16, 16))\n",
    "for i in range(img.shape[0]):\n",
    "    row = i // 4\n",
    "    col = i %  4\n",
    "    \n",
    "    patch = img[i].astype(np.uint8)    \n",
    "    ax[row][col].imshow(patch)\n",
    "    \n",
    "plt.tight_layout()\n",
    "plt.show()"
   ]
  },
  {
   "cell_type": "markdown",
   "metadata": {},
   "source": [
    "# Vision Transformer\n",
    "### 1. Positional embedding\n",
    "- For the sake of simplicity, we use the basic positional embedding only.\n",
    "- For even position : $PE(pos, 2i) = sin(pos/10000^{2i/d_{model}})$\n",
    "- For odd  position : $PE(pos, 2i+1) = cos(pos/10000^{2i/d_{model}})$"
   ]
  },
  {
   "cell_type": "code",
   "execution_count": 58,
   "metadata": {},
   "outputs": [
    {
     "data": {
      "text/plain": [
       "(17, 128)"
      ]
     },
     "execution_count": 58,
     "metadata": {},
     "output_type": "execute_result"
    }
   ],
   "source": [
    "def pos_embedding_matrix(d_model = 128, seq_len = 16):\n",
    "    # Get the pos embedding matrix\n",
    "    pos_embs = []\n",
    "    \n",
    "    # Position 0 is reserved for classification token\n",
    "    for i in range(0, seq_len + 1):\n",
    "        pos_vec = np.array([x for x in range(1, d_model + 1)])\n",
    "        even_mask = np.array([1 if x % 2 == 0 else 0 for x in range(1, d_model + 1)])\n",
    "        odd_mask = np.array([0 if x % 2 == 0 else 1 for x in range(1, d_model + 1)])\n",
    "        \n",
    "        pos_even = np.sin(i/(10000 ** (pos_vec / d_model))) * even_mask\n",
    "        pos_odd = np.cos(i/(10000 ** ((pos_vec - 1) / d_model))) * odd_mask\n",
    "        \n",
    "        pos_emb = pos_even + pos_odd\n",
    "        pos_embs.append(pos_emb)\n",
    "\n",
    "    return np.array(pos_embs)\n",
    "\n",
    "pos_embedding_matrix().shape\n"
   ]
  },
  {
   "cell_type": "markdown",
   "metadata": {},
   "source": [
    "### 2. Self-attention and multi-headed attention modules"
   ]
  },
  {
   "cell_type": "code",
   "execution_count": 69,
   "metadata": {},
   "outputs": [
    {
     "data": {
      "text/plain": [
       "<tf.Tensor: shape=(16, 128), dtype=float32, numpy=\n",
       "array([[0.4675455 , 0.22670348, 0.7806182 , ..., 0.4372043 , 0.41789156,\n",
       "        0.7529271 ],\n",
       "       [0.44195548, 0.40667918, 0.78676707, ..., 0.34684977, 0.44525486,\n",
       "        0.90272486],\n",
       "       [0.32850757, 0.7673393 , 0.86861384, ..., 0.35699654, 0.52771705,\n",
       "        1.0517445 ],\n",
       "       ...,\n",
       "       [0.30401027, 0.50253904, 0.7327963 , ..., 0.4455834 , 0.46331808,\n",
       "        0.76442736],\n",
       "       [0.3926676 , 0.5377574 , 0.72865826, ..., 0.37667787, 0.40020755,\n",
       "        0.84628004],\n",
       "       [0.36368644, 0.5189054 , 0.80714506, ..., 0.27613074, 0.36249858,\n",
       "        0.9531126 ]], dtype=float32)>"
      ]
     },
     "execution_count": 69,
     "metadata": {},
     "output_type": "execute_result"
    }
   ],
   "source": [
    "class SelfAttention(Model):\n",
    "    def __init__(self, d_model=128):\n",
    "        super(SelfAttention, self).__init__()\n",
    "        self.d_model = d_model\n",
    "        \n",
    "        self.W_q = Dense(d_model, activation='relu')\n",
    "        self.W_k = Dense(d_model, activation='relu')\n",
    "        self.W_v = Dense(d_model, activation='relu')\n",
    "        \n",
    "    def call(self, x):\n",
    "        Q = self.W_q(x)\n",
    "        K = self.W_k(x)\n",
    "        V = self.W_v(x)\n",
    "        \n",
    "        q_k_T = tf.matmul(Q, tf.transpose(K))\n",
    "        d_k = tf.cast(self.d_model, dtype=tf.float32)\n",
    "        \n",
    "        score = tf.nn.softmax(q_k_T / tf.math.sqrt(d_k)) \n",
    "        output = tf.matmul(score, V)\n",
    "        \n",
    "        return output\n",
    "    \n",
    "attention = SelfAttention()\n",
    "X = tf.random.normal(shape=(16, 768), dtype=tf.float32)\n",
    "attention(X)"
   ]
  },
  {
   "cell_type": "code",
   "execution_count": null,
   "metadata": {},
   "outputs": [],
   "source": []
  }
 ],
 "metadata": {
  "kernelspec": {
   "display_name": "Python 3",
   "language": "python",
   "name": "python3"
  },
  "language_info": {
   "codemirror_mode": {
    "name": "ipython",
    "version": 3
   },
   "file_extension": ".py",
   "mimetype": "text/x-python",
   "name": "python",
   "nbconvert_exporter": "python",
   "pygments_lexer": "ipython3",
   "version": "3.8.10"
  }
 },
 "nbformat": 4,
 "nbformat_minor": 4
}
