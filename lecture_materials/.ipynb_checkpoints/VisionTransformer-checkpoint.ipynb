{
 "cells": [
  {
   "cell_type": "markdown",
   "metadata": {},
   "source": [
    "# Import libraries"
   ]
  },
  {
   "cell_type": "code",
   "execution_count": 21,
   "metadata": {},
   "outputs": [],
   "source": [
    "import os\n",
    "import glob\n",
    "import numpy as np\n",
    "import matplotlib.pyplot as plt\n",
    "\n",
    "# Others\n",
    "from sklearn.preprocessing import LabelEncoder\n",
    "from sklearn.model_selection import train_test_split\n",
    "\n",
    "### Tensorflow dependecies ### \n",
    "import tensorflow as tf\n",
    "from tensorflow.keras.layers import *\n",
    "from tensorflow.keras.models import Model\n",
    "from tensorflow.keras import backend as K\n",
    "from tensorflow.keras.optimizers import Adam\n",
    "\n",
    "### Some constants ###\n",
    "data_dir = \"../data/DOG_CAT_SMALL/train\"\n",
    "batch_size = 32"
   ]
  },
  {
   "cell_type": "markdown",
   "metadata": {},
   "source": [
    "# Data Loader\n",
    "The data loader for ViT should be able to :\n",
    "- [x] Load images and resize them to 64 x 64 dimension.\n",
    "- [ ] Divide each image into 16 16x16 patches (Four patches on each dimension).\n",
    "- [ ] Flatten the patches -> Final dimension = (batch_size, 16, 16*16)"
   ]
  },
  {
   "cell_type": "code",
   "execution_count": 45,
   "metadata": {},
   "outputs": [],
   "source": [
    "class DataLoader:\n",
    "    def __init__(self, directory, batch_size=32, split_ratio=0.2,\n",
    "                 img_size=64, shuffle=True):\n",
    "        self.directory = directory\n",
    "        self.shuffle = shuffle\n",
    "        self.batch_size = batch_size \n",
    "        self.split_ratio = 0.2\n",
    "        self.img_size = img_size\n",
    "        self.patch_size = img_size // 4\n",
    "        self.n_classes = 10 # To be adjusted when dataset is parsed\n",
    "        \n",
    "        self.train_dataset, self.val_dataset = None, None\n",
    "        self.train_paths, self.train_labels = None, None\n",
    "        self.val_paths, self.val_labels = None, None\n",
    "        \n",
    "        self.parse_dataset()\n",
    "        \n",
    "    def map_fn(self, img, img_size):\n",
    "        # After the image has been decoded into TF tensor\n",
    "        # Regular image decoding\n",
    "        img = tf.image.resize(img, [img_size, img_size])\n",
    "        img = tf.clip_by_value(img, 0.0, 255.0)\n",
    "        \n",
    "        img = img / 127.5 - 1\n",
    "        \n",
    "        return img\n",
    "        \n",
    "    def parse_fn_with_label(self, path, label):\n",
    "        img = tf.io.read_file(path)\n",
    "        img = tf.io.decode_png(img, 3)\n",
    "        \n",
    "        img = self.map_fn(img, self.img_size)\n",
    "        label = tf.one_hot(label, depth=self.n_classes)\n",
    "        \n",
    "        return img, label\n",
    "        \n",
    "        \n",
    "    def parse_dataset(self):\n",
    "        all_imgs = glob.glob(os.path.join(data_dir, \"*\", \"*.jpg\"))\n",
    "        \n",
    "        img_paths = []\n",
    "        img_labels = []\n",
    "        for entry in all_imgs:\n",
    "            class_name = entry.split('/')[-2]\n",
    "            \n",
    "            img_labels.append(class_name)\n",
    "            img_paths.append(entry)\n",
    "        \n",
    "        img_labels = np.array(img_labels)\n",
    "        img_paths = np.array(img_paths)\n",
    "        \n",
    "        img_labels = LabelEncoder().fit_transform(img_labels).flatten()\n",
    "        \n",
    "        self.n_classes = len(np.unique(img_labels))\n",
    "        self.all_paths = img_paths\n",
    "        self.all_labels = img_labels\n",
    "        \n",
    "        self.train_paths, self.val_paths, self.train_labels, self.val_labels = train_test_split(\n",
    "            self.all_paths, self.all_labels, test_size = self.split_ratio)\n",
    "        \n",
    "    def get_train_dataset(self):\n",
    "        if(self.train_dataset is None):\n",
    "            self.train_dataset = tf.data.Dataset.from_tensor_slices((self.train_paths, self.train_labels))\n",
    "            \n",
    "            if(self.shuffle):\n",
    "                self.train_dataset = self.train_dataset.shuffle(40000)\n",
    "            \n",
    "            self.train_dataset = self.train_dataset.map(self.parse_fn_with_label)\n",
    "            self.train_dataset = self.train_dataset.batch(self.batch_size)\n",
    "            self.train_dataset = self.train_dataset.repeat(1).prefetch(1)\n",
    "            \n",
    "        return self.train_dataset\n",
    "    \n",
    "    def get_val_dataset(self):\n",
    "        if(self.val_dataset is None):\n",
    "            self.val_dataset = tf.data.Dataset.from_tensor_slices((self.val_paths, self.val_labels))\n",
    "            \n",
    "            if(self.shuffle):\n",
    "                self.val_dataset = self.val_dataset.shuffle(40000)\n",
    "                \n",
    "            self.val_dataset = self.val_dataset.map(self.parse_fn_with_label)\n",
    "            self.val_dataset = self.val_dataset.batch(self.batch_size)\n",
    "            self.val_dataset = self.val_dataset.repeat(1).prefetch(1)\n",
    "            \n",
    "        return self.val_dataset\n",
    "            "
   ]
  },
  {
   "cell_type": "code",
   "execution_count": 46,
   "metadata": {},
   "outputs": [],
   "source": [
    "# Create a loader and get train dataset\n",
    "loader = DataLoader(data_dir)\n",
    "dataset = loader.get_val_dataset()"
   ]
  },
  {
   "cell_type": "code",
   "execution_count": 51,
   "metadata": {},
   "outputs": [
    {
     "name": "stdout",
     "output_type": "stream",
     "text": [
      "768\n",
      "(32, 64, 64, 3)\n",
      "(32, 16, 768)\n"
     ]
    }
   ],
   "source": [
    "# Extract sample batch and create patches\n",
    "patch_size = 16\n",
    "images, labels = next(iter(dataset))\n",
    "\n",
    "# Flattening images into patches\n",
    "patches = tf.image.extract_patches(\n",
    "    images=images,\n",
    "    sizes=[1, patch_size, patch_size, 1],\n",
    "    strides=[1, patch_size, patch_size, 1],\n",
    "    rates=[1, 1, 1, 1],\n",
    "    padding=\"VALID\",\n",
    ")\n",
    "patch_dims = patches.shape[-1]\n",
    "patches = tf.reshape(patches, [batch_size, -1, patch_dims])\n",
    "\n",
    "print(images.shape)\n",
    "print(patches.shape)"
   ]
  },
  {
   "cell_type": "code",
   "execution_count": null,
   "metadata": {},
   "outputs": [],
   "source": []
  }
 ],
 "metadata": {
  "kernelspec": {
   "display_name": "Python 3",
   "language": "python",
   "name": "python3"
  },
  "language_info": {
   "codemirror_mode": {
    "name": "ipython",
    "version": 3
   },
   "file_extension": ".py",
   "mimetype": "text/x-python",
   "name": "python",
   "nbconvert_exporter": "python",
   "pygments_lexer": "ipython3",
   "version": "3.8.10"
  }
 },
 "nbformat": 4,
 "nbformat_minor": 4
}
